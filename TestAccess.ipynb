{
 "cells": [
  {
   "cell_type": "markdown",
   "id": "af0eecab-f0ab-4ebd-8967-4989a390d765",
   "metadata": {
    "tags": []
   },
   "source": [
    "# Setup"
   ]
  },
  {
   "cell_type": "code",
   "execution_count": 9,
   "id": "eb06abe4-3a63-46c5-9b49-72241ca93ae6",
   "metadata": {},
   "outputs": [
    {
     "name": "stdout",
     "output_type": "stream",
     "text": [
      "/global/cscratch1/sd/ronitnag\n"
     ]
    }
   ],
   "source": [
    "! echo $SCRATCH"
   ]
  },
  {
   "cell_type": "code",
   "execution_count": 14,
   "id": "2279aca8-7c06-43b5-b363-e990c8a40e4d",
   "metadata": {},
   "outputs": [
    {
     "name": "stdout",
     "output_type": "stream",
     "text": [
      "/global/u2/r/ronitnag/desi\n",
      "sqlalchemy==1.4.28\n",
      "desispec==0.57.0.dev7762\n",
      "desisurvey==0.19.0.dev1131\n"
     ]
    }
   ],
   "source": [
    "#\n",
    "# Imports\n",
    "#\n",
    "import os\n",
    "from argparse import Namespace\n",
    "from types import MethodType\n",
    "import numpy as np\n",
    "import matplotlib\n",
    "import matplotlib.pyplot as plt\n",
    "from matplotlib.font_manager import fontManager, FontProperties\n",
    "from sqlalchemy import __version__ as sqlalchemy_version\n",
    "from sqlalchemy import inspect\n",
    "from sqlalchemy.sql import func\n",
    "import astropy.units as u\n",
    "from astropy.constants import c as lightspeed\n",
    "from astropy.table import Table, MaskedColumn\n",
    "#\n",
    "# DESI software\n",
    "#\n",
    "from desiutil.log import get_logger, DEBUG\n",
    "from desitarget.targetmask import (desi_mask, mws_mask, bgs_mask)\n",
    "# from desisim.spec_qa import redshifts as dsq_z\n",
    "from desisurvey import __version__ as desisurvey_version\n",
    "from desisurvey.ephem import get_ephem, get_object_interpolator\n",
    "from desisurvey.utils import get_observer\n",
    "from desispec import __version__ as desispec_version\n",
    "import desispec.database.redshift as db\n",
    "#\n",
    "# Paths to files, etc.\n",
    "#\n",
    "specprod = os.environ['SPECPROD'] = 'fuji'\n",
    "basedir = os.path.join(os.environ['DESI_SPECTRO_REDUX'], specprod)\n",
    "# surveydir = os.environ['DESISURVEY_OUTPUT'] = os.path.join(basedir, 'survey')\n",
    "# targetdir = os.path.join(basedir, 'targets')\n",
    "# fibassigndir = os.path.join(basedir, 'fiberassign')\n",
    "# os.environ['DESI_SPECTRO_REDUX'] = os.path.join(basedir, 'spectro', 'redux')\n",
    "# os.environ['DESI_SPECTRO_SIM'] = os.path.join(basedir, 'spectro', 'sim')\n",
    "# os.environ['PIXPROD'] = 'mini'\n",
    "# os.environ['SPECPROD'] = 'mini'\n",
    "# reduxdir = os.path.join(os.environ['DESI_SPECTRO_REDUX'], os.environ['SPECPROD'])\n",
    "# simdatadir = os.path.join(os.environ['DESI_SPECTRO_SIM'], os.environ['PIXPROD'])\n",
    "# os.environ['DESI_SPECTRO_DATA'] = simdatadir\n",
    "#\n",
    "# Initialize ephemerides, to find Moon, etc.\n",
    "#\n",
    "os.environ['DESISURVEY_OUTPUT'] = os.environ['SCRATCH']\n",
    "ephem = get_ephem()\n",
    "#\n",
    "# get_ephem() will run freeze_iers(), so we import these after that.\n",
    "#\n",
    "from astropy.time import Time\n",
    "from astropy.coordinates import ICRS\n",
    "#\n",
    "# Working directory.\n",
    "#\n",
    "workingdir = os.getcwd()\n",
    "print(workingdir)\n",
    "print(f'sqlalchemy=={sqlalchemy_version}')\n",
    "print(f'desispec=={desispec_version}')\n",
    "print(f'desisurvey=={desisurvey_version}')"
   ]
  },
  {
   "cell_type": "code",
   "execution_count": 54,
   "id": "17977c14-6f90-45cd-b3b3-b978a8a7b7c9",
   "metadata": {},
   "outputs": [],
   "source": [
    "#\n",
    "# For much more output, use DEBUG/verbose mode.\n",
    "#\n",
    "# db.log = get_logger(DEBUG)\n",
    "# postgresql = db.setup_db(schema=specprod, hostname='nerscdb03.nersc.gov', username='desi', verbose=True)\n",
    "db.log = get_logger()\n",
    "postgresql = db.setup_db(schema=specprod, hostname='nerscdb03.nersc.gov', username='desi')"
   ]
  },
  {
   "cell_type": "code",
   "execution_count": 55,
   "id": "53435dee-4ef3-409b-a1f7-4610812b70f6",
   "metadata": {},
   "outputs": [
    {
     "name": "stdout",
     "output_type": "stream",
     "text": [
      "fiberassign\n",
      "version\n",
      "potential\n",
      "zpix\n",
      "photometry\n",
      "frame\n",
      "target\n",
      "ztile\n",
      "tile\n",
      "exposure\n"
     ]
    }
   ],
   "source": [
    "inspector = inspect(db.engine)\n",
    "for table in inspector.get_table_names(schema=specprod):\n",
    "    print(table)"
   ]
  },
  {
   "cell_type": "code",
   "execution_count": 56,
   "id": "04fde2d2-0952-4627-9db6-8cbc81e9a326",
   "metadata": {},
   "outputs": [],
   "source": [
    "db.dbSession.rollback()"
   ]
  },
  {
   "cell_type": "code",
   "execution_count": 57,
   "id": "9ab4ff0b-7e3b-4c50-b5df-71009f7de04d",
   "metadata": {},
   "outputs": [],
   "source": [
    "valid_spectypes = {'GALAXY', 'STAR', 'QSO'}\n",
    "valid_subtypes = {'CV', 'M', 'G', 'K'}\n",
    "default_limit = 100\n",
    "# max_healpix = 45007\n",
    "# min_healpix = 683"
   ]
  },
  {
   "cell_type": "markdown",
   "id": "76f70b37-7e76-4e59-bd5c-811d22e85c00",
   "metadata": {
    "tags": []
   },
   "source": [
    "# Get Redshift(s)"
   ]
  },
  {
   "cell_type": "code",
   "execution_count": 58,
   "id": "9b061d38-3713-442f-a202-c0fe121d3c35",
   "metadata": {},
   "outputs": [],
   "source": [
    "def filter_query(q, db_ref, z_min=-1.0, z_max=6.0, spectype=None, subtype=None, limit=None, start=None, end=None):\n",
    "    \"\"\"\n",
    "    Filters query based on options and provided reference table\n",
    "    @Params:\n",
    "        q (SQLAlchemy Query): Query object to apply filters\n",
    "        db_ref (SQLAlchemy DeclarativeMeta): Table to use to apply filters (either Zpix or Ztile)\n",
    "    \n",
    "    @Returns:\n",
    "        q (SQLAlchemy Query): Query object after filters have been applied\n",
    "    \"\"\"\n",
    "    if (z_min > z_max):\n",
    "        raise ValueError(f'z_min({z_min}) must be less than z_max({z_max})')\n",
    "    if (spectype and spectype not in valid_spectypes):\n",
    "        raise ValueError(f'Spectype {spectype} is not valid. Choose from available spectypes: {valid_spectypes}')\n",
    "    \n",
    "    if (subtype and subtype not in valid_subtypes):\n",
    "        raise ValueError(f'Subtype {subtype} is not valid. Choose from available subtypes: {valid_subtypes}')\n",
    "        \n",
    "    if (spectype and subtype and spectype != 'STAR'):\n",
    "        raise ValueError('Only STAR spectype currently have subtypes')\n",
    "    \n",
    "    q = q.filter(db_ref.z >= z_min).filter(db_ref.z <= z_max)\n",
    "    if spectype:\n",
    "        q = q.filter(db_ref.spectype == spectype)\n",
    "    if subtype:\n",
    "        q = q.filter(db_ref.subtype == subtype)\n",
    "    \n",
    "    count = q.count()\n",
    "    \n",
    "    if limit is not None:\n",
    "        if start is not None and end is not None:\n",
    "            raise ValueError('Cannot handle limit and start/end arguments to filter query')\n",
    "        elif (start is not None and end is None):\n",
    "            q = q.offset(start).limit(limit)\n",
    "        elif (end is not None and start is None):\n",
    "            if end-limit < 0:\n",
    "                raise IndexError(f'Invalid end argument {end} for provided limit {limit}')\n",
    "            else:\n",
    "                q = q.offset(end-limit).limit(limit)\n",
    "        else:\n",
    "            q = q.limit(limit)\n",
    "    else:\n",
    "        if start is None and end is None:\n",
    "            q.limit(default_limit)\n",
    "        elif start is None or end is None:\n",
    "            raise ValueError(f'Must provide both start and end parameters if limit is not provided')\n",
    "        elif end <= start:\n",
    "            raise ValueError(f'Start parameter {start} must be less than end parameter {end}')\n",
    "        else:\n",
    "            q = q.offset(start).limit(end-start)\n",
    "    \n",
    "    return q"
   ]
  },
  {
   "cell_type": "markdown",
   "id": "9fbd6db1-e2b4-457c-bede-e47357d88710",
   "metadata": {
    "tags": []
   },
   "source": [
    "## By Desi TargetID"
   ]
  },
  {
   "cell_type": "code",
   "execution_count": 59,
   "id": "f98baaff-8a55-47a0-abc1-bdeb3d148a7d",
   "metadata": {},
   "outputs": [],
   "source": [
    "def getRedshiftByTargetID(targetID):\n",
    "    \"\"\" \n",
    "    @Params: \n",
    "        targetID (BIGINT): Big Integer representing which object to query for redshift\n",
    "    \n",
    "    @Returns:\n",
    "        z (DOUBLE_PRECISION): Redshift of the first object \n",
    "    \n",
    "    >>> getRedshiftByTargetID(39628525115806100)\n",
    "    -0.00199569129234795\n",
    "    \"\"\"\n",
    "    if (targetID < 0):\n",
    "        raise ValueError(f'Target ID {targetID} is invalid')\n",
    "    \n",
    "    q = db.dbSession.query(db.Zpix.z).filter(db.Zpix.targetid == targetID)\n",
    "    \n",
    "    if (q.first() is None):\n",
    "        raise ValueError(f'Target ID {targetID} was not found')\n",
    "    if (q.count() > 1):\n",
    "        print(f'More than one redshift value found for target: {targetID}. Returning first found')\n",
    "        \n",
    "    z = q[0][0]\n",
    "    return z"
   ]
  },
  {
   "cell_type": "code",
   "execution_count": 60,
   "id": "e1eb8c7d-a90b-495a-941d-bbe985345e8f",
   "metadata": {},
   "outputs": [
    {
     "data": {
      "text/plain": [
       "-0.00199569129234795"
      ]
     },
     "execution_count": 60,
     "metadata": {},
     "output_type": "execute_result"
    }
   ],
   "source": [
    "getRedshiftByTargetID(39628525115806100)"
   ]
  },
  {
   "cell_type": "markdown",
   "id": "ba908135-9292-4610-b765-99354d28a2c5",
   "metadata": {
    "tags": []
   },
   "source": [
    "## By Tile"
   ]
  },
  {
   "cell_type": "code",
   "execution_count": 74,
   "id": "76d6a916-c9ab-41b8-b464-aaaa2329a580",
   "metadata": {},
   "outputs": [],
   "source": [
    "def getRedshiftsByTileID(tileID, z_min=-1.0, z_max=6.0, spectype=None, subtype=None, limit=None, start=None, end=None):\n",
    "    \"\"\" \n",
    "    @Params: \n",
    "        tileID (INTEGER): ID of tile to search for redshifts\n",
    "    \n",
    "    @Returns:\n",
    "        z (LIST): List of 2-index Tuples (targetID, redshift) containing the targetIDs and associated \n",
    "                  redshifts for targets found in provided tileID. \n",
    "        \n",
    "    >>> getRedshiftsByTileID(123, z_min=0.5, z_max=1.0, limit=10)\n",
    "    [(39628433243771515, 0.558425506831635), (39628438595700328, 0.97135825176176), (39628427887641716, 0.512680551010025), (39628438599895678, 0.544211261060125), (39628438599893886, 0.577845438915007), (39628443943441339, 0.508753340778544), (39628443943441235, 0.553994436134818), (1070759489306628, 0.954771697564298), (39628470426273307, 0.534070688069783), (39628470422081330, 0.501235998506096)]\n",
    "    \n",
    "    \"\"\"\n",
    "    if (tileID < 1):\n",
    "        raise ValueError(f'Tile ID {tileID} is invalid')                         \n",
    "  \n",
    "    q = db.dbSession.query(db.Ztile.targetid, db.Ztile.z).filter(db.Ztile.tileid == tileID)\n",
    "    \n",
    "    if (q.first() is None):\n",
    "        raise ValueError(f'Tile ID {tileID} was not found')\n",
    "    \n",
    "    q = filter_query(q, db.Ztile, z_min=z_min, z_max=z_max, spectype=spectype, subtype=subtype, limit=limit, start=start, end=end)\n",
    "       \n",
    "    zs = q.all()\n",
    "    return zs"
   ]
  },
  {
   "cell_type": "code",
   "execution_count": 76,
   "id": "37cb287e-ab5d-402b-a745-86577d8f5c65",
   "metadata": {},
   "outputs": [
    {
     "data": {
      "text/plain": [
       "(array([ 778.,  713., 1377.,  772.,  146.,  116.,   63.,   34.,   15.,\n",
       "           6.]),\n",
       " array([-0.00453616,  0.40676285,  0.81806186,  1.22936087,  1.64065988,\n",
       "         2.0519589 ,  2.46325791,  2.87455692,  3.28585593,  3.69715494,\n",
       "         4.10845395]),\n",
       " <BarContainer object of 10 artists>)"
      ]
     },
     "execution_count": 76,
     "metadata": {},
     "output_type": "execute_result"
    },
    {
     "data": {
      "image/png": "[encoded data removed]",
      "text/plain": [
       "<Figure size 432x288 with 1 Axes>"
      ]
     },
     "metadata": {
      "needs_background": "light"
     },
     "output_type": "display_data"
    }
   ],
   "source": [
    "plt.hist([t[1] for t in getRedshiftsByTileID(330)], bins=10)"
   ]
  },
  {
   "cell_type": "markdown",
   "id": "21ab40dd-bc21-42b9-a7c4-2edc1fff0d44",
   "metadata": {
    "tags": []
   },
   "source": [
    "## By HEALPix"
   ]
  },
  {
   "cell_type": "code",
   "execution_count": 68,
   "id": "4bbbb226-761b-4176-8235-2232a4fd552d",
   "metadata": {},
   "outputs": [],
   "source": [
    "def getRedshiftsByHEALPix(healpix, z_min=-1.0, z_max=6.0, spectype=None, subtype=None, limit=None, start=None, end=None):\n",
    "    \"\"\" \n",
    "    @Params: \n",
    "        healpix (INTEGER): ID of HEALpix to search for redshifts\n",
    "    \n",
    "    @Returns:\n",
    "        z (LIST): List of 2-index Tuples (targetID, redshift) containing the targetIDs and associated \n",
    "                  redshifts for targets found in provided HEALpix.\n",
    "                  \n",
    "    >>> getRedshiftsByHEALPix(2152, z_min=0.5, z_max=1.0, limit=3)\n",
    "    [(39628473198710603, 0.804205874112604), (39628478449979314, 0.560197170373784), (39628473202901028, 0.665799925748929)]\n",
    "    \n",
    "    \"\"\"\n",
    "    if (healpix < 1): # Set healpix bounds\n",
    "        raise ValueError(f'HEALPix {healpix} is invalid')\n",
    "    \n",
    "    q = db.dbSession.query(db.Zpix.targetid, db.Zpix.z).filter(db.Zpix.healpix == healpix)\n",
    "    \n",
    "    if (q.first() is None):\n",
    "        raise ValueError(f'HEALPix ID {healpix} was not found')\n",
    "    \n",
    "    q = filter_query(q, db.Zpix, z_min=z_min, z_max=z_max, spectype=spectype, subtype=subtype, limit=limit, start=start, end=end)\n",
    "    \n",
    "    zs = q.all()\n",
    "    return zs    "
   ]
  },
  {
   "cell_type": "code",
   "execution_count": 12,
   "id": "e8d02e1d-ed47-47ae-90f4-2a0ef81d9ac2",
   "metadata": {},
   "outputs": [
    {
     "data": {
      "text/plain": [
       "(array([6., 5., 2., 4., 2., 1., 0., 0., 0., 2.]),\n",
       " array([-1.99569129e-03,  2.61041901e-01,  5.24079494e-01,  7.87117086e-01,\n",
       "         1.05015468e+00,  1.31319227e+00,  1.57622986e+00,  1.83926746e+00,\n",
       "         2.10230505e+00,  2.36534264e+00,  2.62838023e+00]),\n",
       " <BarContainer object of 10 artists>)"
      ]
     },
     "execution_count": 12,
     "metadata": {},
     "output_type": "execute_result"
    },
    {
     "data": {
      "image/png": "[encoded data removed]",
      "text/plain": [
       "<Figure size 432x288 with 1 Axes>"
      ]
     },
     "metadata": {
      "needs_background": "light"
     },
     "output_type": "display_data"
    }
   ],
   "source": [
    "plt.hist([t[1] for t in getRedshiftsByHEALPix(2152, limit=1000)], bins=10)"
   ]
  },
  {
   "cell_type": "markdown",
   "id": "e9b7b990-0e0b-439b-b80e-860cc01bce86",
   "metadata": {
    "tags": []
   },
   "source": [
    "## By RA and DEC"
   ]
  },
  {
   "cell_type": "code",
   "execution_count": 23,
   "id": "097e6923-3f5f-447a-a35d-9a09816e77e1",
   "metadata": {},
   "outputs": [],
   "source": [
    "def getRedshiftsByRADEC(ra, dec, radius=0.01, z_min=-1.0, z_max=6.0, spectype=None, subtype=None, limit=None, start=None, end=None):\n",
    "    \"\"\" \n",
    "    @Params: \n",
    "        ra (DOUBLE_PRECISION): Right Ascension of the center of cone to search for targets in degrees\n",
    "        dec (DOUBLE_PRECISION): Declination of the center of cone to search for targets in degrees\n",
    "        radius (DOUBLE_PRECISION): Radius of cone to search of targets in degrees\n",
    "    \n",
    "    @Returns:\n",
    "        results (LIST): List of 4-indexed tuples containing (targetID, ra, dec, redshift) for targets found\n",
    "                        in cone search of the provided ra, dec, radius\n",
    "    \n",
    "    >>> getRedshiftsByRADEC(178, 28, 0.2)\n",
    "    [(39628438369209963, 178.20296293969, 28.0457875134468, -0.00199569129234795), (39628438369210160, 178.211062108015, 28.0054208609781, 1.55448584232623)]\n",
    "    \"\"\"\n",
    "    if (ra > 360 or ra < 0):\n",
    "        raise ValueError(f'Invalid Right Ascension {ra}')\n",
    "    elif (dec > 90 or dec < -90):\n",
    "        raise ValueError(f'Invalid Declination {dec}')\n",
    "    elif (radius < 0):\n",
    "        raise ValueError(f'Invalid Radius {radius}')\n",
    "    \n",
    "    q = db.dbSession.query(db.Photometry.targetid, db.Photometry.ra, db.Photometry.dec, db.Zpix.z)\n",
    "    q = q.join(db.Zpix).filter(func.q3c_radial_query(db.Photometry.ra, db.Photometry.dec, ra, dec, radius))\n",
    "    \n",
    "    if (q.first() is None):\n",
    "        raise ValueError(f'No objects found at RA {ra} and DEC {dec} within radius {radius}')\n",
    "        \n",
    "    q = filter_query(q, db.Zpix, z_min=z_min, z_max=z_max, spectype=spectype, subtype=subtype, limit=limit, start=start, end=end) \n",
    "    \n",
    "    results = q.all()\n",
    "    return results    "
   ]
  },
  {
   "cell_type": "code",
   "execution_count": 24,
   "id": "aadce386-8809-473a-a2f9-7c9678bafc30",
   "metadata": {},
   "outputs": [],
   "source": [
    "def plotRedshiftsByRADEC(ra, dec, vmin=None, vmax=None, cmap='RdBu_r', c=None, radius=0.1, z_min=-1.0, z_max=6.0, spectype=None, subtype=None, limit=None):\n",
    "    results = getRedshiftsByRADEC(ra, dec, radius=radius, z_min=z_min, z_max=z_max, spectype=spectype, subtype=subtype, limit=limit)\n",
    "    ra = []\n",
    "    dec = []\n",
    "    z = []\n",
    "    count = 0\n",
    "    for target in results:\n",
    "        count += 1\n",
    "        ra.append(target[1])\n",
    "        dec.append(target[2])\n",
    "        z.append(target[3])\n",
    "    \n",
    "    if c:\n",
    "        c = list(map(c, z))\n",
    "    else:\n",
    "        c = z\n",
    "        \n",
    "    if vmin and vmax:\n",
    "        fig = plt.scatter(x=ra, y=dec, c=c, cmap='RdBu_r', vmin=vmin, vmax=vmax)\n",
    "    elif vmin:\n",
    "        fig = plt.scatter(x=ra, y=dec, c=c, cmap='RdBu_r', vmin=vmin)\n",
    "    elif vmax:\n",
    "        fig = plt.scatter(x=ra, y=dec, c=c, cmap='RdBu_r', vmax=vmax)\n",
    "    else:\n",
    "        fig = plt.scatter(x=ra, y=dec, c=c, cmap='RdBu_r')\n",
    "        \n",
    "    plt.colorbar(fig)\n",
    "    plt.tight_layout()\n",
    "    print(f'Found {count} targets')\n",
    "    "
   ]
  },
  {
   "cell_type": "code",
   "execution_count": 25,
   "id": "1783022e-76a8-44f7-bf73-ddd981b94d6a",
   "metadata": {},
   "outputs": [
    {
     "name": "stdout",
     "output_type": "stream",
     "text": [
      "Found 10 targets\n"
     ]
    },
    {
     "data": {
      "image/png": "[encoded data removed]",
      "text/plain": [
       "<Figure size 432x288 with 2 Axes>"
      ]
     },
     "metadata": {
      "needs_background": "light"
     },
     "output_type": "display_data"
    }
   ],
   "source": [
    "plotRedshiftsByRADEC(160, 30, radius=2.5, spectype='QSO', limit=10)"
   ]
  },
  {
   "cell_type": "markdown",
   "id": "aa21d198-50d8-462b-ad69-0ab3eeb202a7",
   "metadata": {},
   "source": [
    "# Notes\n",
    "- Redshift given in redshift units 1+z\n",
    "- Need to make sure methods check in more tables incase targets are not in current table\n",
    "- Add method to get portions of the query\n",
    "- Add cache system for repeated queries"
   ]
  },
  {
   "cell_type": "markdown",
   "id": "e14288ed-6c4d-4499-9287-1bff3f2279eb",
   "metadata": {
    "tags": []
   },
   "source": [
    "# Testing"
   ]
  },
  {
   "cell_type": "code",
   "execution_count": 17,
   "id": "eab8df07-368a-4274-9597-9b8186b241e7",
   "metadata": {},
   "outputs": [],
   "source": [
    "import doctest"
   ]
  },
  {
   "cell_type": "code",
   "execution_count": 80,
   "id": "64ef58f9-5341-44ab-bddc-a0f347e84ad6",
   "metadata": {},
   "outputs": [
    {
     "data": {
      "text/plain": [
       "TestResults(failed=0, attempted=11)"
      ]
     },
     "execution_count": 80,
     "metadata": {},
     "output_type": "execute_result"
    }
   ],
   "source": [
    "doctest.testmod(optionflags=doctest.ELLIPSIS)"
   ]
  },
  {
   "cell_type": "code",
   "execution_count": 88,
   "id": "3d81d0aa-2b6f-4806-9f66-11b35ab53eb0",
   "metadata": {},
   "outputs": [
    {
     "data": {
      "text/plain": [
       "TestResults(failed=0, attempted=16)"
      ]
     },
     "execution_count": 88,
     "metadata": {},
     "output_type": "execute_result"
    }
   ],
   "source": [
    "with open('TestAccessTests.txt', 'r') as file:\n",
    "    tests = file.read()\n",
    "dtp = doctest.DocTestParser()\n",
    "globs = globals()\n",
    "dt = dtp.get_doctest(string=tests, globs=globs, name=\"Test Access\", filename=\"TestAccessTests.txt\", lineno=None)\n",
    "dtr = doctest.DocTestRunner(optionflags=doctest.ELLIPSIS)\n",
    "dtr.run(dt)"
   ]
  },
  {
   "cell_type": "code",
   "execution_count": 20,
   "id": "8457630f-6411-4ead-addb-6d58e181ee0f",
   "metadata": {},
   "outputs": [],
   "source": [
    "def SQLNumConvert(item):\n",
    "    if item.find('.') != -1:\n",
    "        return float(item)\n",
    "    else:\n",
    "        return int(item)\n",
    "\n",
    "def convertSQLresponse(s):\n",
    "    \"\"\"\n",
    "    @Params:\n",
    "        s (String): SQL outptut string with vertical bar | seperators for columns and new lines \\n for rows\n",
    "    \n",
    "    @Returns:\n",
    "        None\n",
    "    \n",
    "    @Side Effects:\n",
    "        -Prints rows of SQL query as list of tuples for each row.\n",
    "    \"\"\"\n",
    "    items = list(filter(lambda x:x!='', s.split(' ')))\n",
    "    rows = []\n",
    "    row = []\n",
    "    for item in items:\n",
    "        if item.find('\\n') != -1:\n",
    "            item = SQLNumConvert(item)\n",
    "            row.append(item)\n",
    "            rows.append(tuple(row))\n",
    "            row = []\n",
    "        elif item != '|':\n",
    "            row.append(SQLNumConvert(item))\n",
    "    if row != []:\n",
    "        rows.append(tuple(row))\n",
    "    print(rows)\n",
    "    "
   ]
  },
  {
   "cell_type": "code",
   "execution_count": 76,
   "id": "3e5f8aec-cc7c-4e09-b51d-618277cc282a",
   "metadata": {},
   "outputs": [
    {
     "name": "stdout",
     "output_type": "stream",
     "text": [
      "[(39628438369209963, 178.20296293969, 28.0457875134468, -0.00199569129234795), (39628438369210160, 178.211062108015, 28.0054208609781, 1.55448584232623)]\n"
     ]
    }
   ],
   "source": [
    "convertSQLresponse(\n",
    " \"\"\"39628438369209963 |  178.20296293969 | 28.0457875134468 | -0.00199569129234795\n",
    " 39628438369210160 | 178.211062108015 | 28.0054208609781 |     1.55448584232623\"\"\")"
   ]
  },
  {
   "cell_type": "code",
   "execution_count": null,
   "id": "ccc42221-6666-49b7-b9c6-927188ed263d",
   "metadata": {},
   "outputs": [],
   "source": []
  },
  {
   "cell_type": "code",
   "execution_count": null,
   "id": "c78aac11-5221-42fa-b871-65f6b8534cb7",
   "metadata": {},
   "outputs": [],
   "source": []
  }
 ],
 "metadata": {
  "kernelspec": {
   "display_name": "DESI main",
   "language": "python",
   "name": "desi-main"
  },
  "language_info": {
   "codemirror_mode": {
    "name": "ipython",
    "version": 3
   },
   "file_extension": ".py",
   "mimetype": "text/x-python",
   "name": "python",
   "nbconvert_exporter": "python",
   "pygments_lexer": "ipython3",
   "version": "3.9.7"
  }
 },
 "nbformat": 4,
 "nbformat_minor": 5
}
