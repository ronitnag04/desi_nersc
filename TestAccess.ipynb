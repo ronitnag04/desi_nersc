{
 "cells": [
  {
   "cell_type": "markdown",
   "id": "af0eecab-f0ab-4ebd-8967-4989a390d765",
   "metadata": {
    "tags": []
   },
   "source": [
    "# Setup"
   ]
  },
  {
   "cell_type": "code",
   "execution_count": 1,
   "id": "96b45718-38c8-48cf-9c79-60a68cc0901a",
   "metadata": {},
   "outputs": [],
   "source": [
    "import os\n",
    "import matplotlib\n",
    "import matplotlib.pyplot as plt\n",
    "from sqlalchemy.sql import func\n",
    "# DESI software\n",
    "# from desiutil.log import get_logger\n",
    "import desispec.database.redshift as db\n",
    "specprod = 'fuji'"
   ]
  },
  {
   "cell_type": "code",
   "execution_count": 2,
   "id": "72257ccc-3c11-4414-a5a8-1c5be38d9d73",
   "metadata": {},
   "outputs": [],
   "source": [
    "from desispec.io import read_spectra, write_spectra"
   ]
  },
  {
   "cell_type": "code",
   "execution_count": 20,
   "id": "1ad33f1a-ee66-4c1e-848d-56021b6fc0f7",
   "metadata": {},
   "outputs": [
    {
     "name": "stdout",
     "output_type": "stream",
     "text": [
      "INFO:spectra.py:291:read_spectra: iotime 0.023 sec to read tmpqo5td_zn.fits at 2023-04-18T01:33:48.733662\n"
     ]
    }
   ],
   "source": [
    "s = read_spectra('tmpqo5td_zn.fits', single=True)"
   ]
  },
  {
   "cell_type": "code",
   "execution_count": 14,
   "id": "e8fcb350-490c-4cfe-a59c-98d37b509ecc",
   "metadata": {},
   "outputs": [],
   "source": [
    "import matplotlib.pyplot as plt"
   ]
  },
  {
   "cell_type": "code",
   "execution_count": 29,
   "id": "cc8fa1a4-043a-429b-b4d3-2eb505c792b6",
   "metadata": {},
   "outputs": [
    {
     "data": {
      "text/plain": [
       "{'SIMPLE': True,\n",
       " 'BITPIX': 8,\n",
       " 'NAXIS': 0,\n",
       " 'EXTEND': True,\n",
       " 'SPGRP': 'cumulative',\n",
       " 'SPGRPVAL': 20210507,\n",
       " 'NIGHT': 20210507,\n",
       " 'TILEID': 543,\n",
       " 'SPECTRO': 8,\n",
       " 'PETAL': 8,\n",
       " 'DEPNAM00': 'python',\n",
       " 'DEPVER00': '3.10.11',\n",
       " 'DEPNAM01': 'numpy',\n",
       " 'DEPVER01': '1.22.4',\n",
       " 'DEPNAM02': 'scipy',\n",
       " 'DEPVER02': '1.8.1',\n",
       " 'DEPNAM03': 'astropy',\n",
       " 'DEPVER03': '5.2.1',\n",
       " 'DEPNAM04': 'yaml',\n",
       " 'DEPVER04': '6.0',\n",
       " 'DEPNAM05': 'matplotlib',\n",
       " 'DEPVER05': '3.6.2',\n",
       " 'DEPNAM06': 'fitsio',\n",
       " 'DEPVER06': '1.1.8',\n",
       " 'DEPNAM07': 'mpi4py',\n",
       " 'DEPVER07': '3.1.3',\n",
       " 'DEPNAM08': 'healpy',\n",
       " 'DEPVER08': '1.15.0',\n",
       " 'DEPNAM09': 'desiutil',\n",
       " 'DEPVER09': '3.2.7.dev998',\n",
       " 'DEPNAM10': 'desispec',\n",
       " 'DEPVER10': '0.57.0.dev7802',\n",
       " 'DEPNAM11': 'desitarget',\n",
       " 'DEPVER11': '2.6.0.dev5440',\n",
       " 'DEPNAM12': 'desimodel',\n",
       " 'DEPVER12': '0.18.0.dev702',\n",
       " 'DEPNAM13': 'specter',\n",
       " 'DEPVER13': '0.10.0',\n",
       " 'DEPNAM14': 'speclite',\n",
       " 'DEPVER14': '',\n",
       " 'DEPNAM15': 'DESI_ROOT',\n",
       " 'DEPVER15': 'NOT_SET',\n",
       " 'DEPNAM16': 'DESI_SPECTRO_DATA',\n",
       " 'DEPVER16': 'NOT_SET',\n",
       " 'DEPNAM17': 'DESI_SPECTRO_REDUX',\n",
       " 'DEPVER17': 'NOT_SET',\n",
       " 'DEPNAM18': 'SPECPROD',\n",
       " 'DEPVER18': 'NOT_SET',\n",
       " 'DEPNAM19': 'DESI_SPECTRO_CALIB',\n",
       " 'DEPVER19': 'NOT_SET',\n",
       " 'DEPNAM20': 'DESI_BASIS_TEMPLATES',\n",
       " 'DEPVER20': 'NOT_SET',\n",
       " 'DEPNAM21': 'DESI_TARGET',\n",
       " 'DEPVER21': 'NOT_SET',\n",
       " 'DEPNAM22': 'DESIMODEL',\n",
       " 'DEPVER22': 'NOT_SET',\n",
       " 'CHECKSUM': '9BgP99fM9AfM97fM',\n",
       " 'DATASUM': '0',\n",
       " 'FIBERMIN': 4000,\n",
       " 'INFIL000': 'spectra-8-543-thru20210507.fits',\n",
       " 'LONGSTRN': 'OGIP 1.0',\n",
       " 'DEPNAM23': 'psycopg2',\n",
       " 'DEPVER23': '2.9.3 (dt dec pq3 ext lo64)'}"
      ]
     },
     "execution_count": 29,
     "metadata": {},
     "output_type": "execute_result"
    }
   ],
   "source": [
    "s.meta"
   ]
  },
  {
   "cell_type": "code",
   "execution_count": null,
   "id": "4d66550c-df94-4cc4-97b5-4870e6a99ae4",
   "metadata": {},
   "outputs": [
    {
     "name": "stdout",
     "output_type": "stream",
     "text": [
      "0\n",
      "100\n",
      "200\n",
      "300\n",
      "400\n",
      "500\n",
      "600\n"
     ]
    }
   ],
   "source": [
    "i = 0\n",
    "for spec in s:\n",
    "    if i % 100 == 0:\n",
    "        print(i)\n",
    "    i += 1\n",
    "print(i)"
   ]
  },
  {
   "cell_type": "code",
   "execution_count": 84,
   "id": "ff50273e-02b2-430a-bbf4-9338532d829f",
   "metadata": {},
   "outputs": [
    {
     "name": "stdout",
     "output_type": "stream",
     "text": [
      "tesasda\n"
     ]
    }
   ],
   "source": [
    "try:\n",
    "    raise ValueError(\"tesasda\")\n",
    "except ValueError as err:\n",
    "    print(str(err))"
   ]
  },
  {
   "cell_type": "code",
   "execution_count": 2,
   "id": "ac60a9e7-3d0a-4e13-894d-382beeeef39a",
   "metadata": {},
   "outputs": [],
   "source": [
    "from flask import jsonify"
   ]
  },
  {
   "cell_type": "code",
   "execution_count": null,
   "id": "e3131b7e-26cf-4ecd-b981-fc21c8d31987",
   "metadata": {},
   "outputs": [],
   "source": []
  },
  {
   "cell_type": "code",
   "execution_count": 3,
   "id": "b4f559e2-de78-42cf-b9ec-5b36ef23e639",
   "metadata": {},
   "outputs": [],
   "source": [
    "import numpy as np"
   ]
  },
  {
   "cell_type": "code",
   "execution_count": 4,
   "id": "25c8d8db-ef47-4925-a91a-9654c31f3103",
   "metadata": {},
   "outputs": [],
   "source": [
    "import types \n",
    "from types import MethodType"
   ]
  },
  {
   "cell_type": "code",
   "execution_count": 5,
   "id": "d2991498-68d1-404e-8e22-dcb28f1c5c33",
   "metadata": {},
   "outputs": [
    {
     "data": {
      "text/plain": [
       "'/global/common/software/desi/cori/desiconda/20211217-2.0.0/code/desispec/main/py/desispec/database/redshift.py'"
      ]
     },
     "execution_count": 5,
     "metadata": {},
     "output_type": "execute_result"
    }
   ],
   "source": [
    "db.__file__"
   ]
  },
  {
   "cell_type": "code",
   "execution_count": 6,
   "id": "4195139b-9795-41fa-a2c6-3b12e34ba064",
   "metadata": {},
   "outputs": [],
   "source": [
    "def getPythonPath():\n",
    "    DESI_SOFTWARE_PATH = '/global/common/software/desi/perlmutter/desiconda/'\n",
    "    paths = []\n",
    "    for path in os.environ['PYTHONPATH'].split(':'):\n",
    "        paths.append(path.split(DESI_SOFTWARE_PATH)[-1])\n",
    "\n",
    "    for path in paths:\n",
    "        print('ENV PYTHONPATH \"${PYTHONPATH}' +':/srv/desiconda/' + path +'\"')\n",
    "\n",
    "#getPythonPath()"
   ]
  },
  {
   "cell_type": "code",
   "execution_count": 7,
   "id": "3d2c9876-e2f5-49bb-86ad-1996e5f1222a",
   "metadata": {
    "jp-MarkdownHeadingCollapsed": true,
    "tags": []
   },
   "outputs": [
    {
     "data": {
      "text/plain": [
       "\"\\n#\\n# Imports\\n#\\nimport os\\nfrom argparse import Namespace\\nfrom types import MethodType\\nimport numpy as np\\nimport matplotlib\\nimport matplotlib.pyplot as plt\\nfrom matplotlib.font_manager import fontManager, FontProperties\\nfrom sqlalchemy import __version__ as sqlalchemy_version\\nfrom sqlalchemy import inspect\\nfrom sqlalchemy.sql import func\\nimport astropy.units as u\\nfrom astropy.constants import c as lightspeed\\nfrom astropy.table import Table, MaskedColumn\\n#\\n# DESI software\\n#\\nfrom desiutil.log import get_logger, DEBUG\\nfrom desitarget.targetmask import (desi_mask, mws_mask, bgs_mask)\\n# from desisim.spec_qa import redshifts as dsq_z\\nfrom desisurvey import __version__ as desisurvey_version\\nfrom desisurvey.ephem import get_ephem, get_object_interpolator\\nfrom desisurvey.utils import get_observer\\nfrom desispec import __version__ as desispec_version\\nimport desispec.database.redshift as db\\n#\\n# Paths to files, etc.\\n#\\nspecprod = os.environ['SPECPROD'] = 'fuji'\\nbasedir = os.path.join(os.environ['DESI_SPECTRO_REDUX'], specprod)\\n# surveydir = os.environ['DESISURVEY_OUTPUT'] = os.path.join(basedir, 'survey')\\n# targetdir = os.path.join(basedir, 'targets')\\n# fibassigndir = os.path.join(basedir, 'fiberassign')\\n# os.environ['DESI_SPECTRO_REDUX'] = os.path.join(basedir, 'spectro', 'redux')\\n# os.environ['DESI_SPECTRO_SIM'] = os.path.join(basedir, 'spectro', 'sim')\\n# os.environ['PIXPROD'] = 'mini'\\n# os.environ['SPECPROD'] = 'mini'\\n# reduxdir = os.path.join(os.environ['DESI_SPECTRO_REDUX'], os.environ['SPECPROD'])\\n# simdatadir = os.path.join(os.environ['DESI_SPECTRO_SIM'], os.environ['PIXPROD'])\\n# os.environ['DESI_SPECTRO_DATA'] = simdatadir\\n#\\n# Initialize ephemerides, to find Moon, etc.\\n#\\nos.environ['DESISURVEY_OUTPUT'] = os.environ['SCRATCH']\\nephem = get_ephem()\\n#\\n# get_ephem() will run freeze_iers(), so we import these after that.\\n#\\nfrom astropy.time import Time\\nfrom astropy.coordinates import ICRS\\n#\\n# Working directory.\\n#\\nworkingdir = os.getcwd()\\nprint(workingdir)\\nprint(f'sqlalchemy=={sqlalchemy_version}')\\nprint(f'desispec=={desispec_version}')\\nprint(f'desisurvey=={desisurvey_version}')\\n\""
      ]
     },
     "execution_count": 7,
     "metadata": {},
     "output_type": "execute_result"
    }
   ],
   "source": [
    "\"\"\"\n",
    "#\n",
    "# Imports\n",
    "#\n",
    "import os\n",
    "from argparse import Namespace\n",
    "from types import MethodType\n",
    "import numpy as np\n",
    "import matplotlib\n",
    "import matplotlib.pyplot as plt\n",
    "from matplotlib.font_manager import fontManager, FontProperties\n",
    "from sqlalchemy import __version__ as sqlalchemy_version\n",
    "from sqlalchemy import inspect\n",
    "from sqlalchemy.sql import func\n",
    "import astropy.units as u\n",
    "from astropy.constants import c as lightspeed\n",
    "from astropy.table import Table, MaskedColumn\n",
    "#\n",
    "# DESI software\n",
    "#\n",
    "from desiutil.log import get_logger, DEBUG\n",
    "from desitarget.targetmask import (desi_mask, mws_mask, bgs_mask)\n",
    "# from desisim.spec_qa import redshifts as dsq_z\n",
    "from desisurvey import __version__ as desisurvey_version\n",
    "from desisurvey.ephem import get_ephem, get_object_interpolator\n",
    "from desisurvey.utils import get_observer\n",
    "from desispec import __version__ as desispec_version\n",
    "import desispec.database.redshift as db\n",
    "#\n",
    "# Paths to files, etc.\n",
    "#\n",
    "specprod = os.environ['SPECPROD'] = 'fuji'\n",
    "basedir = os.path.join(os.environ['DESI_SPECTRO_REDUX'], specprod)\n",
    "# surveydir = os.environ['DESISURVEY_OUTPUT'] = os.path.join(basedir, 'survey')\n",
    "# targetdir = os.path.join(basedir, 'targets')\n",
    "# fibassigndir = os.path.join(basedir, 'fiberassign')\n",
    "# os.environ['DESI_SPECTRO_REDUX'] = os.path.join(basedir, 'spectro', 'redux')\n",
    "# os.environ['DESI_SPECTRO_SIM'] = os.path.join(basedir, 'spectro', 'sim')\n",
    "# os.environ['PIXPROD'] = 'mini'\n",
    "# os.environ['SPECPROD'] = 'mini'\n",
    "# reduxdir = os.path.join(os.environ['DESI_SPECTRO_REDUX'], os.environ['SPECPROD'])\n",
    "# simdatadir = os.path.join(os.environ['DESI_SPECTRO_SIM'], os.environ['PIXPROD'])\n",
    "# os.environ['DESI_SPECTRO_DATA'] = simdatadir\n",
    "#\n",
    "# Initialize ephemerides, to find Moon, etc.\n",
    "#\n",
    "os.environ['DESISURVEY_OUTPUT'] = os.environ['SCRATCH']\n",
    "ephem = get_ephem()\n",
    "#\n",
    "# get_ephem() will run freeze_iers(), so we import these after that.\n",
    "#\n",
    "from astropy.time import Time\n",
    "from astropy.coordinates import ICRS\n",
    "#\n",
    "# Working directory.\n",
    "#\n",
    "workingdir = os.getcwd()\n",
    "print(workingdir)\n",
    "print(f'sqlalchemy=={sqlalchemy_version}')\n",
    "print(f'desispec=={desispec_version}')\n",
    "print(f'desisurvey=={desisurvey_version}')\n",
    "\"\"\""
   ]
  },
  {
   "cell_type": "code",
   "execution_count": 8,
   "id": "17977c14-6f90-45cd-b3b3-b978a8a7b7c9",
   "metadata": {},
   "outputs": [],
   "source": [
    "#\n",
    "# For much more output, use DEBUG/verbose mode.\n",
    "#\n",
    "# db.log = get_logger(DEBUG)\n",
    "# postgresql = db.setup_db(schema=specprod, hostname='nerscdb03.nersc.gov', username='desi', verbose=True)\n",
    "# db.log = get_logger()\n",
    "postgresql = db.setup_db(schema=specprod, hostname='nerscdb03.nersc.gov', username='desi')"
   ]
  },
  {
   "cell_type": "code",
   "execution_count": 9,
   "id": "53435dee-4ef3-409b-a1f7-4610812b70f6",
   "metadata": {},
   "outputs": [
    {
     "data": {
      "text/plain": [
       "'\\ninspector = inspect(db.engine)\\nfor table in inspector.get_table_names(schema=specprod):\\n    print(table)\\n'"
      ]
     },
     "execution_count": 9,
     "metadata": {},
     "output_type": "execute_result"
    }
   ],
   "source": [
    "\"\"\"\n",
    "inspector = inspect(db.engine)\n",
    "for table in inspector.get_table_names(schema=specprod):\n",
    "    print(table)\n",
    "\"\"\""
   ]
  },
  {
   "cell_type": "code",
   "execution_count": 10,
   "id": "04fde2d2-0952-4627-9db6-8cbc81e9a326",
   "metadata": {},
   "outputs": [],
   "source": [
    "db.dbSession.rollback()"
   ]
  },
  {
   "cell_type": "code",
   "execution_count": 11,
   "id": "9ab4ff0b-7e3b-4c50-b5df-71009f7de04d",
   "metadata": {},
   "outputs": [],
   "source": [
    "valid_spectypes = {'GALAXY', 'STAR', 'QSO'}\n",
    "valid_subtypes = {'CV', 'M', 'G', 'K'}\n",
    "default_limit = 100\n",
    "# max_healpix = 45007\n",
    "# min_healpix = 683"
   ]
  },
  {
   "cell_type": "markdown",
   "id": "76f70b37-7e76-4e59-bd5c-811d22e85c00",
   "metadata": {
    "tags": []
   },
   "source": [
    "# Get Redshift(s)"
   ]
  },
  {
   "cell_type": "code",
   "execution_count": 12,
   "id": "9b061d38-3713-442f-a202-c0fe121d3c35",
   "metadata": {},
   "outputs": [],
   "source": [
    "def filter_query(q, db_ref, z_min=-1.0, z_max=6.0, spectype=None, subtype=None, limit=None, start=None, end=None):\n",
    "    \"\"\"\n",
    "    Filters query based on options and provided reference table\n",
    "    @Params:\n",
    "        q (SQLAlchemy Query): Query object to apply filters\n",
    "        db_ref (SQLAlchemy DeclarativeMeta): Table to use to apply filters (either Zpix or Ztile)\n",
    "    \n",
    "    @Returns:\n",
    "        q (SQLAlchemy Query): Query object after filters have been applied\n",
    "    \"\"\"\n",
    "    if (z_min > z_max):\n",
    "        raise ValueError(f'z_min({z_min}) must be less than z_max({z_max})')\n",
    "    if (spectype and spectype not in valid_spectypes):\n",
    "        raise ValueError(f'Spectype {spectype} is not valid. Choose from available spectypes: {valid_spectypes}')\n",
    "    \n",
    "    if (subtype and subtype not in valid_subtypes):\n",
    "        raise ValueError(f'Subtype {subtype} is not valid. Choose from available subtypes: {valid_subtypes}')\n",
    "        \n",
    "    if (spectype and subtype and spectype != 'STAR'):\n",
    "        raise ValueError('Only STAR spectype currently have subtypes')\n",
    "    \n",
    "    q = q.filter(db_ref.z >= z_min).filter(db_ref.z <= z_max)\n",
    "    if spectype:\n",
    "        q = q.filter(db_ref.spectype == spectype)\n",
    "    if subtype:\n",
    "        q = q.filter(db_ref.subtype == subtype)\n",
    "    \n",
    "    count = q.count()\n",
    "    \n",
    "    if limit is not None:\n",
    "        if start is not None and end is not None:\n",
    "            raise ValueError('Cannot handle limit and start/end arguments to filter query')\n",
    "        elif (start is not None and end is None):\n",
    "            q = q.offset(start).limit(limit)\n",
    "        elif (end is not None and start is None):\n",
    "            if end-limit < 0:\n",
    "                raise IndexError(f'Invalid end argument {end} for provided limit {limit}')\n",
    "            else:\n",
    "                q = q.offset(end-limit).limit(limit)\n",
    "        else:\n",
    "            q = q.limit(limit)\n",
    "    else:\n",
    "        if start is None and end is None:\n",
    "            q.limit(default_limit)\n",
    "        elif start is None or end is None:\n",
    "            raise ValueError(f'Must provide both start and end parameters if limit is not provided')\n",
    "        elif end <= start:\n",
    "            raise ValueError(f'Start parameter {start} must be less than end parameter {end}')\n",
    "        else:\n",
    "            q = q.offset(start).limit(end-start)\n",
    "    \n",
    "    return q"
   ]
  },
  {
   "cell_type": "markdown",
   "id": "9fbd6db1-e2b4-457c-bede-e47357d88710",
   "metadata": {
    "tags": []
   },
   "source": [
    "## By Desi TargetID"
   ]
  },
  {
   "cell_type": "code",
   "execution_count": 13,
   "id": "f98baaff-8a55-47a0-abc1-bdeb3d148a7d",
   "metadata": {},
   "outputs": [],
   "source": [
    "def getRedshiftByTargetID(targetID):\n",
    "    \"\"\" \n",
    "    @Params: \n",
    "        targetID (BIGINT): Big Integer representing which object to query for redshift\n",
    "    \n",
    "    @Returns:\n",
    "        z (DOUBLE_PRECISION): Redshift of the first object \n",
    "    \n",
    "    >>> getRedshiftByTargetID(39628525115806100)\n",
    "    -0.00199569129234795\n",
    "    \"\"\"\n",
    "    if (targetID < 0):\n",
    "        raise ValueError(f'Target ID {targetID} is invalid')\n",
    "    \n",
    "    q = db.dbSession.query(db.Zpix.z).filter(db.Zpix.targetid == targetID)\n",
    "    \n",
    "    if (q.first() is None):\n",
    "        raise ValueError(f'Target ID {targetID} was not found')\n",
    "    if (q.count() > 1):\n",
    "        print(f'More than one redshift value found for target: {targetID}. Returning first found')\n",
    "        \n",
    "    z = q[0][0]\n",
    "    return z"
   ]
  },
  {
   "cell_type": "code",
   "execution_count": 14,
   "id": "e1eb8c7d-a90b-495a-941d-bbe985345e8f",
   "metadata": {},
   "outputs": [
    {
     "data": {
      "text/plain": [
       "-0.00199569129234795"
      ]
     },
     "execution_count": 14,
     "metadata": {},
     "output_type": "execute_result"
    }
   ],
   "source": [
    "getRedshiftByTargetID(39628525115806100)"
   ]
  },
  {
   "cell_type": "markdown",
   "id": "ba908135-9292-4610-b765-99354d28a2c5",
   "metadata": {
    "tags": []
   },
   "source": [
    "## By Tile"
   ]
  },
  {
   "cell_type": "code",
   "execution_count": 15,
   "id": "76d6a916-c9ab-41b8-b464-aaaa2329a580",
   "metadata": {},
   "outputs": [],
   "source": [
    "def getRedshiftsByTileID(tileID, z_min=-1.0, z_max=6.0, spectype=None, subtype=None, limit=None, start=None, end=None):\n",
    "    \"\"\" \n",
    "    @Params: \n",
    "        tileID (INTEGER): ID of tile to search for redshifts\n",
    "    \n",
    "    @Returns:\n",
    "        z (LIST): List of 2-index Tuples (targetID, redshift) containing the targetIDs and associated \n",
    "                  redshifts for targets found in provided tileID. \n",
    "        \n",
    "    >>> getRedshiftsByTileID(123, z_min=0.5, z_max=1.0, limit=10)\n",
    "    [(39628433243771515, 0.558425506831635), (39628438595700328, 0.97135825176176), (39628427887641716, 0.512680551010025), (39628438599895678, 0.544211261060125), (39628438599893886, 0.577845438915007), (39628443943441339, 0.508753340778544), (39628443943441235, 0.553994436134818), (1070759489306628, 0.954771697564298), (39628470426273307, 0.534070688069783), (39628470422081330, 0.501235998506096)]\n",
    "    \n",
    "    \"\"\"\n",
    "    if (tileID < 1):\n",
    "        raise ValueError(f'Tile ID {tileID} is invalid')                         \n",
    "  \n",
    "    q = db.dbSession.query(db.Ztile.targetid, db.Ztile.z).filter(db.Ztile.tileid == tileID)\n",
    "    \n",
    "    if (q.first() is None):\n",
    "        raise ValueError(f'Tile ID {tileID} was not found')\n",
    "    \n",
    "    q = filter_query(q, db.Ztile, z_min=z_min, z_max=z_max, spectype=spectype, subtype=subtype, limit=limit, start=start, end=end)\n",
    "       \n",
    "    zs = q.all()\n",
    "    return zs"
   ]
  },
  {
   "cell_type": "code",
   "execution_count": 16,
   "id": "6ca54b46-d8fe-4847-add9-782cfd554d6e",
   "metadata": {},
   "outputs": [
    {
     "data": {
      "text/plain": [
       "[(39633149646341246, 0.840532532904315),\n",
       " (39633123209643991, -0.00199569129234795),\n",
       " (39633145267490337, 0.000441978242000794),\n",
       " (39633145271681767, -0.00199569129234795),\n",
       " (39633149637951967, 1.2497758987796)]"
      ]
     },
     "execution_count": 16,
     "metadata": {},
     "output_type": "execute_result"
    }
   ],
   "source": [
    "getRedshiftsByTileID(330, limit=5)"
   ]
  },
  {
   "cell_type": "code",
   "execution_count": 17,
   "id": "37cb287e-ab5d-402b-a745-86577d8f5c65",
   "metadata": {},
   "outputs": [
    {
     "data": {
      "text/plain": [
       "(array([ 778.,  713., 1377.,  772.,  146.,  116.,   63.,   34.,   15.,\n",
       "           6.]),\n",
       " array([-0.00453616,  0.40676285,  0.81806186,  1.22936087,  1.64065988,\n",
       "         2.0519589 ,  2.46325791,  2.87455692,  3.28585593,  3.69715494,\n",
       "         4.10845395]),\n",
       " <BarContainer object of 10 artists>)"
      ]
     },
     "execution_count": 17,
     "metadata": {},
     "output_type": "execute_result"
    },
    {
     "data": {
      "image/png": "[encoded data removed]",
      "text/plain": [
       "<Figure size 432x288 with 1 Axes>"
      ]
     },
     "metadata": {
      "needs_background": "light"
     },
     "output_type": "display_data"
    }
   ],
   "source": [
    "plt.hist([t[1] for t in getRedshiftsByTileID(330)], bins=10)"
   ]
  },
  {
   "cell_type": "markdown",
   "id": "21ab40dd-bc21-42b9-a7c4-2edc1fff0d44",
   "metadata": {
    "tags": []
   },
   "source": [
    "## By HEALPix"
   ]
  },
  {
   "cell_type": "code",
   "execution_count": 18,
   "id": "4bbbb226-761b-4176-8235-2232a4fd552d",
   "metadata": {},
   "outputs": [],
   "source": [
    "def getRedshiftsByHEALPix(healpix, z_min=-1.0, z_max=6.0, spectype=None, subtype=None, limit=None, start=None, end=None):\n",
    "    \"\"\" \n",
    "    @Params: \n",
    "        healpix (INTEGER): ID of HEALpix to search for redshifts\n",
    "    \n",
    "    @Returns:\n",
    "        z (LIST): List of 2-index Tuples (targetID, redshift) containing the targetIDs and associated \n",
    "                  redshifts for targets found in provided HEALpix.\n",
    "                  \n",
    "    >>> getRedshiftsByHEALPix(2152, z_min=0.5, z_max=1.0, limit=3)\n",
    "    [(39628473198710603, 0.804205874112604), (39628478449979314, 0.560197170373784), (39628473202901028, 0.665799925748929)]\n",
    "    \n",
    "    \"\"\"\n",
    "    if (healpix < 1): # Set healpix bounds\n",
    "        raise ValueError(f'HEALPix {healpix} is invalid')\n",
    "    \n",
    "    q = db.dbSession.query(db.Zpix.targetid, db.Zpix.z).filter(db.Zpix.healpix == healpix)\n",
    "    \n",
    "    if (q.first() is None):\n",
    "        raise ValueError(f'HEALPix ID {healpix} was not found')\n",
    "    \n",
    "    q = filter_query(q, db.Zpix, z_min=z_min, z_max=z_max, spectype=spectype, subtype=subtype, limit=limit, start=start, end=end)\n",
    "    \n",
    "    zs = q.all()\n",
    "    return zs    "
   ]
  },
  {
   "cell_type": "code",
   "execution_count": 19,
   "id": "e8d02e1d-ed47-47ae-90f4-2a0ef81d9ac2",
   "metadata": {},
   "outputs": [
    {
     "data": {
      "text/plain": [
       "(array([6., 5., 2., 4., 2., 1., 0., 0., 0., 2.]),\n",
       " array([-1.99569129e-03,  2.61041901e-01,  5.24079494e-01,  7.87117086e-01,\n",
       "         1.05015468e+00,  1.31319227e+00,  1.57622986e+00,  1.83926746e+00,\n",
       "         2.10230505e+00,  2.36534264e+00,  2.62838023e+00]),\n",
       " <BarContainer object of 10 artists>)"
      ]
     },
     "execution_count": 19,
     "metadata": {},
     "output_type": "execute_result"
    },
    {
     "data": {
      "image/png": "[encoded data removed]",
      "text/plain": [
       "<Figure size 432x288 with 1 Axes>"
      ]
     },
     "metadata": {
      "needs_background": "light"
     },
     "output_type": "display_data"
    }
   ],
   "source": [
    "plt.hist([t[1] for t in getRedshiftsByHEALPix(2152, limit=1000)], bins=10)"
   ]
  },
  {
   "cell_type": "markdown",
   "id": "e9b7b990-0e0b-439b-b80e-860cc01bce86",
   "metadata": {
    "tags": []
   },
   "source": [
    "## By RA and DEC"
   ]
  },
  {
   "cell_type": "code",
   "execution_count": 20,
   "id": "097e6923-3f5f-447a-a35d-9a09816e77e1",
   "metadata": {},
   "outputs": [],
   "source": [
    "def getRedshiftsByRADEC(ra, dec, radius=0.01, z_min=-1.0, z_max=6.0, spectype=None, subtype=None, limit=None, start=None, end=None):\n",
    "    \"\"\" \n",
    "    @Params: \n",
    "        ra (DOUBLE_PRECISION): Right Ascension of the center of cone to search for targets in degrees\n",
    "        dec (DOUBLE_PRECISION): Declination of the center of cone to search for targets in degrees\n",
    "        radius (DOUBLE_PRECISION): Radius of cone to search of targets in degrees\n",
    "    \n",
    "    @Returns:\n",
    "        results (LIST): List of 4-indexed tuples containing (targetID, ra, dec, redshift) for targets found\n",
    "                        in cone search of the provided ra, dec, radius\n",
    "    \n",
    "    >>> getRedshiftsByRADEC(178, 28, 0.2)\n",
    "    [(39628438369209963, 178.20296293969, 28.0457875134468, -0.00199569129234795), (39628438369210160, 178.211062108015, 28.0054208609781, 1.55448584232623)]\n",
    "    \"\"\"\n",
    "    if (ra > 360 or ra < 0):\n",
    "        raise ValueError(f'Invalid Right Ascension {ra}')\n",
    "    elif (dec > 90 or dec < -90):\n",
    "        raise ValueError(f'Invalid Declination {dec}')\n",
    "    elif (radius < 0):\n",
    "        raise ValueError(f'Invalid Radius {radius}')\n",
    "    \n",
    "    q = db.dbSession.query(db.Photometry.targetid, db.Photometry.ra, db.Photometry.dec, db.Zpix.z)\n",
    "    q = q.join(db.Zpix).filter(func.q3c_radial_query(db.Photometry.ra, db.Photometry.dec, ra, dec, radius))\n",
    "    \n",
    "    if (q.first() is None):\n",
    "        raise ValueError(f'No objects found at RA {ra} and DEC {dec} within radius {radius}')\n",
    "        \n",
    "    q = filter_query(q, db.Zpix, z_min=z_min, z_max=z_max, spectype=spectype, subtype=subtype, limit=limit, start=start, end=end) \n",
    "    \n",
    "    results = q.all()\n",
    "    return results    "
   ]
  },
  {
   "cell_type": "code",
   "execution_count": 21,
   "id": "aadce386-8809-473a-a2f9-7c9678bafc30",
   "metadata": {},
   "outputs": [],
   "source": [
    "def plotRedshiftsByRADEC(ra, dec, vmin=None, vmax=None, cmap='RdBu_r', c=None, radius=0.1, z_min=-1.0, z_max=6.0, spectype=None, subtype=None, limit=None):\n",
    "    results = getRedshiftsByRADEC(ra, dec, radius=radius, z_min=z_min, z_max=z_max, spectype=spectype, subtype=subtype, limit=limit)\n",
    "    ra = []\n",
    "    dec = []\n",
    "    z = []\n",
    "    count = 0\n",
    "    for target in results:\n",
    "        count += 1\n",
    "        ra.append(target[1])\n",
    "        dec.append(target[2])\n",
    "        z.append(target[3])\n",
    "    \n",
    "    if c:\n",
    "        c = list(map(c, z))\n",
    "    else:\n",
    "        c = z\n",
    "        \n",
    "    if vmin and vmax:\n",
    "        fig = plt.scatter(x=ra, y=dec, c=c, cmap='RdBu_r', vmin=vmin, vmax=vmax)\n",
    "    elif vmin:\n",
    "        fig = plt.scatter(x=ra, y=dec, c=c, cmap='RdBu_r', vmin=vmin)\n",
    "    elif vmax:\n",
    "        fig = plt.scatter(x=ra, y=dec, c=c, cmap='RdBu_r', vmax=vmax)\n",
    "    else:\n",
    "        fig = plt.scatter(x=ra, y=dec, c=c, cmap='RdBu_r')\n",
    "        \n",
    "    plt.colorbar(fig)\n",
    "    plt.tight_layout()\n",
    "    print(f'Found {count} targets')\n",
    "    "
   ]
  },
  {
   "cell_type": "code",
   "execution_count": 22,
   "id": "1783022e-76a8-44f7-bf73-ddd981b94d6a",
   "metadata": {},
   "outputs": [
    {
     "name": "stdout",
     "output_type": "stream",
     "text": [
      "Found 10 targets\n"
     ]
    },
    {
     "data": {
      "image/png": "[encoded data removed]",
      "text/plain": [
       "<Figure size 432x288 with 2 Axes>"
      ]
     },
     "metadata": {
      "needs_background": "light"
     },
     "output_type": "display_data"
    }
   ],
   "source": [
    "plotRedshiftsByRADEC(150, 30, radius=2.5, spectype='STAR', subtype='K', limit=10)"
   ]
  },
  {
   "cell_type": "markdown",
   "id": "1bd4ca73-5ee3-42c6-95c8-9f832405533f",
   "metadata": {
    "jp-MarkdownHeadingCollapsed": true,
    "tags": []
   },
   "source": [
    "# Failed Rrplot implementation"
   ]
  },
  {
   "cell_type": "code",
   "execution_count": 23,
   "id": "4dd67ae7-0e5b-4a3f-a1ee-a4bfbf7b3ae6",
   "metadata": {},
   "outputs": [
    {
     "data": {
      "text/plain": [
       "'\\nimport redrock\\nimport redrock.templates\\nimport redrock.archetypes\\nimport redrock.plotspec\\n\\ndef rrplot(specfile, rrfile, datatype=\\'desi\\', targetids=None, allspec=False, templates=None, archetypes=None, use_archetype=False): \\n\\n    class Arguments():\\n        def __init__(self, datatype, specfile, targetids, rrfile, allspec, templates, archetypes, use_archetype):\\n            self.datatype = datatype\\n            self.specfile = specfile\\n            self.targetids = targetids\\n            self.rrfile = rrfile\\n            self.allspec = allspec\\n            self.templates = templates\\n            self.archetypes = archetypes\\n            self.use_archetype = use_archetype\\n    \\n    args = Arguments(datatype, specfile, targetids, rrfile, allspec, templates, archetypes, use_archetype)\\n    \\n    #- Templates\\n    templates_path = redrock.templates.find_templates(args.templates)\\n    templates = {}\\n    for el in templates_path:\\n        t = redrock.templates.Template(filename=el)\\n        templates[t.full_type] = t\\n\\n    #- Targetids\\n    targetids = None\\n    if args.targetids is not None:\\n        targetids = [ int(x) for x in args.targetids.split(\",\") ]\\n\\n    #- Archetypes\\n    if args.use_archetype:\\n        archetypes = redrock.archetypes.All_archetypes(archetypes_dir=args.archetypes)\\n    else:\\n        archetypes = False\\n\\n    #- Data\\n    if args.datatype==\\'desi\\':\\n        from redrock.external import desi\\n        targets = desi.DistTargetsDESI(args.specfile, targetids=targetids, coadd=(not args.allspec))._my_data\\n    elif args.datatype==\\'boss\\':\\n        from redrock.external import boss\\n        targets, targetids = boss.read_spectra(args.specfile, targetids=targetids, coadd=(not args.allspec))\\n\\n    #- Redrock\\n    zscan, zfit = redrock.results.read_zscan(args.rrfile)\\n\\n    #- Plot\\n    p = redrock.plotspec.PlotSpec(targets, templates, zscan, zfit, archetypes=archetypes)\\n'"
      ]
     },
     "execution_count": 23,
     "metadata": {},
     "output_type": "execute_result"
    }
   ],
   "source": [
    "\"\"\"\n",
    "import redrock\n",
    "import redrock.templates\n",
    "import redrock.archetypes\n",
    "import redrock.plotspec\n",
    "\n",
    "def rrplot(specfile, rrfile, datatype='desi', targetids=None, allspec=False, templates=None, archetypes=None, use_archetype=False): \n",
    "\n",
    "    class Arguments():\n",
    "        def __init__(self, datatype, specfile, targetids, rrfile, allspec, templates, archetypes, use_archetype):\n",
    "            self.datatype = datatype\n",
    "            self.specfile = specfile\n",
    "            self.targetids = targetids\n",
    "            self.rrfile = rrfile\n",
    "            self.allspec = allspec\n",
    "            self.templates = templates\n",
    "            self.archetypes = archetypes\n",
    "            self.use_archetype = use_archetype\n",
    "    \n",
    "    args = Arguments(datatype, specfile, targetids, rrfile, allspec, templates, archetypes, use_archetype)\n",
    "    \n",
    "    #- Templates\n",
    "    templates_path = redrock.templates.find_templates(args.templates)\n",
    "    templates = {}\n",
    "    for el in templates_path:\n",
    "        t = redrock.templates.Template(filename=el)\n",
    "        templates[t.full_type] = t\n",
    "\n",
    "    #- Targetids\n",
    "    targetids = None\n",
    "    if args.targetids is not None:\n",
    "        targetids = [ int(x) for x in args.targetids.split(\",\") ]\n",
    "\n",
    "    #- Archetypes\n",
    "    if args.use_archetype:\n",
    "        archetypes = redrock.archetypes.All_archetypes(archetypes_dir=args.archetypes)\n",
    "    else:\n",
    "        archetypes = False\n",
    "\n",
    "    #- Data\n",
    "    if args.datatype=='desi':\n",
    "        from redrock.external import desi\n",
    "        targets = desi.DistTargetsDESI(args.specfile, targetids=targetids, coadd=(not args.allspec))._my_data\n",
    "    elif args.datatype=='boss':\n",
    "        from redrock.external import boss\n",
    "        targets, targetids = boss.read_spectra(args.specfile, targetids=targetids, coadd=(not args.allspec))\n",
    "\n",
    "    #- Redrock\n",
    "    zscan, zfit = redrock.results.read_zscan(args.rrfile)\n",
    "\n",
    "    #- Plot\n",
    "    p = redrock.plotspec.PlotSpec(targets, templates, zscan, zfit, archetypes=archetypes)\n",
    "\"\"\""
   ]
  },
  {
   "cell_type": "code",
   "execution_count": 24,
   "id": "ba375d07-0c3f-4931-8004-1d9b7b387cc1",
   "metadata": {},
   "outputs": [
    {
     "data": {
      "text/plain": [
       "\"\\nimport os\\nrrplot = None\\nfor p in os.environ['PATH'].split(':'):\\n    rrplot = os.path.join(p, 'rrplot')\\n    if os.path.exists(rrplot):\\n        break\\n\\nif rrplot is None:\\n    print('ERROR: unable to find rrplot in your $PATH')\\nelse:\\n    print('Using '+rrplot)\\n\\n#- Input files\\nspecfile = 'spectro/redux/fuji/healpix/sv3/bright/160/16041/spectra-sv3-bright-16041.fits'\\nrrfile = 'spectro/redux/fuji/healpix/sv3/bright/160/16041/rrdetails-sv3-bright-16041.h5'\\n\\n#- Now actually run it\\n%run $rrplot --specfile $specfile --rrfile $rrfile\\n\""
      ]
     },
     "execution_count": 24,
     "metadata": {},
     "output_type": "execute_result"
    }
   ],
   "source": [
    "\"\"\"\n",
    "import os\n",
    "rrplot = None\n",
    "for p in os.environ['PATH'].split(':'):\n",
    "    rrplot = os.path.join(p, 'rrplot')\n",
    "    if os.path.exists(rrplot):\n",
    "        break\n",
    "\n",
    "if rrplot is None:\n",
    "    print('ERROR: unable to find rrplot in your $PATH')\n",
    "else:\n",
    "    print('Using '+rrplot)\n",
    "\n",
    "#- Input files\n",
    "specfile = 'spectro/redux/fuji/healpix/sv3/bright/160/16041/spectra-sv3-bright-16041.fits'\n",
    "rrfile = 'spectro/redux/fuji/healpix/sv3/bright/160/16041/rrdetails-sv3-bright-16041.h5'\n",
    "\n",
    "#- Now actually run it\n",
    "%run $rrplot --specfile $specfile --rrfile $rrfile\n",
    "\"\"\""
   ]
  },
  {
   "cell_type": "code",
   "execution_count": 25,
   "id": "2b105ccb-e839-4e07-b9c2-bae91dbbc176",
   "metadata": {},
   "outputs": [],
   "source": [
    "import redrock"
   ]
  },
  {
   "cell_type": "code",
   "execution_count": 26,
   "id": "c455e5f2-c779-4b4f-ab94-74a30f63cec4",
   "metadata": {},
   "outputs": [],
   "source": [
    "path = \"/global/common/software/desi/perlmutter/desiconda/20230111-2.1.0/code/specprod-db/main/py:/global/common/software/desi/perlmutter/desiconda/20230111-2.1.0/code/QuasarNP/0.1.5/lib/python3.10/site-packages:/global/common/software/desi/perlmutter/desiconda/20230111-2.1.0/code/speclite/main:/global/common/software/desi/perlmutter/desiconda/20230111-2.1.0/code/simqso/main:/global/common/software/desi/perlmutter/desiconda/20230111-2.1.0/code/desimeter/main/py:/global/common/software/desi/perlmutter/desiconda/20230111-2.1.0/code/prospect/main/py:/global/common/software/desi/perlmutter/desiconda/20230111-2.1.0/code/redrock/main/py:/global/common/software/desi/perlmutter/desiconda/20230111-2.1.0/code/surveysim/main/py:/global/common/software/desi/perlmutter/desiconda/20230111-2.1.0/code/desisurvey/main/py:/global/common/software/desi/perlmutter/desiconda/20230111-2.1.0/code/fiberassign/main/py:/global/common/software/desi/perlmutter/desiconda/20230111-2.1.0/code/desisim/main/py:/global/common/software/desi/perlmutter/desiconda/20230111-2.1.0/code/desispec/main/py:/global/common/software/desi/perlmutter/desiconda/20230111-2.1.0/code/specsim/main:/global/common/software/desi/perlmutter/desiconda/20230111-2.1.0/code/desitarget/main/py:/global/common/software/desi/perlmutter/desiconda/20230111-2.1.0/code/specex/main/py:/global/common/software/desi/perlmutter/desiconda/20230111-2.1.0/code/desimodel/main/py:/global/common/software/desi/perlmutter/desiconda/20230111-2.1.0/code/gpu_specter/main/py:/global/common/software/desi/perlmutter/desiconda/20230111-2.1.0/code/specter/main/py:/global/common/software/desi/perlmutter/desiconda/20230111-2.1.0/code/desiutil/main/py:/global/common/software/desi/perlmutter/desiconda/20230111-2.1.0/conda/lib/python3.10/site-packages\"\n",
    "path.split(':')\n",
    "! export PYTHONPATH=\"${PYTHONPATH}:/global/common/software/desi/perlmutter/desiconda/20230111-2.1.0/code/redrock/main/bin\""
   ]
  },
  {
   "cell_type": "code",
   "execution_count": 27,
   "id": "30759c48-2a38-4392-a79f-81c1c978f227",
   "metadata": {},
   "outputs": [],
   "source": [
    "#- Input files\n",
    "! export specfile='/global/cfs/cdirs/desi/spectro/redux/fuji/healpix/sv3/bright/160/16041/spectra-sv3-bright-16041.fits'\n",
    "! export rrfile='/global/cfs/cdirs/desi/spectro/redux/fuji/healpix/sv3/bright/160/16041/rrdetails-sv3-bright-16041.h5'\n"
   ]
  },
  {
   "cell_type": "code",
   "execution_count": 28,
   "id": "134403f1-174c-453f-a606-291bcb8f9d25",
   "metadata": {},
   "outputs": [],
   "source": [
    "# mport rrplot"
   ]
  },
  {
   "cell_type": "code",
   "execution_count": 29,
   "id": "b7aeee8f-b5c3-4ea2-9063-1f291d3042b6",
   "metadata": {},
   "outputs": [],
   "source": [
    "# %run $rrplot --specfile $specfile --rrfile $rrfile"
   ]
  },
  {
   "cell_type": "markdown",
   "id": "fbd9ecda-cf67-4213-8804-45c23a303bbe",
   "metadata": {
    "jp-MarkdownHeadingCollapsed": true,
    "tags": []
   },
   "source": [
    "# Redrock Outputs Test"
   ]
  },
  {
   "cell_type": "code",
   "execution_count": 30,
   "id": "8f392598-de12-4731-b754-598589275f8e",
   "metadata": {},
   "outputs": [],
   "source": [
    "os.environ[\"FUJIFILES\"] = \"/global/cfs/cdirs/desi/spectro/redux/fuji\""
   ]
  },
  {
   "cell_type": "code",
   "execution_count": 31,
   "id": "a2167ab6-be43-483c-85f7-6c3422b72a39",
   "metadata": {},
   "outputs": [],
   "source": [
    "import glob\n",
    "import os\n",
    "from astropy.table import Table\n",
    "import numpy as np\n",
    "import desispec.io\n",
    "import sys\n",
    "import matplotlib.pyplot as plt"
   ]
  },
  {
   "cell_type": "code",
   "execution_count": 32,
   "id": "4950ecdd-09b5-471c-95ca-32d60e856355",
   "metadata": {},
   "outputs": [
    {
     "name": "stdout",
     "output_type": "stream",
     "text": [
      "/global/cfs/cdirs/desi/spectro/redux/fuji/tiles/cumulative/112/*/*.png\n",
      "['/global/cfs/cdirs/desi/spectro/redux/fuji/tiles/cumulative/112/20210410/tile-qa-112-thru20210410.png']\n"
     ]
    }
   ],
   "source": [
    "tileid='112'\n",
    "tilepath = os.path.join(os.environ.get('FUJIFILES'), 'tiles/cumulative', tileid, '*/*.png')\n",
    "print(tilepath)\n",
    "tileQA = glob.glob(tilepath)\n",
    "print(tileQA)\n",
    "assert len(tileQA) > 0"
   ]
  },
  {
   "cell_type": "code",
   "execution_count": 33,
   "id": "5a359f1d-0fbc-4f6b-9c1d-01d12d23a457",
   "metadata": {},
   "outputs": [
    {
     "name": "stdout",
     "output_type": "stream",
     "text": [
      "['/global/cfs/cdirs/desi/spectro/redux/fuji/tiles/cumulative/110/20210407']\n"
     ]
    }
   ],
   "source": [
    "tileid = '110'\n",
    "basedir = os.path.join(os.environ.get('FUJIFILES'), 'tiles/cumulative', tileid, '*')\n",
    "print(glob.glob(basedir))\n",
    "redrockfile = glob.glob(os.path.join(basedir, 'redrock-0*.fits'))[0]\n",
    "spectrafile = glob.glob(os.path.join(basedir, 'coadd-0*.fits'))[0]"
   ]
  },
  {
   "cell_type": "code",
   "execution_count": 34,
   "id": "42089bec-d822-4ff0-843c-fdf5e07bd4dc",
   "metadata": {},
   "outputs": [
    {
     "name": "stdout",
     "output_type": "stream",
     "text": [
      "INFO:spectra.py:291:read_spectra: iotime 1.120 sec to read coadd-0-110-thru20210407.fits at 2023-04-11T00:46:24.942587\n"
     ]
    }
   ],
   "source": [
    "zbest = Table.read(redrockfile, hdu=1).filled('')\n",
    "spectra = desispec.io.read_spectra(spectrafile)\n",
    "fm = Table.read(redrockfile, hdu='FIBERMAP')"
   ]
  },
  {
   "cell_type": "code",
   "execution_count": 35,
   "id": "1a553f45-9fc1-4abe-9c00-63678f78a280",
   "metadata": {},
   "outputs": [],
   "source": [
    "ii=sorted(np.unique(fm['TARGETID'], return_index=True)[1])\n",
    "assert np.all(fm['TARGETID'] == zbest['TARGETID'])\n",
    "fm = fm[ii]"
   ]
  },
  {
   "cell_type": "code",
   "execution_count": 36,
   "id": "e0dc293a-cc1d-4402-bd26-9cc6e7de4d14",
   "metadata": {},
   "outputs": [
    {
     "data": {
      "text/plain": [
       "<matplotlib.legend.Legend at 0x1554bdfe8d30>"
      ]
     },
     "execution_count": 36,
     "metadata": {},
     "output_type": "execute_result"
    },
    {
     "data": {
      "image/png": "[encoded data removed]",
      "text/plain": [
       "<Figure size 432x288 with 1 Axes>"
      ]
     },
     "metadata": {
      "needs_background": "light"
     },
     "output_type": "display_data"
    }
   ],
   "source": [
    "for spectype in set(zbest['SPECTYPE']):\n",
    "    ii = (zbest['SPECTYPE'] == spectype)\n",
    "    plt.hist(zbest['Z'][ii], 41, (-0.1,4), label=spectype.strip())\n",
    "plt.legend()"
   ]
  },
  {
   "cell_type": "code",
   "execution_count": 37,
   "id": "65212f91-3e3b-4774-ac0c-96b0004f8b2c",
   "metadata": {},
   "outputs": [
    {
     "data": {
      "text/plain": [
       "['b', 'r', 'z']"
      ]
     },
     "execution_count": 37,
     "metadata": {},
     "output_type": "execute_result"
    }
   ],
   "source": [
    "spectra.bands"
   ]
  },
  {
   "cell_type": "code",
   "execution_count": 38,
   "id": "5d0f701b-4025-457b-9c4a-285661ddd250",
   "metadata": {},
   "outputs": [
    {
     "data": {
      "image/png": "[encoded data removed]",
      "text/plain": [
       "<Figure size 720x1440 with 10 Axes>"
      ]
     },
     "metadata": {
      "needs_background": "light"
     },
     "output_type": "display_data"
    }
   ],
   "source": [
    "fig, axs = plt.subplots(5, 2)\n",
    "for i, targetid in enumerate(zbest['TARGETID'][0:10]):\n",
    "    ispec = np.where(spectra.fibermap['TARGETID'] == targetid)[0][0]\n",
    "    for band in spectra.bands:\n",
    "        axs[i//2, i%2].plot(spectra.wave[band], spectra.flux[band][ispec], '-', alpha=0.5, label=band)\n",
    "    axs[i//2, i%2].set_title(targetid)\n",
    "fig.set_figheight(20)\n",
    "fig.set_figwidth(10)"
   ]
  },
  {
   "cell_type": "markdown",
   "id": "2236bd39-2734-4259-bb36-a12603f1a767",
   "metadata": {},
   "source": [
    "# Display Spectra"
   ]
  },
  {
   "cell_type": "code",
   "execution_count": 39,
   "id": "f7cd3458-0ca3-4f0f-8c8d-6014263bb2ca",
   "metadata": {},
   "outputs": [],
   "source": [
    "import glob\n",
    "import os\n",
    "from astropy.table import Table\n",
    "import numpy as np\n",
    "import desispec.io\n",
    "import sys\n",
    "import matplotlib.pyplot as plt"
   ]
  },
  {
   "cell_type": "code",
   "execution_count": 40,
   "id": "6b42d7b8-8f63-4f62-a2d1-59f76852fd87",
   "metadata": {},
   "outputs": [],
   "source": [
    "os.environ[\"FUJIFILES\"] = \"/global/cfs/cdirs/desi/spectro/redux/fuji\""
   ]
  },
  {
   "cell_type": "code",
   "execution_count": 41,
   "id": "3cfc2c51-169a-4ed2-80b5-6dae6b5cb096",
   "metadata": {},
   "outputs": [],
   "source": [
    "cmap = {'b':'C0', 'r':'C1', 'z':'C2'}\n",
    "\n",
    "def displayTargetSpectra(targetid):\n",
    "    q = db.dbSession.query(db.Fiberassign.tileid, db.Tile.lastnight, db.Fiberassign.petal_loc).join(db.Tile).filter(db.Fiberassign.targetid == int(targetid) and db.Fiberassign.tileid == db.Tile.tileid)\n",
    "    if q.count() == 0:\n",
    "        return f'Target {targetid} not found!'\n",
    "    \n",
    "    tile_rows = q.all()\n",
    "    tile_rows.sort(key=lambda r:r[0])\n",
    "    \n",
    "    fig, axs = plt.subplots(len(tile_rows), 1, figsize=(16,len(tile_rows)*3))\n",
    "    if len(tile_rows) == 1:\n",
    "        axs = np.array([axs])\n",
    "    \n",
    "    for i, (tileid, lastnight, petal_loc) in enumerate(tile_rows):\n",
    "        axs[i].set_title(f'Tile {tileid}')\n",
    "        path = os.path.join(os.environ.get('FUJIFILES'), 'tiles', 'cumulative', str(tileid), str(lastnight), f'coadd-{str(petal_loc)}-{str(tileid)}-thru{str(lastnight)}.fits')\n",
    "        spectrafiles = glob.glob(path)\n",
    "        \n",
    "        if len(spectrafiles) == 0:\n",
    "            axs[i].text(x=0.5, y=0.5, s= f'Could not find spectra for Tile {tileid}', va='center', ha='center', transform=axs[i].transAxes)\n",
    "        elif len(spectrafiles) == 0:\n",
    "            axs[i].text(x=0.5, y=0.5, s= f'Too many spectra for Tile {tileid}', va='center', ha='center', transform=axs[i].transAxes)\n",
    "        else:\n",
    "            spectra = desispec.io.read_spectra(spectrafiles[0], single=True) \n",
    "            fib = np.where(spectra.fibermap['TARGETID'] == int(targetid))\n",
    "            assert len(fib) == 1\n",
    "            ispec = fib[0][0]\n",
    "            for band in spectra.bands:\n",
    "                axs[i].plot(spectra.wave[band], spectra.flux[band][ispec], f'{cmap[band]}-', alpha=0.5, label=f'band {band}')\n",
    "            axs[i].set_xlabel(r'Wavelength $Å$')\n",
    "            axs[i].set_ylabel(r'Flux $10^{-17} \\cdot \\frac{ergs}{s \\cdot cm^2 \\cdot Å}$')\n",
    "            axs[i].legend(loc=\"upper right\")\n",
    "    fig.tight_layout()\n",
    "        \n",
    "        "
   ]
  },
  {
   "cell_type": "code",
   "execution_count": 42,
   "id": "a737e2a0-e9e8-41bf-a1ac-716f56db82d4",
   "metadata": {},
   "outputs": [
    {
     "data": {
      "text/plain": [
       "'Target 39628478449979315 not found!'"
      ]
     },
     "execution_count": 42,
     "metadata": {},
     "output_type": "execute_result"
    }
   ],
   "source": [
    "displayTargetSpectra('39628478449979315')"
   ]
  },
  {
   "cell_type": "markdown",
   "id": "ef08704b-c780-4c14-93d2-a589077f61e2",
   "metadata": {},
   "source": [
    "# Generic Column Access"
   ]
  },
  {
   "cell_type": "code",
   "execution_count": 43,
   "id": "b67495bf-0ef6-43ea-bbc0-ce5f537c9595",
   "metadata": {},
   "outputs": [],
   "source": [
    "def getColumn(table, column):\n",
    "    table = table.lower().capitalize()\n",
    "    column = column.lower()\n",
    "    return getattr(getattr(db, table), column)"
   ]
  },
  {
   "cell_type": "code",
   "execution_count": 44,
   "id": "ba6aa61a-4ced-421f-ab85-c5427af9545a",
   "metadata": {},
   "outputs": [
    {
     "data": {
      "text/plain": [
       "[(0.180412222015701, 39628473202904408),\n",
       " (0.446135925732749, 39628473202902554),\n",
       " (1.07248368698423, 39628473202903445),\n",
       " (-0.00199569129234795, 39628473202903539),\n",
       " (-3.75605406508605e-05, 1152921504619435527),\n",
       " (0.803378317764955, 39628473202904338),\n",
       " (0.426333365734764, 39628473202902855),\n",
       " (2.62838023408719, 39628473202905021),\n",
       " (0.3549925692395, 39628473202901945),\n",
       " (-6.60747391019077e-05, 39628473198711006)]"
      ]
     },
     "execution_count": 44,
     "metadata": {},
     "output_type": "execute_result"
    }
   ],
   "source": [
    "def queryTable(body):\n",
    "    try:\n",
    "        table = getattr(db, body['table'].lower().capitalize())\n",
    "    except:\n",
    "        return f'Could not resolve table {body[\"table\"]}'\n",
    "    \n",
    "    columns = set()\n",
    "    for column in body['columns']:\n",
    "        try:\n",
    "            columns.add(getattr(table, column.lower()))\n",
    "        except:\n",
    "            return f'Could not find {column} in table {body[\"table\"]}'\n",
    "    return columns\n",
    "    \n",
    "    \n",
    "    \n",
    "cols = list(queryTable({'table':'ZpiX', 'columns':('tArgetID', 'z')}))\n",
    "db.dbSession.query(*cols)[:10]\n"
   ]
  },
  {
   "cell_type": "code",
   "execution_count": 45,
   "id": "1b8eafa1-f2bd-4915-957d-49d1d5ecdfb5",
   "metadata": {},
   "outputs": [
    {
     "data": {
      "text/plain": [
       "'zpix'"
      ]
     },
     "execution_count": 45,
     "metadata": {},
     "output_type": "execute_result"
    }
   ],
   "source": [
    "db.Zpix.__table__.name"
   ]
  },
  {
   "cell_type": "code",
   "execution_count": 81,
   "id": "584afa78-3188-44f6-b481-93e71a56d7c6",
   "metadata": {},
   "outputs": [],
   "source": [
    "def getColumnNames(table):\n",
    "    try:\n",
    "        SQLtable = getattr(db, table.lower().capitalize())\n",
    "    except:\n",
    "        return f'Could not resolve table {table}'\n",
    "    \n",
    "    results = []\n",
    "    for c in SQLtable.__table__.columns:\n",
    "        results.append(\n",
    "    return [c.type.__visit_name__ for c in SQLtable.__table__.columns]"
   ]
  },
  {
   "cell_type": "code",
   "execution_count": 82,
   "id": "818bcf51-f320-4255-8a32-cbd16c074a38",
   "metadata": {},
   "outputs": [
    {
     "data": {
      "text/plain": [
       "['numeric',\n",
       " 'big_integer',\n",
       " 'string',\n",
       " 'string',\n",
       " 'string',\n",
       " 'integer',\n",
       " 'integer',\n",
       " 'DOUBLE_PRECISION',\n",
       " 'DOUBLE_PRECISION',\n",
       " 'big_integer',\n",
       " 'DOUBLE_PRECISION',\n",
       " 'DOUBLE_PRECISION',\n",
       " 'DOUBLE_PRECISION',\n",
       " 'DOUBLE_PRECISION',\n",
       " 'DOUBLE_PRECISION',\n",
       " 'DOUBLE_PRECISION',\n",
       " 'DOUBLE_PRECISION',\n",
       " 'DOUBLE_PRECISION',\n",
       " 'DOUBLE_PRECISION',\n",
       " 'DOUBLE_PRECISION',\n",
       " 'DOUBLE_PRECISION',\n",
       " 'big_integer',\n",
       " 'string',\n",
       " 'string',\n",
       " 'big_integer',\n",
       " 'DOUBLE_PRECISION',\n",
       " 'integer',\n",
       " 'small_integer',\n",
       " 'REAL',\n",
       " 'small_integer',\n",
       " 'small_integer',\n",
       " 'REAL',\n",
       " 'REAL',\n",
       " 'REAL',\n",
       " 'REAL',\n",
       " 'DOUBLE_PRECISION',\n",
       " 'REAL',\n",
       " 'DOUBLE_PRECISION',\n",
       " 'REAL',\n",
       " 'REAL',\n",
       " 'REAL',\n",
       " 'REAL',\n",
       " 'REAL',\n",
       " 'REAL',\n",
       " 'REAL',\n",
       " 'REAL',\n",
       " 'REAL',\n",
       " 'REAL',\n",
       " 'REAL',\n",
       " 'REAL',\n",
       " 'REAL',\n",
       " 'REAL',\n",
       " 'REAL',\n",
       " 'REAL',\n",
       " 'REAL',\n",
       " 'REAL',\n",
       " 'REAL',\n",
       " 'REAL',\n",
       " 'REAL',\n",
       " 'REAL',\n",
       " 'REAL',\n",
       " 'REAL',\n",
       " 'REAL',\n",
       " 'REAL',\n",
       " 'REAL',\n",
       " 'REAL',\n",
       " 'REAL',\n",
       " 'REAL',\n",
       " 'REAL',\n",
       " 'REAL',\n",
       " 'REAL',\n",
       " 'REAL',\n",
       " 'small_integer',\n",
       " 'boolean',\n",
       " 'small_integer',\n",
       " 'boolean',\n",
       " 'small_integer',\n",
       " 'boolean']"
      ]
     },
     "execution_count": 82,
     "metadata": {},
     "output_type": "execute_result"
    }
   ],
   "source": [
    "getColumnNames('Zpix')"
   ]
  },
  {
   "cell_type": "code",
   "execution_count": 80,
   "id": "a840bc4a-dec6-421d-8b4e-b0658fab4eda",
   "metadata": {},
   "outputs": [],
   "source": [
    "def getTableColumns(body):\n",
    "    try:\n",
    "        table = getattr(db, body['table'].lower().capitalize())\n",
    "    except:\n",
    "        return f'Could not resolve table {body[\"table\"]}'\n",
    "    \n",
    "    columns = []\n",
    "    for column in body['columns']:\n",
    "        columns.append(getColumn(table, column['name']))\n",
    "    return table, columns\n",
    "\n",
    "def getColumn(table, column):\n",
    "    try:\n",
    "        return getattr(table, column.lower())\n",
    "    except:\n",
    "        return f'Could not find {column} in table {table.__table__.name}'\n",
    "\n",
    "def queryTable(body):\n",
    "    table, columns = getTableColumns(body)\n",
    "    q = db.dbSession.query(*columns)\n",
    "    for column in body['columns']:\n",
    "        if 'e' in column:\n",
    "            q = q.filter(getColumn(table, column['name']) == column['e'])\n",
    "        if 'ne' in column:\n",
    "            q = q.filter(getColumn(table, column['name']) != column['ne'])\n",
    "        if 'lte' in column:\n",
    "            q = q.filter(getColumn(table, column['name']) <= column['lte'])\n",
    "        if 'gte' in column:\n",
    "            q = q.filter(getColumn(table, column['name']) >= column['gte'])\n",
    "    return filter_query(q, table, limit=body['limit']).all()"
   ]
  },
  {
   "cell_type": "code",
   "execution_count": null,
   "id": "e414eaf3-007d-4c69-add9-38b654780416",
   "metadata": {},
   "outputs": [
    {
     "data": {
      "text/plain": [
       "[(9161, 'dark', 'special', 0.272282793295864, 1024),\n",
       " (9164, 'dark', 'special', -0.00199569129234795, 512),\n",
       " (9164, 'dark', 'special', 0.858779458587786, 8),\n",
       " (9165, 'dark', 'special', 1.65348234179987, 1024),\n",
       " (9165, 'dark', 'special', 1.32006175140321, 4194304),\n",
       " (9165, 'dark', 'special', 1.31770130689698, 16777216),\n",
       " (9166, 'dark', 'special', -0.00199569129234795, 512),\n",
       " (9166, 'dark', 'special', -0.00199569129234795, 512),\n",
       " (9167, 'dark', 'special', -0.00199569129234795, 4),\n",
       " (9167, 'dark', 'special', 1.17348435718487, 1024),\n",
       " (9167, 'dark', 'special', 1.41495261659327, 1024),\n",
       " (9167, 'dark', 'special', -0.00199569129234795, 512),\n",
       " (9178, 'dark', 'special', 2.86606514153838, 16777216),\n",
       " (9178, 'dark', 'special', 0.395810052884772, 4194304),\n",
       " (9178, 'dark', 'special', -0.00199569129234795, 512),\n",
       " (9184, 'dark', 'special', -0.00199569129234795, 512),\n",
       " (9184, 'dark', 'special', -0.00199569129234795, 512),\n",
       " (9184, 'dark', 'special', -0.00199569129234795, 512),\n",
       " (9184, 'dark', 'special', -0.00199569129234795, 512),\n",
       " (9184, 'dark', 'special', -0.00199569129234795, 4)]"
      ]
     },
     "execution_count": 50,
     "metadata": {},
     "output_type": "execute_result"
    }
   ],
   "source": [
    "body = {\n",
    "    \"table\":\"zpix\",\n",
    "    \"columns\": [{\"name\":\"healpix\", \"ne\":\"9162\"}, {\"name\":\"program\", \"ne\":\"other\"}, {\"name\":\"survey\"}, {\"name\":\"z\", \"lte\":\"3.0\"}, {\"name\":\"coadd_fiberstatus\", \"ne\":\"0\"}],\n",
    "    \"spectype\":\"GALAXY\",\n",
    "    \"z_min\":1.5,\n",
    "    \"limit\":20\n",
    "}\n",
    "queryTable(body)\n",
    "    "
   ]
  },
  {
   "cell_type": "markdown",
   "id": "aa21d198-50d8-462b-ad69-0ab3eeb202a7",
   "metadata": {
    "jp-MarkdownHeadingCollapsed": true,
    "tags": []
   },
   "source": [
    "# Notes\n",
    "- Redshift given in redshift units 1+z\n",
    "- Need to make sure methods check in more tables incase targets are not in current table\n",
    "- Add cache system for repeated queries"
   ]
  },
  {
   "cell_type": "markdown",
   "id": "e14288ed-6c4d-4499-9287-1bff3f2279eb",
   "metadata": {
    "tags": []
   },
   "source": [
    "# Testing"
   ]
  },
  {
   "cell_type": "code",
   "execution_count": null,
   "id": "eab8df07-368a-4274-9597-9b8186b241e7",
   "metadata": {},
   "outputs": [],
   "source": [
    "import doctest"
   ]
  },
  {
   "cell_type": "code",
   "execution_count": null,
   "id": "64ef58f9-5341-44ab-bddc-a0f347e84ad6",
   "metadata": {},
   "outputs": [
    {
     "data": {
      "text/plain": [
       "TestResults(failed=0, attempted=4)"
      ]
     },
     "execution_count": 52,
     "metadata": {},
     "output_type": "execute_result"
    }
   ],
   "source": [
    "doctest.testmod(optionflags=doctest.ELLIPSIS)"
   ]
  },
  {
   "cell_type": "code",
   "execution_count": null,
   "id": "3d81d0aa-2b6f-4806-9f66-11b35ab53eb0",
   "metadata": {},
   "outputs": [
    {
     "data": {
      "text/plain": [
       "TestResults(failed=0, attempted=16)"
      ]
     },
     "execution_count": 53,
     "metadata": {},
     "output_type": "execute_result"
    }
   ],
   "source": [
    "with open('TestAccessTests.txt', 'r') as file:\n",
    "    tests = file.read()\n",
    "dtp = doctest.DocTestParser()\n",
    "globs = globals()\n",
    "dt = dtp.get_doctest(string=tests, globs=globs, name=\"Test Access\", filename=\"TestAccessTests.txt\", lineno=None)\n",
    "dtr = doctest.DocTestRunner(optionflags=doctest.ELLIPSIS)\n",
    "dtr.run(dt)"
   ]
  },
  {
   "cell_type": "code",
   "execution_count": null,
   "id": "8457630f-6411-4ead-addb-6d58e181ee0f",
   "metadata": {},
   "outputs": [],
   "source": [
    "def SQLNumConvert(item):\n",
    "    if item.find('.') != -1:\n",
    "        return float(item)\n",
    "    else:\n",
    "        return int(item)\n",
    "\n",
    "def convertSQLresponse(s):\n",
    "    \"\"\"\n",
    "    @Params:\n",
    "        s (String): SQL outptut string with vertical bar | seperators for columns and new lines \\n for rows\n",
    "    \n",
    "    @Returns:\n",
    "        None\n",
    "    \n",
    "    @Side Effects:\n",
    "        -Prints rows of SQL query as list of tuples for each row.\n",
    "    \"\"\"\n",
    "    items = list(filter(lambda x:x!='', s.split(' ')))\n",
    "    rows = []\n",
    "    row = []\n",
    "    for item in items:\n",
    "        if item.find('\\n') != -1:\n",
    "            item = SQLNumConvert(item)\n",
    "            row.append(item)\n",
    "            rows.append(tuple(row))\n",
    "            row = []\n",
    "        elif item != '|':\n",
    "            row.append(SQLNumConvert(item))\n",
    "    if row != []:\n",
    "        rows.append(tuple(row))\n",
    "    print(rows)\n",
    "    "
   ]
  },
  {
   "cell_type": "code",
   "execution_count": null,
   "id": "3e5f8aec-cc7c-4e09-b51d-618277cc282a",
   "metadata": {},
   "outputs": [
    {
     "name": "stdout",
     "output_type": "stream",
     "text": [
      "[(39628438369209963, 178.20296293969, 28.0457875134468, -0.00199569129234795), (39628438369210160, 178.211062108015, 28.0054208609781, 1.55448584232623)]\n"
     ]
    }
   ],
   "source": [
    "convertSQLresponse(\n",
    " \"\"\"39628438369209963 |  178.20296293969 | 28.0457875134468 | -0.00199569129234795\n",
    " 39628438369210160 | 178.211062108015 | 28.0054208609781 |     1.55448584232623\"\"\")"
   ]
  },
  {
   "cell_type": "code",
   "execution_count": null,
   "id": "ccc42221-6666-49b7-b9c6-927188ed263d",
   "metadata": {},
   "outputs": [],
   "source": []
  },
  {
   "cell_type": "code",
   "execution_count": null,
   "id": "c78aac11-5221-42fa-b871-65f6b8534cb7",
   "metadata": {},
   "outputs": [],
   "source": []
  }
 ],
 "metadata": {
  "kernelspec": {
   "display_name": "DESI main",
   "language": "python",
   "name": "desi-main"
  },
  "language_info": {
   "codemirror_mode": {
    "name": "ipython",
    "version": 3
   },
   "file_extension": ".py",
   "mimetype": "text/x-python",
   "name": "python",
   "nbconvert_exporter": "python",
   "pygments_lexer": "ipython3",
   "version": "3.10.8"
  }
 },
 "nbformat": 4,
 "nbformat_minor": 5
}
