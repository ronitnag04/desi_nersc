{
 "cells": [
  {
   "cell_type": "markdown",
   "metadata": {},
   "source": [
    "# Spectroscopic Production Database Tutorial\n",
    "\n",
    "## Abstract\n",
    "\n",
    "This tutorial will cover the basics of using the spectroscopic production database, which is loaded from the outputs of the DESI pipeline.  Currently, this is based on software \"release\" `main`, and uses a [PostgreSQL](https://www.postgresql.org/) database. We use [SQLAlchemy](http://www.sqlalchemy.org/) to abstract away the details of the database.\n",
    "\n",
    "## Requirements\n",
    "\n",
    "This tutorial uses data from the `fuji` production (`/global/cfs/cdirs/desi/public/edr/spectro/redux/fuji`), and the **DESI main** kernel.\n",
    "\n",
    "## Initial Setup\n",
    "\n",
    "This just imports everything we need and sets up paths and environment variables so we can find things."
   ]
  },
  {
   "cell_type": "code",
   "execution_count": 1,
   "metadata": {},
   "outputs": [
    {
     "name": "stdout",
     "output_type": "stream",
     "text": [
      "INFO:iers.py:82:freeze_iers: Freezing IERS table used by astropy time, coordinates.\n",
      "INFO:ephem.py:84:get_ephem: Building ephemerides for (2019-01-01,2027-12-31)...\n",
      "INFO:ephem.py:89:get_ephem: Saved ephemerides for (2019-01-01,2027-12-31) to /pscratch/sd/r/ronitnag/ephem_2019-01-01_2027-12-31.fits\n",
      "sqlalchemy==1.4.46\n",
      "desispec==0.57.0.dev7762\n",
      "desisurvey==0.19.0.dev1131\n"
     ]
    }
   ],
   "source": [
    "#\n",
    "# Imports\n",
    "#\n",
    "import os\n",
    "from argparse import Namespace\n",
    "from types import MethodType\n",
    "import numpy as np\n",
    "import matplotlib\n",
    "import matplotlib.pyplot as plt\n",
    "from matplotlib.font_manager import fontManager, FontProperties\n",
    "from sqlalchemy import __version__ as sqlalchemy_version\n",
    "from sqlalchemy import inspect\n",
    "from sqlalchemy.sql import func\n",
    "import astropy.units as u\n",
    "from astropy.constants import c as lightspeed\n",
    "from astropy.table import Table, MaskedColumn\n",
    "#\n",
    "# DESI software\n",
    "#\n",
    "from desiutil.log import get_logger, DEBUG\n",
    "from desitarget.targetmask import (desi_mask, mws_mask, bgs_mask)\n",
    "# from desisim.spec_qa import redshifts as dsq_z\n",
    "from desisurvey import __version__ as desisurvey_version\n",
    "from desisurvey.ephem import get_ephem, get_object_interpolator\n",
    "from desisurvey.utils import get_observer\n",
    "from desispec import __version__ as desispec_version\n",
    "import desispec.database.redshift as db\n",
    "#\n",
    "# Paths to files, etc.\n",
    "#\n",
    "specprod = os.environ['SPECPROD'] = 'fuji'\n",
    "basedir = os.path.join(os.environ['DESI_SPECTRO_REDUX'], specprod)\n",
    "# surveydir = os.environ['DESISURVEY_OUTPUT'] = os.path.join(basedir, 'survey')\n",
    "# targetdir = os.path.join(basedir, 'targets')\n",
    "# fibassigndir = os.path.join(basedir, 'fiberassign')\n",
    "# os.environ['DESI_SPECTRO_REDUX'] = os.path.join(basedir, 'spectro', 'redux')\n",
    "# os.environ['DESI_SPECTRO_SIM'] = os.path.join(basedir, 'spectro', 'sim')\n",
    "# os.environ['PIXPROD'] = 'mini'\n",
    "# os.environ['SPECPROD'] = 'mini'\n",
    "# reduxdir = os.path.join(os.environ['DESI_SPECTRO_REDUX'], os.environ['SPECPROD'])\n",
    "# simdatadir = os.path.join(os.environ['DESI_SPECTRO_SIM'], os.environ['PIXPROD'])\n",
    "# os.environ['DESI_SPECTRO_DATA'] = simdatadir\n",
    "#\n",
    "# Initialize ephemerides, to find Moon, etc.\n",
    "#\n",
    "os.environ['DESISURVEY_OUTPUT'] = os.environ['SCRATCH']\n",
    "ephem = get_ephem()\n",
    "#\n",
    "# get_ephem() will run freeze_iers(), so we import these after that.\n",
    "#\n",
    "from astropy.time import Time\n",
    "from astropy.coordinates import ICRS\n",
    "#\n",
    "# Working directory.\n",
    "#\n",
    "workingdir = os.getcwd()\n",
    "print(f'sqlalchemy=={sqlalchemy_version}')\n",
    "print(f'desispec=={desispec_version}')\n",
    "print(f'desisurvey=={desisurvey_version}')"
   ]
  },
  {
   "cell_type": "markdown",
   "metadata": {},
   "source": [
    "This function will compute various Moon paramters needed below."
   ]
  },
  {
   "cell_type": "code",
   "execution_count": 3,
   "metadata": {},
   "outputs": [],
   "source": [
    "def moon(self, mjd, ra, dec):\n",
    "    \"\"\"Compute relative location of the Moon.\n",
    "    \n",
    "    Parameters\n",
    "    ----------\n",
    "    mjd : float\n",
    "        Time of observation\n",
    "    ra : float\n",
    "        Right Ascension\n",
    "    dec : float\n",
    "        Declination\n",
    "    \n",
    "    Returns\n",
    "    -------\n",
    "    tuple\n",
    "        Moon separation, Moon altitude, Moon illumination fraction\n",
    "    \"\"\"\n",
    "    observation_time = Time(mjd, format='mjd')\n",
    "    position = ICRS(ra=ra*u.deg, dec=dec*u.deg)\n",
    "    zenith = get_observer(observation_time, alt=90 * u.deg, az=0 * u.deg).transform_to(ICRS)\n",
    "    alt = 90 * u.deg - position.separation(zenith)\n",
    "    moon_dec, moon_ra = get_object_interpolator(self.get_night(observation_time), 'moon', altaz=False)(observation_time.mjd)\n",
    "    moon_position = ICRS(ra=moon_ra*u.deg, dec=moon_dec*u.deg)\n",
    "    moon_sep = position.separation(moon_position).to(u.deg).value\n",
    "    moon_alt = (90 * u.deg - moon_position.separation(zenith)).to(u.deg).value\n",
    "    moon_frac = ephem.get_moon_illuminated_fraction(observation_time.mjd).tolist()\n",
    "    return (moon_sep, moon_alt, moon_frac)\n",
    "\n",
    "ephem.moon = MethodType(moon, ephem)"
   ]
  },
  {
   "cell_type": "markdown",
   "metadata": {},
   "source": [
    "## Contents of the Database\n",
    "\n",
    "All tables are grouped into a database *schema* and that schema is named for the production run, (*e.g.* `fuji`).  When writing \"raw\" SQL, table names need to be schema-qualified, for example, `fuji.target`.  However, the SQLAlchemy abstraction layer is designed to take care of this for you.\n",
    "\n",
    "Important notes:\n",
    "\n",
    "* This database does not contain any sky spectra. Both deliberately-targeted (`targetid & 2**59 != 0`) and negative targetid (`targetid < 0`) sky spectra are excluded.\n",
    "* Only cumulative tile-based spectra are included at the present time.\n",
    "\n",
    "The tables are:\n",
    "\n",
    "* `photometry`. This contains the pure photometric data. Usually this is derived from the LS DR9 Tractor data, but not every *targeted* object has Tractor photometry.\n",
    "  - Loaded from `tractorphot` files: `/global/cfs/cdirs/desi/public/edr/vac/lsdr9-photometry/v1.0/potential-targets/tractorphot/tractorphot-potential-*-${SPECPROD}.fits`.\n",
    "  - SQLAlchemy object: `db.Photometry`.\n",
    "  - Primary key: `targetid`.\n",
    "* `target`. This contains the targeting bits and other data generated by `desitarget`.\n",
    "  - Loaded from `targetphot` file: `/global/cfs/cdirs/desi/public/edr/vac/lsdr9-photometry/v1.0/potential-targets/targetphot-potential-${SPECPROD}.fits`.\n",
    "  - SQLAlchemy object: `db.Target`.\n",
    "  - Primary key: (`targetid`, `survey`, `tileid`)\n",
    "* `tile`. This contains information about observations grouped by tile.\n",
    "  - Loaded from top-level `tiles-${SPECPROD}.fits`.\n",
    "  - SQLAlchemy object: `db.Tile`.\n",
    "  - Primary key: `tileid`.\n",
    "* `exposure`. This contains information about individual exposures.\n",
    "  - Loaded from top-level `exposures-${SPECPROD}.fits`, `EXPOSURES` HDU.\n",
    "  - SQLAlchemy object: `db.Exposure`.\n",
    "  - Primary key: `expid`.\n",
    "* `frame`. This contains information about individual exposures, but broken down by camera.  There will usually, but not always, be 30 frames per exposure.\n",
    "  - Loaded from top-level `exposures-${SPECPROD.fits`, `FRAMES` HDU.\n",
    "  - SQLAlchemy object: `db.Frame`.\n",
    "  - Primary key: `frameid`, composed from `expid` and a mapping of `camera` to an arbitrary integer.\n",
    "* `fiberassign`. This contains information about fiber positions.\n",
    "  - Loaded from fiberassign files in the tiles product.  All fiberassign files corresponding to tiles in the `tile` table are loaded.\n",
    "  - SQLAlchemy object: `db.Fiberassign`.\n",
    "  - Primary key: (`tileid`, `targetid`, `location`)\n",
    "* `potential`. This contains a list of `targetid`s that *could* have been targeted on a given tile.\n",
    "  - Loaded from the `POTENTIAL_ASSIGNMENTS` HDU in the same fiberassign files mentioned above.\n",
    "  - SQLAlchemy object: `db.Potential`.\n",
    "  - Primary key: (`tileid`, `targetid`, `location`)\n",
    "* `zpix`. This contains the pipeline redshifts grouped by HEALPixel.\n",
    "  - Loaded from the `zall-pix-${SPECPROD}.fits` file in the `zcatalog/` directory.\n",
    "  - SQLAlchemy object: `db.Zpix`.\n",
    "  - Primary key: (`targetid`, `survey`, `program`)\n",
    "* `ztile`. This contains the pipeline redshifts grouped by tile in a variety of ways.\n",
    "  - Loaded from the `zall-tilecumulative-${SPECPROD}.fits` file in the `zcatalog/` directory.\n",
    "  - SQLAlchemy object: `db.Ztile`\n",
    "  - Primary key: (`targetid`, `spgrp`, `spgrpval`, `tileid`)"
   ]
  },
  {
   "cell_type": "markdown",
   "metadata": {},
   "source": [
    "## Initial Database Connection\n",
    "\n",
    "This connection uses a `~/.pgpass` file to set up connection credentials.  [Be sure you have set that up](https://desi.lbl.gov/trac/wiki/DESIProductionDatabase#Setuppgpass)."
   ]
  },
  {
   "cell_type": "code",
   "execution_count": 4,
   "metadata": {},
   "outputs": [],
   "source": [
    "#\n",
    "# For much more output, use DEBUG/verbose mode.\n",
    "#\n",
    "# db.log = get_logger(DEBUG)\n",
    "# postgresql = db.setup_db(schema=specprod, hostname='nerscdb03.nersc.gov', username='desi', verbose=True)\n",
    "db.log = get_logger()\n",
    "postgresql = db.setup_db(schema=specprod, hostname='nerscdb03.nersc.gov', username='desi')"
   ]
  },
  {
   "cell_type": "markdown",
   "metadata": {},
   "source": [
    "## Learning About the Tables\n",
    "\n",
    "The tables in the database are listed above.  To inspect an individual table, you can use the `__table__` attribute."
   ]
  },
  {
   "cell_type": "code",
   "execution_count": 5,
   "metadata": {},
   "outputs": [
    {
     "name": "stdout",
     "output_type": "stream",
     "text": [
      "{'healpix'}\n",
      "{'targetphotid', 'tileid'}\n"
     ]
    }
   ],
   "source": [
    "#\n",
    "# Print the table columns and their types.\n",
    "#\n",
    "pix_names = set()\n",
    "tile_names = set()\n",
    "\n",
    "for c in db.Zpix.__table__.columns:\n",
    "    pix_names.add(c.name)\n",
    "\n",
    "for c in db.Ztile.__table__.columns:\n",
    "    tile_names.add(c.name)\n",
    "\n",
    "print(pix_names.difference(tile_names))\n",
    "print(tile_names.difference(pix_names))"
   ]
  },
  {
   "cell_type": "markdown",
   "metadata": {},
   "source": [
    "We can also `inspect()` the database.  For details see [here](http://docs.sqlalchemy.org/en/latest/core/inspection.html?highlight=inspect#module-sqlalchemy.inspection)."
   ]
  },
  {
   "cell_type": "code",
   "execution_count": 6,
   "metadata": {},
   "outputs": [],
   "source": [
    "# with open ('Fuji_Columns.txt', 'w') as file:\n",
    "inspector = inspect(db.engine)\n",
    "s = inspector.get_columns('zpix', schema=specprod)"
   ]
  },
  {
   "cell_type": "code",
   "execution_count": 9,
   "metadata": {},
   "outputs": [
    {
     "data": {
      "text/plain": [
       "'\\nwith open (\\'Table_Columns_Keys.txt\\', \\'w\\') as file: \\n    inspector = inspect(db.engine)\\n    file.write(\"Tables sorted by foreign dependency: (Recommended by Postgres)\\n\")\\n    for table in inspector.get_sorted_table_and_fkc_names(schema=specprod)[:-1]:\\n        file.write(f\\'  {table}\\n\\')\\n    \\n    file.write(\\'\\n\\')\\n    file.write(\\'------------------------------------------------------------------------------------\\')\\n    file.write(\\'\\n\\')\\n    \\n    file.write(\"Table Primary and Foreign Keys: \\n\")\\n    for table_name in inspector.get_table_names(schema=specprod):\\n        file.write(f\\'  {table_name}: \\n\\')\\n        file.write(f\\'   - Primary Key: {inspector.get_pk_constraint(table_name, schema=specprod)[\"constrained_columns\"][0]} \\n\\')\\n        f = inspector.get_foreign_keys(table_name, schema=specprod)\\n        if f:\\n            file.write(\\'   - Foreign Constraints: \\n\\')\\n            for foreign in inspector.get_foreign_keys(table_name, schema=specprod):\\n                file.write(f\\'      - {table_name}.{foreign[\"constrained_columns\"][0]} \\') \\n                file.write(f\\'refers to {foreign[\"referred_table\"]}.{foreign[\"referred_columns\"][0]} \\n\\')\\n        file.write(\\'\\n\\')\\n    \\n    file.write(\\'\\n\\')\\n    file.write(\\'------------------------------------------------------------------------------------\\')\\n    file.write(\\'\\n\\')\\n    \\n    file.write(\"Table Columns and Data Types: \\n\")\\n    for table_name in inspector.get_table_names(schema=specprod):\\n        file.write(f\\' - {table_name}: \\n\\')\\n        for column in inspector.get_columns(table_name, schema=specprod):\\n            file.write(\"    - {name} : {type} \\n\".format(**column))\\n        file.write(\\'\\n\\')\\n    file.close()\\n'"
      ]
     },
     "execution_count": 9,
     "metadata": {},
     "output_type": "execute_result"
    }
   ],
   "source": [
    "\"\"\"\n",
    "with open ('Table_Columns_Keys.txt', 'w') as file: \n",
    "    inspector = inspect(db.engine)\n",
    "    file.write(\"Tables sorted by foreign dependency: (Recommended by Postgres)\\n\")\n",
    "    for table in inspector.get_sorted_table_and_fkc_names(schema=specprod)[:-1]:\n",
    "        file.write(f'  {table}\\n')\n",
    "    \n",
    "    file.write('\\n')\n",
    "    file.write('------------------------------------------------------------------------------------')\n",
    "    file.write('\\n')\n",
    "    \n",
    "    file.write(\"Table Primary and Foreign Keys: \\n\")\n",
    "    for table_name in inspector.get_table_names(schema=specprod):\n",
    "        file.write(f'  {table_name}: \\n')\n",
    "        file.write(f'   - Primary Key: {inspector.get_pk_constraint(table_name, schema=specprod)[\"constrained_columns\"][0]} \\n')\n",
    "        f = inspector.get_foreign_keys(table_name, schema=specprod)\n",
    "        if f:\n",
    "            file.write('   - Foreign Constraints: \\n')\n",
    "            for foreign in inspector.get_foreign_keys(table_name, schema=specprod):\n",
    "                file.write(f'      - {table_name}.{foreign[\"constrained_columns\"][0]} ') \n",
    "                file.write(f'refers to {foreign[\"referred_table\"]}.{foreign[\"referred_columns\"][0]} \\n')\n",
    "        file.write('\\n')\n",
    "    \n",
    "    file.write('\\n')\n",
    "    file.write('------------------------------------------------------------------------------------')\n",
    "    file.write('\\n')\n",
    "    \n",
    "    file.write(\"Table Columns and Data Types: \\n\")\n",
    "    for table_name in inspector.get_table_names(schema=specprod):\n",
    "        file.write(f' - {table_name}: \\n')\n",
    "        for column in inspector.get_columns(table_name, schema=specprod):\n",
    "            file.write(\"    - {name} : {type} \\n\".format(**column))\n",
    "        file.write('\\n')\n",
    "    file.close()\n",
    "\"\"\"\n"
   ]
  },
  {
   "cell_type": "code",
   "execution_count": 10,
   "metadata": {},
   "outputs": [],
   "source": [
    "table_aliases = {\n",
    "    'fiberassign' : 'fb',\n",
    "    'version' : 'v',\n",
    "    'potential' : 'pt',\n",
    "    'zpix' : 'zp',\n",
    "    'photometry' : 'ph',\n",
    "    'frame' : 'fr',\n",
    "    'target' : 'tg',\n",
    "    'ztile' : 'zt',\n",
    "    'tile' : 't',\n",
    "    'exposure' : 'ex'\n",
    "}"
   ]
  },
  {
   "cell_type": "code",
   "execution_count": 11,
   "metadata": {},
   "outputs": [
    {
     "name": "stdout",
     "output_type": "stream",
     "text": [
      "fiberassign\n",
      "version\n",
      "potential\n",
      "zpix\n",
      "photometry\n",
      "frame\n",
      "target\n",
      "ztile\n",
      "tile\n",
      "exposure\n"
     ]
    }
   ],
   "source": [
    "inspector = inspect(db.engine)\n",
    "table_sets = dict()\n",
    "for table_name in inspector.get_table_names(schema=specprod):\n",
    "    print(table_name)\n",
    "    s = set()\n",
    "    for column in inspector.get_columns(table_name, schema=specprod):\n",
    "        s.add(f'{table_aliases[table_name]}.{column[\"name\"]}')\n",
    "    table_sets[table_name] = s\n",
    "    \"\"\"\n",
    "    for column in inspector.get_columns(table_name, schema=specprod):\n",
    "        print(\"Column: {name} {type}\".format(**column))\n",
    "    \"\"\""
   ]
  },
  {
   "cell_type": "code",
   "execution_count": 12,
   "metadata": {},
   "outputs": [],
   "source": [
    "def tableColIntersect(set1, set2):\n",
    "    s1 = set()\n",
    "    name1 = \"\"\n",
    "    for item in set1:\n",
    "        name1 = item.split('.')[0]\n",
    "        s1.add(item.split('.')[1])\n",
    "        \n",
    "    s2 = set()\n",
    "    name2 = \"\"\n",
    "    for item in set2:\n",
    "        name2 = item.split('.')[0]\n",
    "        s2.add(item.split('.')[1])\n",
    "        \n",
    "    intersect = s1.intersection(s2)\n",
    "    equals = []\n",
    "    for i in intersect:\n",
    "        equals.append(f'{name1}.{i}={name2}.{i}')\n",
    "        \n",
    "    joinstring = \"\"\n",
    "    if equals:\n",
    "        joinstring = equals[0]\n",
    "        for i in range(1, len(equals)):\n",
    "            joinstring = joinstring + \" AND \" + equals[i]\n",
    "        \n",
    "    return joinstring"
   ]
  },
  {
   "cell_type": "code",
   "execution_count": 13,
   "metadata": {},
   "outputs": [
    {
     "data": {
      "text/plain": [
       "'tg.id=fb.id AND tg.targetid=fb.targetid AND tg.tileid=fb.tileid'"
      ]
     },
     "execution_count": 13,
     "metadata": {},
     "output_type": "execute_result"
    }
   ],
   "source": [
    "tableColIntersect(table_sets['target'], table_sets['fiberassign'])"
   ]
  },
  {
   "cell_type": "code",
   "execution_count": 14,
   "metadata": {},
   "outputs": [],
   "source": [
    "def relationPath(tablenames, set_dict):\n",
    "    for name in tablenames:\n",
    "        if name not in set_dict:\n",
    "            raise ValueError('tablenames are not available in provided set_dict')\n",
    "    \n",
    "    for level in range(1, len(tablenames)):\n",
    "        lvl = \"\"\n",
    "        for i in range(0, level):\n",
    "            lvl = lvl + tableColIntersect(set_dict[tablenames[i]], set_dict[tablenames[level]])\n",
    "            lvl = lvl + ' AND '\n",
    "        print(f'level:{i+1}, {tablenames[i]} -> {tablenames[i+1]} | {lvl}')\n",
    "            "
   ]
  },
  {
   "cell_type": "code",
   "execution_count": 15,
   "metadata": {},
   "outputs": [
    {
     "name": "stdout",
     "output_type": "stream",
     "text": [
      "level:1, photometry -> target | ph.targetid=tg.targetid AND \n",
      "level:2, target -> fiberassign | ph.targetid=fb.targetid AND tg.id=fb.id AND tg.targetid=fb.targetid AND tg.tileid=fb.tileid AND \n",
      "level:3, fiberassign -> tile |  AND tg.program=t.program AND tg.survey=t.survey AND tg.tileid=t.tileid AND fb.tileid=t.tileid AND \n",
      "level:4, tile -> frame | ph.ebv=fr.ebv AND tg.tileid=fr.tileid AND fb.tileid=fr.tileid AND t.exptime=fr.exptime AND t.tileid=fr.tileid AND \n",
      "level:5, frame -> ztile | ph.targetid=zt.targetid AND tg.id=zt.id AND tg.program=zt.program AND tg.targetid=zt.targetid AND tg.survey=zt.survey AND tg.tileid=zt.tileid AND fb.id=zt.id AND fb.targetid=zt.targetid AND fb.tileid=zt.tileid AND t.program=zt.program AND t.survey=zt.survey AND t.tileid=zt.tileid AND fr.tsnr2_gpbbright=zt.tsnr2_gpbbright AND fr.tsnr2_gpbbackup=zt.tsnr2_gpbbackup AND fr.tsnr2_bgs=zt.tsnr2_bgs AND fr.tsnr2_qso=zt.tsnr2_qso AND fr.tsnr2_elg=zt.tsnr2_elg AND fr.tsnr2_lya=zt.tsnr2_lya AND fr.tsnr2_gpbdark=zt.tsnr2_gpbdark AND fr.tileid=zt.tileid AND fr.tsnr2_lrg=zt.tsnr2_lrg AND \n"
     ]
    }
   ],
   "source": [
    "relationPath(['photometry', 'target', 'fiberassign', 'tile', 'frame', 'ztile'], table_sets)"
   ]
  },
  {
   "cell_type": "code",
   "execution_count": 16,
   "metadata": {},
   "outputs": [
    {
     "name": "stdout",
     "output_type": "stream",
     "text": [
      "level:1, photometry -> target | ph.targetid=tg.targetid AND \n",
      "level:2, target -> fiberassign | ph.targetid=fb.targetid AND tg.id=fb.id AND tg.targetid=fb.targetid AND tg.tileid=fb.tileid AND \n",
      "level:3, fiberassign -> zpix | ph.targetid=zp.targetid AND tg.id=zp.id AND tg.program=zp.program AND tg.targetid=zp.targetid AND tg.survey=zp.survey AND fb.id=zp.id AND fb.targetid=zp.targetid AND \n"
     ]
    }
   ],
   "source": [
    "relationPath(['photometry', 'target', 'fiberassign', 'zpix'], table_sets)"
   ]
  },
  {
   "cell_type": "code",
   "execution_count": 17,
   "metadata": {},
   "outputs": [],
   "source": [
    "def dupeColumns(s):\n",
    "    cols = s.split('|')\n",
    "    for i in range(len(cols)):\n",
    "        cols[i] = cols[i].strip().replace(\"\\n\", \"\")\n",
    "    \n",
    "    s = set()\n",
    "    dupes = set()\n",
    "    for col in cols:\n",
    "        if col in s:\n",
    "            dupes.add(col)\n",
    "        else:\n",
    "            s.add(col)\n",
    "    return dupes"
   ]
  },
  {
   "cell_type": "code",
   "execution_count": 18,
   "metadata": {},
   "outputs": [],
   "source": [
    "s = \"\"\" ls_id | release | brickid | brickname | brick_objid | morphtype | ra | ra_ivar | dec | dec_ivar | dchisq_psf | dchisq_rex | dchisq_dev | dchisq_exp | dchisq_ser | ebv | flux_g | flux_r | flux_z | flux_ivar_g | flux_ivar_r | flux_ivar_z | mw_transmission_g | mw_transmission_r | mw_transmission_z | fracflux_g | fracflux_r | fracflux_z | fracmasked_g | fracmasked_r | fracmasked_z | fracin_g | fracin_r | fracin_z | nobs_g | nobs_r | nobs_z | psfdepth_g | psfdepth_r | psfdepth_z | galdepth_g | galdepth_r | galdepth_z | flux_w1 | flux_w2 | flux_w3 | flux_w4 | flux_ivar_w1 | flux_ivar_w2 | flux_ivar_w3 | flux_ivar_w4 | mw_transmission_w1 | mw_transmission_w2 | mw_transmission_w3 | mw_transmission_w4 | allmask_g | allmask_r | allmask_z | fiberflux_g | fiberflux_r | fiberflux_z | fibertotflux_g | fibertotflux_r | fibertotflux_z | ref_epoch | wisemask_w1 | wisemask_w2 | maskbits | shape_r | shape_e1 | shape_e2 | shape_r_ivar | shape_e1_ivar | shape_e2_ivar | sersic | sersic_ivar | ref_id | ref_cat | gaia_phot_g_mean_mag | gaia_phot_g_mean_flux_over_error | gaia_phot_bp_mean_mag | gaia_phot_bp_mean_flux_over_error | gaia_phot_rp_mean_mag | gaia_phot_rp_mean_flux_over_error | gaia_phot_bp_rp_excess_factor | gaia_duplicated_source | gaia_astrometric_sigma5d_max | gaia_astrometric_params_solved | parallax | parallax_ivar | pmra | pmra_ivar | pmdec | pmdec_ivar | targetid | id | targetid | photsys | subpriority | obsconditions | priority_init | numobs_init | hpxpixel | cmx_target | desi_target | bgs_target | mws_target | sv1_desi_target | sv1_bgs_target | sv1_mws_target | sv2_desi_target | sv2_bgs_target | sv2_mws_target | sv3_desi_target | sv3_bgs_target | sv3_mws_target | scnd_target | sv1_scnd_target | sv2_scnd_target | sv3_scnd_target | survey | program | tileid | id | tileid | targetid | petal_loc | device_loc | location | fiber | fiberstatus | target_ra | target_dec | lambda_ref | fa_target | fa_type | fiberassign_x | fiberassign_y | priority | plate_ra | plate_dec | tileid | survey | program | faprgrm | faflavor | nexp | exptime | tilera | tiledec | efftime_etc | efftime_spec | efftime_gfa | goaltime | obsstatus | lrg_efftime_dark | elg_efftime_dark | bgs_efftime_bright | lya_efftime_dark | goaltype | mintfrac | lastnight | frameid | night | expid | tileid | mjd | exptime | ebv | camera | tsnr2_gpbdark | tsnr2_elg | tsnr2_gpbbright | tsnr2_lya | tsnr2_bgs | tsnr2_gpbbackup | tsnr2_qso | tsnr2_lrg | id | targetphotid | targetid | survey | program | spgrp | spgrpval | z | zerr | zwarn | chi2 | coeff_0 | coeff_1 | coeff_2 | coeff_3 | coeff_4 | coeff_5 | coeff_6 | coeff_7 | coeff_8 | coeff_9 | npixels | spectype | subtype | ncoeff | deltachi2 | coadd_fiberstatus | tileid | coadd_numexp | coadd_exptime | coadd_numnight | coadd_numtile | mean_delta_x | rms_delta_x | mean_delta_y | rms_delta_y | mean_fiber_ra | std_fiber_ra | mean_fiber_dec | std_fiber_dec | mean_psf_to_fiber_specflux | tsnr2_gpbdark_b | tsnr2_elg_b | tsnr2_gpbbright_b | tsnr2_lya_b | tsnr2_bgs_b | tsnr2_gpbbackup_b | tsnr2_qso_b | tsnr2_lrg_b | tsnr2_gpbdark_r | tsnr2_elg_r | tsnr2_gpbbright_r | tsnr2_lya_r | tsnr2_bgs_r | tsnr2_gpbbackup_r | tsnr2_qso_r | tsnr2_lrg_r | tsnr2_gpbdark_z | tsnr2_elg_z | tsnr2_gpbbright_z | tsnr2_lya_z | tsnr2_bgs_z | tsnr2_gpbbackup_z | tsnr2_qso_z | tsnr2_lrg_z | tsnr2_gpbdark | tsnr2_elg | tsnr2_gpbbright | tsnr2_lya | tsnr2_bgs | tsnr2_gpbbackup | tsnr2_qso | tsnr2_lrg | sv_nspec | sv_primary | main_nspec | main_primary | zcat_nspec | zcat_primary \"\"\""
   ]
  },
  {
   "cell_type": "code",
   "execution_count": 19,
   "metadata": {},
   "outputs": [
    {
     "data": {
      "text/plain": [
       "{'ebv',\n",
       " 'exptime',\n",
       " 'id',\n",
       " 'program',\n",
       " 'survey',\n",
       " 'targetid',\n",
       " 'tileid',\n",
       " 'tsnr2_bgs',\n",
       " 'tsnr2_elg',\n",
       " 'tsnr2_gpbbackup',\n",
       " 'tsnr2_gpbbright',\n",
       " 'tsnr2_gpbdark',\n",
       " 'tsnr2_lrg',\n",
       " 'tsnr2_lya',\n",
       " 'tsnr2_qso'}"
      ]
     },
     "execution_count": 19,
     "metadata": {},
     "output_type": "execute_result"
    }
   ],
   "source": [
    "dupeColumns(s)"
   ]
  },
  {
   "cell_type": "markdown",
   "metadata": {
    "tags": []
   },
   "source": [
    "### Exercises\n",
    "\n",
    "* What is the type of the `night` column of the `exposures` table?\n",
    "* What is the primary key of the `ztile` table?"
   ]
  },
  {
   "cell_type": "code",
   "execution_count": 20,
   "metadata": {},
   "outputs": [
    {
     "data": {
      "text/plain": [
       "Integer()"
      ]
     },
     "execution_count": 20,
     "metadata": {},
     "output_type": "execute_result"
    }
   ],
   "source": [
    "db.Exposure.__table__.columns.night.type"
   ]
  },
  {
   "cell_type": "code",
   "execution_count": 21,
   "metadata": {},
   "outputs": [
    {
     "data": {
      "text/plain": [
       "desispec.database.redshift.Ztile"
      ]
     },
     "execution_count": 21,
     "metadata": {},
     "output_type": "execute_result"
    }
   ],
   "source": [
    "db.Ztile"
   ]
  },
  {
   "cell_type": "markdown",
   "metadata": {
    "tags": []
   },
   "source": [
    "## Simple Queries\n",
    "\n",
    "Queries are set up with the `.query()` method on Session objects.  In this case, there's a prepared Session object called `db.dbSession`.  `.filter()` corresponds to a `WHERE` clause in SQL.\n",
    "\n",
    "In most of the examples below, we include the equivalent raw SQL command that corresponds to the query."
   ]
  },
  {
   "cell_type": "markdown",
   "metadata": {},
   "source": [
    "### Exposures, Nights, Tiles\n",
    "\n",
    "Here are some simple queries that demonstrate simple connections between nights, exposures and tiles.\n",
    "\n",
    "#### How many tiles are there?\n",
    "\n",
    "```SQL\n",
    "SELECT COUNT(tileid) FROM fuji.tile;\n",
    "```"
   ]
  },
  {
   "cell_type": "code",
   "execution_count": 22,
   "metadata": {},
   "outputs": [
    {
     "data": {
      "text/plain": [
       "732"
      ]
     },
     "execution_count": 22,
     "metadata": {},
     "output_type": "execute_result"
    }
   ],
   "source": [
    "q = db.dbSession.query(db.Tile).count()\n",
    "q"
   ]
  },
  {
   "cell_type": "markdown",
   "metadata": {},
   "source": [
    "#### On which nights were a particular tile observed?\n",
    "\n",
    "```SQL\n",
    "SELECT night, expid FROM fuji.exposure WHERE tileid = 100;\n",
    "```"
   ]
  },
  {
   "cell_type": "code",
   "execution_count": 23,
   "metadata": {},
   "outputs": [
    {
     "data": {
      "text/plain": [
       "[(20210504, 87236), (20210505, 87361)]"
      ]
     },
     "execution_count": 23,
     "metadata": {},
     "output_type": "execute_result"
    }
   ],
   "source": [
    "q = db.dbSession.query(db.Exposure.night, db.Exposure.expid).filter(db.Exposure.tileid == 100).all()\n",
    "q"
   ]
  },
  {
   "cell_type": "markdown",
   "metadata": {},
   "source": [
    "#### Which tiles were observed on a night?\n",
    "\n",
    "```SQL\n",
    "SELECT tileid, survey, program FROM fuji.exposure WHERE night = 20210115;\n",
    "```"
   ]
  },
  {
   "cell_type": "code",
   "execution_count": 24,
   "metadata": {},
   "outputs": [
    {
     "data": {
      "text/plain": [
       "[(80655, 'sv1', 'bright'),\n",
       " (80680, 'sv1', 'dark'),\n",
       " (80680, 'sv1', 'dark'),\n",
       " (80660, 'sv1', 'bright'),\n",
       " (80660, 'sv1', 'bright'),\n",
       " (80715, 'sv1', 'other'),\n",
       " (80715, 'sv1', 'other'),\n",
       " (80715, 'sv1', 'other'),\n",
       " (80674, 'sv1', 'dark'),\n",
       " (80674, 'sv1', 'dark'),\n",
       " (80674, 'sv1', 'dark'),\n",
       " (80683, 'sv1', 'dark'),\n",
       " (80683, 'sv1', 'dark'),\n",
       " (80678, 'sv1', 'dark'),\n",
       " (80678, 'sv1', 'dark'),\n",
       " (80688, 'sv1', 'dark'),\n",
       " (80688, 'sv1', 'dark'),\n",
       " (80685, 'sv1', 'dark'),\n",
       " (80685, 'sv1', 'dark'),\n",
       " (80662, 'sv1', 'bright'),\n",
       " (80662, 'sv1', 'bright'),\n",
       " (80663, 'sv1', 'bright'),\n",
       " (80663, 'sv1', 'bright'),\n",
       " (80690, 'sv1', 'dark'),\n",
       " (80690, 'sv1', 'dark'),\n",
       " (80653, 'sv1', 'bright'),\n",
       " (80653, 'sv1', 'bright'),\n",
       " (80700, 'sv1', 'dark'),\n",
       " (80700, 'sv1', 'dark'),\n",
       " (80699, 'sv1', 'dark'),\n",
       " (80699, 'sv1', 'dark'),\n",
       " (80665, 'sv1', 'bright'),\n",
       " (80665, 'sv1', 'bright'),\n",
       " (80707, 'sv1', 'dark'),\n",
       " (80707, 'sv1', 'dark')]"
      ]
     },
     "execution_count": 24,
     "metadata": {},
     "output_type": "execute_result"
    }
   ],
   "source": [
    "q = db.dbSession.query(db.Exposure.tileid, db.Exposure.survey, db.Exposure.program).filter(db.Exposure.night == 20210115).all()\n",
    "q"
   ]
  },
  {
   "cell_type": "markdown",
   "metadata": {},
   "source": [
    "### Select ELG Targets\n",
    "\n",
    "Note the special way we obtain the bitwise AND operator (`desi_mask.ELG == 2**1`).\n",
    "\n",
    "```SQL\n",
    "SELECT * from fuji.target WHERE (desi_target & 2) != 0;\n",
    "```"
   ]
  },
  {
   "cell_type": "code",
   "execution_count": 25,
   "metadata": {},
   "outputs": [
    {
     "data": {
      "text/plain": [
       "[Target(targetid=39628227710287982, tileid=81100, survey='special'),\n",
       " Target(targetid=39628267694592477, tileid=81100, survey='special'),\n",
       " Target(targetid=39628267694592376, tileid=81100, survey='special'),\n",
       " Target(targetid=39628267694592351, tileid=81100, survey='special'),\n",
       " Target(targetid=39628267694592346, tileid=81100, survey='special'),\n",
       " Target(targetid=39628267694592334, tileid=81100, survey='special'),\n",
       " Target(targetid=39628267694592326, tileid=81100, survey='special'),\n",
       " Target(targetid=39628267694592503, tileid=81100, survey='special'),\n",
       " Target(targetid=39628267694592281, tileid=81100, survey='special'),\n",
       " Target(targetid=39628267694592234, tileid=81100, survey='special')]"
      ]
     },
     "execution_count": 25,
     "metadata": {},
     "output_type": "execute_result"
    }
   ],
   "source": [
    "q = db.dbSession.query(db.Target).filter(db.Target.desi_target.op('&')(desi_mask.ELG) != 0).all()\n",
    "q[:10]"
   ]
  },
  {
   "cell_type": "code",
   "execution_count": 26,
   "metadata": {},
   "outputs": [
    {
     "data": {
      "text/plain": [
       "[(39628227710287982, 655394, 'special', 'dark', 81100),\n",
       " (39628267694592477, 1179778, 'special', 'dark', 81100),\n",
       " (39628267694592376, 1179842, 'special', 'dark', 81100),\n",
       " (39628267694592351, 655394, 'special', 'dark', 81100),\n",
       " (39628267694592346, 655458, 'special', 'dark', 81100),\n",
       " (39628267694592334, 655394, 'special', 'dark', 81100),\n",
       " (39628267694592326, 655394, 'special', 'dark', 81100),\n",
       " (39628267694592503, 655394, 'special', 'dark', 81100),\n",
       " (39628267694592281, 1179778, 'special', 'dark', 81100),\n",
       " (39628267694592234, 655394, 'special', 'dark', 81100)]"
      ]
     },
     "execution_count": 26,
     "metadata": {},
     "output_type": "execute_result"
    }
   ],
   "source": [
    "[(row.targetid, row.desi_target, row.survey, row.program, row.tileid) for row in q[:10]]"
   ]
  },
  {
   "cell_type": "markdown",
   "metadata": {},
   "source": [
    "#### Exercise\n",
    "\n",
    "* How many objects in the `zpix` table have `spectype` 'GALAXY'?"
   ]
  },
  {
   "cell_type": "code",
   "execution_count": 32,
   "metadata": {},
   "outputs": [
    {
     "data": {
      "text/plain": [
       "1303237"
      ]
     },
     "execution_count": 32,
     "metadata": {},
     "output_type": "execute_result"
    }
   ],
   "source": [
    "db.dbSession.query(db.Zpix).filter(db.Zpix.spectype == 'GALAXY').count()"
   ]
  },
  {
   "cell_type": "markdown",
   "metadata": {},
   "source": [
    "### Redshift and Classification\n",
    "\n",
    "Simple query filtering on string values. Note that the slice notation `[:20]` is equivalent to `LIMIT 20` in SQL.\n",
    "\n",
    "```SQL\n",
    "SELECT spectype, subtype, z FROM fuji.zpix WHERE spectype = 'STAR' AND subtype != '' LIMIT 20;\n",
    "```"
   ]
  },
  {
   "cell_type": "code",
   "execution_count": 33,
   "metadata": {},
   "outputs": [
    {
     "data": {
      "text/plain": [
       "[('STAR', 'CV', -0.00199569129234795),\n",
       " ('STAR', 'M', -3.75605406508605e-05),\n",
       " ('STAR', 'G', -6.60747391019077e-05),\n",
       " ('STAR', 'M', 9.8335838129404e-05),\n",
       " ('STAR', 'CV', -0.00199569129234795),\n",
       " ('STAR', 'CV', -0.00199569129234795),\n",
       " ('STAR', 'K', -0.000187595450424383),\n",
       " ('STAR', 'G', -0.000245578117524253),\n",
       " ('STAR', 'CV', -0.00199569129234795),\n",
       " ('STAR', 'CV', -0.00199569129234795),\n",
       " ('STAR', 'K', 0.000100795469925271),\n",
       " ('STAR', 'CV', -0.00199569129234795),\n",
       " ('STAR', 'CV', -0.00199569129234795),\n",
       " ('STAR', 'CV', -0.00199569129234795),\n",
       " ('STAR', 'CV', -0.00199569129234795),\n",
       " ('STAR', 'CV', -0.00199569129234795),\n",
       " ('STAR', 'CV', -0.00199569129234795),\n",
       " ('STAR', 'M', -8.97785163529219e-05),\n",
       " ('STAR', 'M', -4.33558174813776e-05),\n",
       " ('STAR', 'CV', -0.00199569129234795)]"
      ]
     },
     "execution_count": 33,
     "metadata": {},
     "output_type": "execute_result"
    }
   ],
   "source": [
    "db.dbSession.query(db.Zpix.spectype, db.Zpix.subtype, db.Zpix.z).filter(db.Zpix.spectype == 'STAR').filter(db.Zpix.subtype != '')[:20]"
   ]
  },
  {
   "cell_type": "code",
   "execution_count": 34,
   "metadata": {},
   "outputs": [
    {
     "data": {
      "text/plain": [
       "[('STAR', 'CV', -0.00199569129234795),\n",
       " ('STAR', 'M', -3.75605406508605e-05),\n",
       " ('STAR', 'G', -6.60747391019077e-05),\n",
       " ('STAR', 'M', 9.8335838129404e-05),\n",
       " ('STAR', 'CV', -0.00199569129234795),\n",
       " ('STAR', 'CV', -0.00199569129234795),\n",
       " ('STAR', 'K', -0.000187595450424383),\n",
       " ('STAR', 'G', -0.000245578117524253),\n",
       " ('STAR', 'CV', -0.00199569129234795),\n",
       " ('STAR', 'CV', -0.00199569129234795),\n",
       " ('STAR', 'K', 0.000100795469925271),\n",
       " ('STAR', 'CV', -0.00199569129234795),\n",
       " ('STAR', 'CV', -0.00199569129234795),\n",
       " ('STAR', 'CV', -0.00199569129234795),\n",
       " ('STAR', 'CV', -0.00199569129234795),\n",
       " ('STAR', 'CV', -0.00199569129234795),\n",
       " ('STAR', 'CV', -0.00199569129234795),\n",
       " ('STAR', 'M', -8.97785163529219e-05),\n",
       " ('STAR', 'M', -4.33558174813776e-05),\n",
       " ('STAR', 'CV', -0.00199569129234795)]"
      ]
     },
     "execution_count": 34,
     "metadata": {},
     "output_type": "execute_result"
    }
   ],
   "source": [
    "q = db.dbSession.query(db.Zpix.spectype, db.Zpix.subtype, db.Zpix.z).filter(db.Zpix.spectype == 'STAR').filter(db.Zpix.subtype != '')[:20]\n",
    "q"
   ]
  },
  {
   "cell_type": "markdown",
   "metadata": {},
   "source": [
    "## Joining Tables\n",
    "\n",
    "### A Simple Join\n",
    "\n",
    "Let's look at the nights and exposures on which a particular `TARGETID` was observed.\n",
    "\n",
    "```SQL\n",
    "SELECT f.tileid, e.expid, e.night FROM fuji.fiberassign AS f JOIN fuji.exposure AS e ON f.tileid = e.tileid WHERE f.targetid = 933811403620352;\n",
    "```"
   ]
  },
  {
   "cell_type": "code",
   "execution_count": 35,
   "metadata": {},
   "outputs": [
    {
     "data": {
      "text/plain": [
       "[(278, 85086, 20210416),\n",
       " (279, 85209, 20210417),\n",
       " (279, 85207, 20210417),\n",
       " (279, 85206, 20210417),\n",
       " (279, 85208, 20210417),\n",
       " (280, 86981, 20210502),\n",
       " (280, 86980, 20210502)]"
      ]
     },
     "execution_count": 35,
     "metadata": {},
     "output_type": "execute_result"
    }
   ],
   "source": [
    "q = db.dbSession.query(db.Fiberassign.tileid, db.Exposure.expid, db.Exposure.night).filter(db.Fiberassign.tileid == db.Exposure.tileid).filter(db.Fiberassign.targetid == 933811403620352).all()\n",
    "q"
   ]
  },
  {
   "cell_type": "markdown",
   "metadata": {},
   "source": [
    "### Another Simple Join\n",
    "\n",
    "In this case, we'll look at photometric flux and measured redshift. We'll `ORDER`(`BY`) the results and `LIMIT` the query with slice notation.\n",
    "\n",
    "```SQL\n",
    "SELECT p.*, z.* FROM fuji.photometry AS p JOIN fuji.zpix AS z ON p.targetid = z.targetid ORDER BY z.z, p.flux_g LIMIT 50;\n",
    "```"
   ]
  },
  {
   "cell_type": "code",
   "execution_count": 36,
   "metadata": {},
   "outputs": [],
   "source": [
    "q = db.dbSession.query(db.Photometry, db.Zpix).filter(db.Photometry.targetid == db.Zpix.targetid).order_by(db.Zpix.z, db.Photometry.flux_g)[:50]"
   ]
  },
  {
   "cell_type": "code",
   "execution_count": 37,
   "metadata": {},
   "outputs": [
    {
     "data": {
      "text/plain": [
       "[(0.0, 0.0, 0.0, -0.005),\n",
       " (0.0, 0.0, 0.0, -0.005),\n",
       " (0.0, 0.0, 0.0, -0.005),\n",
       " (0.288389, 0.399304, 0.658613, -0.005),\n",
       " (0.371317, 0.500192, 0.926787, -0.005),\n",
       " (0.376231, 0.462276, 0.735718, -0.005),\n",
       " (0.402784, 0.492405, 0.729579, -0.005),\n",
       " (0.423864, 0.508099, 0.905529, -0.005),\n",
       " (0.645119, 0.751905, 1.32465, -0.005),\n",
       " (0.763588, 0.981288, 1.35165, -0.005),\n",
       " (0.801658, 1.18934, 1.3972, -0.005),\n",
       " (1.03619, 1.16814, 0.885411, -0.005),\n",
       " (1.97763, 7.93039, 17.0531, -0.005),\n",
       " (3.36023, 4.87858, 5.37419, -0.005),\n",
       " (30.6108, 42.9943, 46.7004, -0.005),\n",
       " (0.322118, 0.260959, 0.380534, -0.00498711921143957),\n",
       " (0.301417, 0.322585, 0.620725, -0.00498464799337274),\n",
       " (0.282215, 0.150698, 0.302225, -0.00498389817403406),\n",
       " (0.0, 0.0, 0.0, -0.00497712431274103),\n",
       " (0.289591, 0.421891, 0.285822, -0.00497480828100477),\n",
       " (0.758101, 1.3058, 2.06423, -0.00496785500847381),\n",
       " (0.321924, 0.229319, 0.286182, -0.00496686452525558),\n",
       " (6.79679, 12.0986, 14.6919, -0.00496137489562983),\n",
       " (0.943244, 1.34712, 1.68344, -0.00495068108765667),\n",
       " (0.435942, 0.864885, 1.06207, -0.00494602147401771),\n",
       " (0.284503, 0.322329, 0.397715, -0.00494478018021129),\n",
       " (0.251468, 0.152997, 0.226161, -0.00494253876391819),\n",
       " (0.44122, 0.51953, 0.722711, -0.00494167979158535),\n",
       " (0.467594, 0.433161, 0.693365, -0.00492105136488088),\n",
       " (0.716509, 0.749715, 1.51644, -0.00491955587627944),\n",
       " (0.746316, 0.954621, 1.28503, -0.00491309151969801),\n",
       " (1.05854, 1.28221, 1.72357, -0.00490634550603563),\n",
       " (0.377628, 0.346635, 0.762695, -0.00489705191466537),\n",
       " (0.326689, 0.40929, 0.64571, -0.00489582143114029),\n",
       " (0.54431, 0.288209, 0.344592, -0.00489350228649914),\n",
       " (0.169155, 0.206339, 0.158568, -0.00488832295688929),\n",
       " (0.0694526, 0.370322, 0.761332, -0.00488458754970264),\n",
       " (0.0, 0.0, 0.0, -0.00487174560334031),\n",
       " (0.32662, 0.316805, 0.390809, -0.0048649513036151),\n",
       " (0.831878, 0.951791, 1.14386, -0.00486370589552874),\n",
       " (0.237673, 0.292731, 0.189681, -0.00484713902932219),\n",
       " (2.16691, 3.37454, 4.08859, -0.00484364184483702),\n",
       " (2.70403, 5.33422, 5.08897, -0.00484155816751214),\n",
       " (0.360045, 0.481733, 0.804708, -0.0048414938510824),\n",
       " (0.445144, 0.635601, 0.935451, -0.00481938090355511),\n",
       " (0.9607, 1.26478, 1.28111, -0.00480374925620831),\n",
       " (0.172444, 0.825616, 1.97985, -0.0048012546969053),\n",
       " (0.572299, 0.800799, 0.768185, -0.00479320262262367),\n",
       " (9.8836, 34.9655, 82.8736, -0.0047829542854747),\n",
       " (0.0, 0.0, 0.0, -0.00475923849977499)]"
      ]
     },
     "execution_count": 37,
     "metadata": {},
     "output_type": "execute_result"
    }
   ],
   "source": [
    "[(row.Photometry.flux_g, row.Photometry.flux_r, row.Photometry.flux_z, row.Zpix.z) for row in q]"
   ]
  },
  {
   "cell_type": "code",
   "execution_count": 38,
   "metadata": {
    "scrolled": true
   },
   "outputs": [
    {
     "name": "stderr",
     "output_type": "stream",
     "text": [
      "/tmp/ipykernel_127058/3953067757.py:4: RuntimeWarning: invalid value encountered in true_divide\n",
      "  g_minus_r = np.log10(flux_r/flux_g)\n",
      "/tmp/ipykernel_127058/3953067757.py:5: RuntimeWarning: invalid value encountered in true_divide\n",
      "  r_minus_z = np.log10(flux_z/flux_r)\n"
     ]
    },
    {
     "data": {
      "image/png": "[encoded data removed]",
      "text/plain": [
       "<Figure size 500x500 with 1 Axes>"
      ]
     },
     "metadata": {},
     "output_type": "display_data"
    }
   ],
   "source": [
    "flux_g = np.array([row.Photometry.flux_g for row in q])\n",
    "flux_r = np.array([row.Photometry.flux_r for row in q])\n",
    "flux_z = np.array([row.Photometry.flux_z for row in q])\n",
    "g_minus_r = np.log10(flux_r/flux_g)\n",
    "r_minus_z = np.log10(flux_z/flux_r)\n",
    "redshift = np.array([row.Zpix.z for row in q])\n",
    "fig, axes = plt.subplots(1, 1, figsize=(5, 5), dpi=100)\n",
    "p = axes.plot(g_minus_r, r_minus_z, 'k.')\n",
    "foo = axes.set_xlim([-0.2, 1.0])\n",
    "foo = axes.set_ylim([-0.2, 1.0])\n",
    "foo = axes.set_aspect('equal')\n",
    "foo = axes.set_xlabel('$g - r$')\n",
    "foo = axes.set_ylabel('$r - z$')"
   ]
  },
  {
   "cell_type": "markdown",
   "metadata": {},
   "source": [
    "#### Exercise\n",
    "\n",
    "* Create a color-color plot for objects targeted as QSOs, and spectroscopically confirmed as such."
   ]
  },
  {
   "cell_type": "code",
   "execution_count": 39,
   "metadata": {},
   "outputs": [],
   "source": [
    "q = db.dbSession.query(db.Zpix).filter(db.Zpix.spectype == 'QSO')[::10]"
   ]
  },
  {
   "cell_type": "code",
   "execution_count": 40,
   "metadata": {},
   "outputs": [],
   "source": [
    "ra = [obj.mean_fiber_ra for obj in q]\n",
    "dec = [obj.mean_fiber_dec for obj in q]"
   ]
  },
  {
   "cell_type": "code",
   "execution_count": 41,
   "metadata": {},
   "outputs": [
    {
     "data": {
      "text/plain": [
       "<matplotlib.collections.PathCollection at 0x151cbb4aa440>"
      ]
     },
     "execution_count": 41,
     "metadata": {},
     "output_type": "execute_result"
    },
    {
     "data": {
      "image/png": "[encoded data removed]",
      "text/plain": [
       "<Figure size 640x480 with 1 Axes>"
      ]
     },
     "metadata": {},
     "output_type": "display_data"
    }
   ],
   "source": [
    "plt.scatter(ra, dec, c=dec, cmap='inferno')"
   ]
  },
  {
   "cell_type": "markdown",
   "metadata": {},
   "source": [
    "### A More Complicated Join\n",
    "\n",
    "Let's look at objects that appear on more than one tile. For each of those tiles, how many exposures where there?\n",
    "\n",
    "In this example, we're using `sqlalchemy.sql.func` to get the equivalent of `COUNT(*)` and a subquery that itself is a multi-table join.\n",
    "\n",
    "```SQL\n",
    "SELECT t.nexp, f.tileid, q1.targetid, q1.n_assign FROM fuji.fiberassign AS f\n",
    "    JOIN (SELECT ff.targetid, COUNT(*) AS n_assign FROM fuji.fiberassign AS ff GROUP BY ff.targetid) AS q1 ON f.targetid = q1.targetid\n",
    "    JOIN fuji.tile AS t ON f.tileid = t.tileid LIMIT 100;\n",
    "```"
   ]
  },
  {
   "cell_type": "code",
   "execution_count": 42,
   "metadata": {},
   "outputs": [],
   "source": [
    "db.dbSession.rollback()\n",
    "q1 = db.dbSession.query(db.Fiberassign.targetid, func.count('*').label('n_assign')).group_by(db.Fiberassign.targetid).subquery()\n",
    "q2 = db.dbSession.query(db.Tile.nexp, db.Fiberassign.tileid, q1.c.targetid, q1.c.n_assign).filter(q1.c.n_assign>2).filter(db.Fiberassign.targetid == q1.c.targetid).filter(db.Tile.tileid == db.Fiberassign.tileid)"
   ]
  },
  {
   "cell_type": "code",
   "execution_count": 43,
   "metadata": {},
   "outputs": [
    {
     "data": {
      "text/plain": [
       "716866"
      ]
     },
     "execution_count": 43,
     "metadata": {},
     "output_type": "execute_result"
    }
   ],
   "source": [
    "q2.count()"
   ]
  },
  {
   "cell_type": "markdown",
   "metadata": {},
   "source": [
    "Now let's see what the redshift table thinks are the number of exposures for these objects.\n",
    "\n",
    "```SQL\n",
    "SELECT z.* FROM fuji.zpix AS z WHERE z.targetid IN (6432023904256, 6448025174016[, ...]);\n",
    "```"
   ]
  },
  {
   "cell_type": "code",
   "execution_count": 44,
   "metadata": {},
   "outputs": [],
   "source": [
    "q3 = db.dbSession.query(db.Zpix).filter(db.Zpix.targetid.in_([row[2] for row in q2])).all()"
   ]
  },
  {
   "cell_type": "code",
   "execution_count": 45,
   "metadata": {},
   "outputs": [
    {
     "data": {
      "text/plain": [
       "(array([2.3240e+03, 0.0000e+00, 1.5326e+04, 0.0000e+00, 2.5460e+04,\n",
       "        0.0000e+00, 0.0000e+00, 5.5461e+04, 0.0000e+00, 4.2962e+04,\n",
       "        0.0000e+00, 2.7673e+04, 0.0000e+00, 0.0000e+00, 1.8846e+04,\n",
       "        0.0000e+00, 1.2069e+04, 0.0000e+00, 0.0000e+00, 6.8490e+03,\n",
       "        0.0000e+00, 4.8570e+03, 0.0000e+00, 2.9530e+03, 0.0000e+00,\n",
       "        0.0000e+00, 2.6210e+03, 0.0000e+00, 6.3300e+03, 0.0000e+00,\n",
       "        6.0000e+02, 0.0000e+00, 0.0000e+00, 4.8200e+02, 0.0000e+00,\n",
       "        1.7020e+03, 0.0000e+00, 0.0000e+00, 6.2100e+02, 0.0000e+00,\n",
       "        1.1300e+02, 0.0000e+00, 7.2000e+01, 0.0000e+00, 0.0000e+00,\n",
       "        2.3400e+02, 0.0000e+00, 3.1300e+02, 0.0000e+00, 0.0000e+00,\n",
       "        2.3200e+02, 0.0000e+00, 4.8000e+01, 0.0000e+00, 1.4600e+02,\n",
       "        0.0000e+00, 0.0000e+00, 1.1000e+01, 0.0000e+00, 9.0000e+00,\n",
       "        0.0000e+00, 1.6000e+01, 0.0000e+00, 0.0000e+00, 2.0000e+00,\n",
       "        0.0000e+00, 7.0000e+00, 0.0000e+00, 0.0000e+00, 1.6000e+01,\n",
       "        0.0000e+00, 1.1100e+02, 0.0000e+00, 1.0100e+02, 0.0000e+00,\n",
       "        0.0000e+00, 0.0000e+00, 0.0000e+00, 2.0000e+00, 0.0000e+00,\n",
       "        0.0000e+00, 0.0000e+00, 0.0000e+00, 1.0000e+00, 0.0000e+00,\n",
       "        6.0000e+00, 0.0000e+00, 0.0000e+00, 1.0000e+00, 0.0000e+00,\n",
       "        2.9000e+01, 0.0000e+00, 5.7000e+01, 0.0000e+00, 0.0000e+00,\n",
       "        0.0000e+00, 0.0000e+00, 2.0000e+00, 0.0000e+00, 1.3000e+01]),\n",
       " array([ 0.  ,  0.42,  0.84,  1.26,  1.68,  2.1 ,  2.52,  2.94,  3.36,\n",
       "         3.78,  4.2 ,  4.62,  5.04,  5.46,  5.88,  6.3 ,  6.72,  7.14,\n",
       "         7.56,  7.98,  8.4 ,  8.82,  9.24,  9.66, 10.08, 10.5 , 10.92,\n",
       "        11.34, 11.76, 12.18, 12.6 , 13.02, 13.44, 13.86, 14.28, 14.7 ,\n",
       "        15.12, 15.54, 15.96, 16.38, 16.8 , 17.22, 17.64, 18.06, 18.48,\n",
       "        18.9 , 19.32, 19.74, 20.16, 20.58, 21.  , 21.42, 21.84, 22.26,\n",
       "        22.68, 23.1 , 23.52, 23.94, 24.36, 24.78, 25.2 , 25.62, 26.04,\n",
       "        26.46, 26.88, 27.3 , 27.72, 28.14, 28.56, 28.98, 29.4 , 29.82,\n",
       "        30.24, 30.66, 31.08, 31.5 , 31.92, 32.34, 32.76, 33.18, 33.6 ,\n",
       "        34.02, 34.44, 34.86, 35.28, 35.7 , 36.12, 36.54, 36.96, 37.38,\n",
       "        37.8 , 38.22, 38.64, 39.06, 39.48, 39.9 , 40.32, 40.74, 41.16,\n",
       "        41.58, 42.  ]),\n",
       " <BarContainer object of 100 artists>)"
      ]
     },
     "execution_count": 45,
     "metadata": {},
     "output_type": "execute_result"
    },
    {
     "data": {
      "image/png": "[encoded data removed]",
      "text/plain": [
       "<Figure size 640x480 with 1 Axes>"
      ]
     },
     "metadata": {},
     "output_type": "display_data"
    }
   ],
   "source": [
    "num_exp = [row.coadd_numexp for row in q3]\n",
    "plt.hist(num_exp, bins=100)"
   ]
  },
  {
   "cell_type": "code",
   "execution_count": 46,
   "metadata": {},
   "outputs": [
    {
     "data": {
      "text/plain": [
       "228678"
      ]
     },
     "execution_count": 46,
     "metadata": {},
     "output_type": "execute_result"
    }
   ],
   "source": [
    "len(num_exp)"
   ]
  },
  {
   "cell_type": "markdown",
   "metadata": {},
   "source": [
    "#### Exercise\n",
    "\n",
    "* What is the distribution of number of exposures?"
   ]
  },
  {
   "cell_type": "markdown",
   "metadata": {},
   "source": [
    "## Fly me to the Moon\n",
    "\n",
    "How does the Moon affect redshifts?  First, let's find exposures that exposures that had the Moon above the horizon."
   ]
  },
  {
   "cell_type": "code",
   "execution_count": 47,
   "metadata": {},
   "outputs": [
    {
     "name": "stderr",
     "output_type": "stream",
     "text": [
      "WARNING: AstropyDeprecationWarning: Transforming a frame instance to a frame class (as opposed to another frame instance) will not be supported in the future.  Either explicitly instantiate the target frame, or first convert the source frame instance to a `astropy.coordinates.SkyCoord` and use its `transform_to()` method. [astropy.coordinates.baseframe]\n"
     ]
    },
    {
     "data": {
      "text/plain": [
       "902"
      ]
     },
     "execution_count": 47,
     "metadata": {},
     "output_type": "execute_result"
    }
   ],
   "source": [
    "moon_up = [e.expid for e in db.dbSession.query(db.Exposure).all() if ephem.moon(e.mjd, e.tilera, e.tiledec)[1] > 0]\n",
    "len(moon_up)"
   ]
  },
  {
   "cell_type": "code",
   "execution_count": 49,
   "metadata": {},
   "outputs": [],
   "source": [
    "# moon_up"
   ]
  },
  {
   "cell_type": "markdown",
   "metadata": {},
   "source": [
    "So there are a few.  But there is a subtle issue: redshifts are based on *all* exposures, and the exposures are deliberately designed to enforce the bright/dark dichotomy in targeting. There are execptions though: certain LRGs also get targeted in the BGS & MWS, so that's not hard to capture. "
   ]
  },
  {
   "cell_type": "code",
   "execution_count": 50,
   "metadata": {},
   "outputs": [
    {
     "data": {
      "text/plain": [
       "3458764513820540929"
      ]
     },
     "execution_count": 50,
     "metadata": {},
     "output_type": "execute_result"
    }
   ],
   "source": [
    "various_lrgs = (desi_mask.LRG | desi_mask.BGS_ANY | desi_mask.MWS_ANY)\n",
    "various_lrgs"
   ]
  },
  {
   "cell_type": "markdown",
   "metadata": {},
   "source": [
    "```SQL\n",
    "SELECT z.targetid, z.z, z.zerr, z.zwarn\n",
    "    FROM fuji.ztile AS z\n",
    "    JOIN fuji.target AS t ON z.targetphotid = t.id\n",
    "    JOIN fuji.fiberassign AS f ON t.targetid = f.targetid\n",
    "    JOIN fuji.exposure AS e ON f.tileid == e.tileid\n",
    "    WHERE z.spgrp = 'cumulative'\n",
    "    AND t.desi_target & 3458764513820540929 != 0\n",
    "    AND e.expid IN (90250, 87505, 87382[...]);\n",
    "```"
   ]
  },
  {
   "cell_type": "code",
   "execution_count": 51,
   "metadata": {},
   "outputs": [],
   "source": [
    "q_up = db.dbSession.query(db.Ztile.targetid, db.Ztile.z, db.Ztile.zerr, db.Ztile.zwarn)\\\n",
    "                   .join(db.Target, db.Target.id==db.Ztile.targetphotid)\\\n",
    "                   .join(db.Fiberassign, db.Target.targetid==db.Fiberassign.targetid)\\\n",
    "                   .join(db.Exposure, db.Fiberassign.tileid==db.Exposure.tileid)\\\n",
    "                   .filter(db.Ztile.spgrp=='cumulative')\\\n",
    "                   .filter(db.Target.desi_target.op('&')(various_lrgs) != 0)\\\n",
    "                   .filter(db.Exposure.expid.in_(moon_up)).all()"
   ]
  },
  {
   "cell_type": "markdown",
   "metadata": {},
   "source": [
    "```SQL\n",
    "SELECT z.targetid, z.z, z.zerr, z.zwarn\n",
    "    FROM fuji.ztile AS z\n",
    "    JOIN fuji.target AS t ON z.targetphotid = t.id\n",
    "    JOIN fuji.fiberassign AS f ON t.targetid = f.targetid\n",
    "    JOIN fuji.exposure AS e ON f.tileid == e.tileid\n",
    "    WHERE z.spgrp = 'cumulative'\n",
    "    AND t.desi_target & 3458764513820540929 != 0\n",
    "    AND e.expid NOT IN (90250, 87505, 87382[...]);\n",
    "```"
   ]
  },
  {
   "cell_type": "code",
   "execution_count": 52,
   "metadata": {},
   "outputs": [],
   "source": [
    "q_dn = db.dbSession.query(db.Ztile.targetid, db.Ztile.z, db.Ztile.zerr, db.Ztile.zwarn)\\\n",
    "                   .join(db.Target, db.Target.id==db.Ztile.targetphotid)\\\n",
    "                   .join(db.Fiberassign, db.Target.targetid==db.Fiberassign.targetid)\\\n",
    "                   .join(db.Exposure, db.Fiberassign.tileid==db.Exposure.tileid)\\\n",
    "                   .filter(db.Ztile.spgrp=='cumulative')\\\n",
    "                   .filter(db.Target.desi_target.op('&')(various_lrgs) != 0)\\\n",
    "                   .filter(~db.Exposure.expid.in_(moon_up)).all()"
   ]
  },
  {
   "cell_type": "markdown",
   "metadata": {},
   "source": [
    "Unfortunately however, the database currently only contains cumulative tile redshifts, not per-exposure redshifts, so it's not really meaningful to say whether the Moon was up or not. We'll just call this a work in progress."
   ]
  },
  {
   "cell_type": "code",
   "execution_count": 1,
   "metadata": {},
   "outputs": [
    {
     "ename": "NameError",
     "evalue": "name 'q_up' is not defined",
     "output_type": "error",
     "traceback": [
      "\u001b[0;31m---------------------------------------------------------------------------\u001b[0m",
      "\u001b[0;31mNameError\u001b[0m                                 Traceback (most recent call last)",
      "\u001b[0;32m/tmp/ipykernel_3659/3926946320.py\u001b[0m in \u001b[0;36m<module>\u001b[0;34m\u001b[0m\n\u001b[0;32m----> 1\u001b[0;31m \u001b[0mq_up\u001b[0m\u001b[0;34m\u001b[0m\u001b[0;34m\u001b[0m\u001b[0m\n\u001b[0m",
      "\u001b[0;31mNameError\u001b[0m: name 'q_up' is not defined"
     ]
    }
   ],
   "source": [
    "#q_up"
   ]
  },
  {
   "cell_type": "code",
   "execution_count": 116,
   "metadata": {},
   "outputs": [],
   "source": [
    "#q_dn"
   ]
  },
  {
   "cell_type": "markdown",
   "metadata": {},
   "source": [
    "## Survey Progress\n",
    "\n",
    "Let's see which nights have data, and count the number of exposures per night.\n",
    "\n",
    "```SQL\n",
    "SELECT e.night, COUNT(e.expid) AS n_exp FROM fuji.exposure AS e GROUP BY e.night ORDER BY e.night;\n",
    "```"
   ]
  },
  {
   "cell_type": "code",
   "execution_count": 54,
   "metadata": {},
   "outputs": [
    {
     "data": {
      "text/plain": [
       "[(20201214, 17),\n",
       " (20201215, 23),\n",
       " (20201216, 24),\n",
       " (20201217, 7),\n",
       " (20201218, 27),\n",
       " (20201219, 34),\n",
       " (20201220, 29),\n",
       " (20201221, 46),\n",
       " (20201222, 24),\n",
       " (20201223, 29),\n",
       " (20210101, 33),\n",
       " (20210102, 44),\n",
       " (20210103, 42),\n",
       " (20210105, 37),\n",
       " (20210106, 27),\n",
       " (20210107, 45),\n",
       " (20210108, 25),\n",
       " (20210109, 38),\n",
       " (20210110, 26),\n",
       " (20210111, 25),\n",
       " (20210114, 1),\n",
       " (20210115, 35),\n",
       " (20210116, 39),\n",
       " (20210130, 24),\n",
       " (20210131, 16),\n",
       " (20210201, 7),\n",
       " (20210202, 16),\n",
       " (20210203, 15),\n",
       " (20210204, 9),\n",
       " (20210205, 53),\n",
       " (20210206, 27),\n",
       " (20210208, 36),\n",
       " (20210212, 19),\n",
       " (20210214, 34),\n",
       " (20210215, 11),\n",
       " (20210216, 28),\n",
       " (20210217, 19),\n",
       " (20210218, 25),\n",
       " (20210220, 27),\n",
       " (20210221, 31),\n",
       " (20210222, 16),\n",
       " (20210223, 22),\n",
       " (20210224, 17),\n",
       " (20210228, 7),\n",
       " (20210304, 15),\n",
       " (20210305, 27),\n",
       " (20210306, 36),\n",
       " (20210308, 19),\n",
       " (20210309, 34),\n",
       " (20210313, 5),\n",
       " (20210314, 25),\n",
       " (20210315, 1),\n",
       " (20210316, 14),\n",
       " (20210317, 9),\n",
       " (20210318, 31),\n",
       " (20210319, 43),\n",
       " (20210320, 9),\n",
       " (20210321, 25),\n",
       " (20210322, 25),\n",
       " (20210324, 29),\n",
       " (20210326, 7),\n",
       " (20210327, 25),\n",
       " (20210328, 11),\n",
       " (20210331, 8),\n",
       " (20210401, 14),\n",
       " (20210402, 30),\n",
       " (20210403, 22),\n",
       " (20210404, 32),\n",
       " (20210405, 16),\n",
       " (20210406, 37),\n",
       " (20210407, 35),\n",
       " (20210408, 24),\n",
       " (20210409, 29),\n",
       " (20210410, 32),\n",
       " (20210411, 14),\n",
       " (20210412, 33),\n",
       " (20210413, 26),\n",
       " (20210414, 23),\n",
       " (20210415, 14),\n",
       " (20210416, 35),\n",
       " (20210417, 33),\n",
       " (20210418, 26),\n",
       " (20210419, 21),\n",
       " (20210420, 24),\n",
       " (20210422, 9),\n",
       " (20210424, 10),\n",
       " (20210425, 10),\n",
       " (20210428, 14),\n",
       " (20210429, 14),\n",
       " (20210430, 27),\n",
       " (20210501, 14),\n",
       " (20210502, 19),\n",
       " (20210503, 26),\n",
       " (20210504, 27),\n",
       " (20210505, 32),\n",
       " (20210506, 26),\n",
       " (20210507, 27),\n",
       " (20210508, 26),\n",
       " (20210509, 19),\n",
       " (20210510, 25),\n",
       " (20210511, 23),\n",
       " (20210512, 31),\n",
       " (20210513, 23),\n",
       " (20210517, 3),\n",
       " (20210518, 3),\n",
       " (20210521, 1),\n",
       " (20210529, 16),\n",
       " (20210610, 1)]"
      ]
     },
     "execution_count": 54,
     "metadata": {},
     "output_type": "execute_result"
    }
   ],
   "source": [
    "q = db.dbSession.query(db.Exposure.night, func.count(db.Exposure.expid).label('n_exp')).group_by(db.Exposure.night).order_by(db.Exposure.night).all()\n",
    "q"
   ]
  },
  {
   "cell_type": "markdown",
   "metadata": {},
   "source": [
    "Observation timestamp for a given night.  Note how we have both MJD and a corresponding `datetime.datetime` object in the database.\n",
    "\n",
    "```SQL\n",
    "SELECT e.expid, e.mjd, e.date_obs FROM fuji.exposure AS e WHERE e.night = 20210428 ORDER BY e.expid;\n",
    "```"
   ]
  },
  {
   "cell_type": "code",
   "execution_count": 55,
   "metadata": {},
   "outputs": [
    {
     "data": {
      "text/plain": [
       "[(86493, 59333.21675472, datetime.datetime(2021, 4, 29, 5, 12, 7, 607808, tzinfo=datetime.timezone.utc)),\n",
       " (86494, 59333.22358025, datetime.datetime(2021, 4, 29, 5, 21, 57, 333600, tzinfo=datetime.timezone.utc)),\n",
       " (86495, 59333.2315314, datetime.datetime(2021, 4, 29, 5, 33, 24, 312960, tzinfo=datetime.timezone.utc)),\n",
       " (86503, 59333.30986707, datetime.datetime(2021, 4, 29, 7, 26, 12, 514848, tzinfo=datetime.timezone.utc)),\n",
       " (86504, 59333.32705906, datetime.datetime(2021, 4, 29, 7, 50, 57, 902784, tzinfo=datetime.timezone.utc)),\n",
       " (86505, 59333.33191879, datetime.datetime(2021, 4, 29, 7, 57, 57, 783456, tzinfo=datetime.timezone.utc)),\n",
       " (86507, 59333.37990237, datetime.datetime(2021, 4, 29, 9, 7, 3, 564768, tzinfo=datetime.timezone.utc)),\n",
       " (86508, 59333.38628676, datetime.datetime(2021, 4, 29, 9, 16, 15, 176064, tzinfo=datetime.timezone.utc)),\n",
       " (86509, 59333.39238268, datetime.datetime(2021, 4, 29, 9, 25, 1, 863552, tzinfo=datetime.timezone.utc)),\n",
       " (86511, 59333.40257555, datetime.datetime(2021, 4, 29, 9, 39, 42, 527520, tzinfo=datetime.timezone.utc)),\n",
       " (86513, 59333.42909248, datetime.datetime(2021, 4, 29, 10, 17, 53, 590272, tzinfo=datetime.timezone.utc)),\n",
       " (86514, 59333.44268804, datetime.datetime(2021, 4, 29, 10, 37, 28, 246656, tzinfo=datetime.timezone.utc)),\n",
       " (86515, 59333.4531637, datetime.datetime(2021, 4, 29, 10, 52, 33, 343680, tzinfo=datetime.timezone.utc)),\n",
       " (86518, 59333.46402557, datetime.datetime(2021, 4, 29, 11, 8, 11, 809248, tzinfo=datetime.timezone.utc))]"
      ]
     },
     "execution_count": 55,
     "metadata": {},
     "output_type": "execute_result"
    }
   ],
   "source": [
    "q = db.dbSession.query(db.Exposure.expid, db.Exposure.mjd, db.Exposure.date_obs).filter(db.Exposure.night == 20210428).order_by(db.Exposure.expid).all()\n",
    "q"
   ]
  },
  {
   "cell_type": "markdown",
   "metadata": {},
   "source": [
    "So, for a given target in the `target` table, when was the observation completed?  In other words, if a target has multiple observations, we want the date of the *last* observation.  First, how many targets are there?\n",
    "\n",
    "```SQL\n",
    "SELECT COUNT(*) FROM fuji.target;\n",
    "```"
   ]
  },
  {
   "cell_type": "code",
   "execution_count": 56,
   "metadata": {},
   "outputs": [
    {
     "data": {
      "text/plain": [
       "16460561"
      ]
     },
     "execution_count": 56,
     "metadata": {},
     "output_type": "execute_result"
    }
   ],
   "source": [
    "N_targets = db.dbSession.query(db.Target).count()\n",
    "N_targets"
   ]
  },
  {
   "cell_type": "markdown",
   "metadata": {},
   "source": [
    "Now we look for targets that have observations and find the MJD of the observation.\n",
    "\n",
    "```SQL\n",
    "SELECT f.targetid, e.expid, e.mjd FROM fuji.fiberassign AS f\n",
    "    JOIN (SELECT tt.targetid FROM fuji.target AS tt JOIN fuji.fiberassign AS ff ON tt.targetid = ff.targetid\n",
    "              JOIN fuji.exposure AS ee ON ff.tileid = ee.tileid GROUP BY tt.targetid) AS q1 ON f.targetid = q1.targetid\n",
    "    JOIN fuji.exposure AS e ON f.tileid = e.tileid ORDER BY q1.targetid, e.expid;\n",
    "```"
   ]
  },
  {
   "cell_type": "code",
   "execution_count": 57,
   "metadata": {},
   "outputs": [],
   "source": [
    "#\n",
    "# Find all targetids that have observations.\n",
    "#\n",
    "q1 = db.dbSession.query(db.Target.targetid).filter(db.Target.targetid == db.Fiberassign.targetid).filter(db.Fiberassign.tileid == db.Exposure.tileid).group_by(db.Target.targetid).subquery()\n",
    "#\n",
    "# Find the exposure times for the targetids that have been observed\n",
    "#\n",
    "q2 = db.dbSession.query(db.Fiberassign.targetid, db.Exposure.expid, db.Exposure.mjd).filter(db.Fiberassign.targetid == q1.c.targetid).filter(db.Fiberassign.tileid == db.Exposure.tileid).order_by(q1.c.targetid, db.Exposure.expid).all()\n",
    "targetid, expid, mjd = zip(*q2)\n",
    "targetid = np.array(targetid)\n",
    "expid = np.array(expid)\n",
    "mjd = np.array(mjd)\n",
    "#\n",
    "# Use the counts to give the *last* observation.\n",
    "#\n",
    "unique_targetid, i, j, c = np.unique(targetid, return_index=True, return_inverse=True, return_counts=True)\n",
    "unique_expid = expid[i + (c-1)]\n",
    "unique_mjd = mjd[i + (c-1)]"
   ]
  },
  {
   "cell_type": "markdown",
   "metadata": {},
   "source": [
    "Now we have the targets and the date of last observation.  But it's sorted by `targetid`."
   ]
  },
  {
   "cell_type": "code",
   "execution_count": 124,
   "metadata": {},
   "outputs": [],
   "source": [
    "ii = unique_expid.argsort()\n",
    "unique_targetid, i3, j3, c3 = np.unique(unique_expid[ii], return_index=True, return_inverse=True, return_counts=True)\n",
    "N_completed = np.cumsum(c3)"
   ]
  },
  {
   "cell_type": "code",
   "execution_count": 125,
   "metadata": {},
   "outputs": [
    {
     "data": {
      "image/png": "[encoded data removed]",
      "text/plain": [
       "<Figure size 800x800 with 1 Axes>"
      ]
     },
     "metadata": {
      "needs_background": "light"
     },
     "output_type": "display_data"
    }
   ],
   "source": [
    "min_mjd = 10*(int(mjd.min())//10)\n",
    "fig, axes = plt.subplots(1, 1, figsize=(8, 8), dpi=100)\n",
    "p1 = axes.plot(unique_mjd[ii][i3] - min_mjd, N_completed/N_targets, 'k-')\n",
    "foo = axes.set_xlabel(f'MJD - {min_mjd:d}')\n",
    "foo = axes.set_ylabel('Fraction completed')\n",
    "foo = axes.grid(True)\n",
    "# foo = axes.legend(loc=1)"
   ]
  },
  {
   "cell_type": "markdown",
   "metadata": {},
   "source": [
    "### Exercise\n",
    "\n",
    "* Break down the progress by target class, target bit, etc."
   ]
  },
  {
   "cell_type": "markdown",
   "metadata": {},
   "source": [
    "## Using Relationships in SQLAlchemy\n",
    "\n",
    "Here we demonstrate how table relationships can simplify certain queries. First we grab a single `db.Exposure` object.\n",
    "\n",
    "```SQL\n",
    "SELECT * FROM fuji.exposure where expid = 86507;\n",
    "```"
   ]
  },
  {
   "cell_type": "code",
   "execution_count": 126,
   "metadata": {},
   "outputs": [
    {
     "data": {
      "text/plain": [
       "Exposure(night=20210428, expid=86507, tileid=401)"
      ]
     },
     "execution_count": 126,
     "metadata": {},
     "output_type": "execute_result"
    }
   ],
   "source": [
    "exposure = db.dbSession.query(db.Exposure).filter(db.Exposure.expid == 86507).one()\n",
    "exposure"
   ]
  },
  {
   "cell_type": "markdown",
   "metadata": {},
   "source": [
    "How do we get the `db.Frame` objects associated with this exposure?"
   ]
  },
  {
   "cell_type": "code",
   "execution_count": 134,
   "metadata": {},
   "outputs": [
    {
     "data": {
      "text/plain": [
       "[Frame(expid=86507, camera='b0'),\n",
       " Frame(expid=86507, camera='b1'),\n",
       " Frame(expid=86507, camera='b2'),\n",
       " Frame(expid=86507, camera='b3'),\n",
       " Frame(expid=86507, camera='b4'),\n",
       " Frame(expid=86507, camera='b5'),\n",
       " Frame(expid=86507, camera='b6'),\n",
       " Frame(expid=86507, camera='b7'),\n",
       " Frame(expid=86507, camera='b8'),\n",
       " Frame(expid=86507, camera='b9'),\n",
       " Frame(expid=86507, camera='r0'),\n",
       " Frame(expid=86507, camera='r1'),\n",
       " Frame(expid=86507, camera='r2'),\n",
       " Frame(expid=86507, camera='r3'),\n",
       " Frame(expid=86507, camera='r4'),\n",
       " Frame(expid=86507, camera='r5'),\n",
       " Frame(expid=86507, camera='r6'),\n",
       " Frame(expid=86507, camera='r7'),\n",
       " Frame(expid=86507, camera='r8'),\n",
       " Frame(expid=86507, camera='r9'),\n",
       " Frame(expid=86507, camera='z0'),\n",
       " Frame(expid=86507, camera='z1'),\n",
       " Frame(expid=86507, camera='z2'),\n",
       " Frame(expid=86507, camera='z3'),\n",
       " Frame(expid=86507, camera='z4'),\n",
       " Frame(expid=86507, camera='z5'),\n",
       " Frame(expid=86507, camera='z6'),\n",
       " Frame(expid=86507, camera='z7'),\n",
       " Frame(expid=86507, camera='z8'),\n",
       " Frame(expid=86507, camera='z9')]"
      ]
     },
     "execution_count": 134,
     "metadata": {},
     "output_type": "execute_result"
    }
   ],
   "source": [
    "exposure.frames"
   ]
  },
  {
   "cell_type": "markdown",
   "metadata": {},
   "source": [
    "What tile is associated with this exposure?"
   ]
  },
  {
   "cell_type": "code",
   "execution_count": 129,
   "metadata": {},
   "outputs": [
    {
     "data": {
      "text/plain": [
       "Tile(tileid=401)"
      ]
     },
     "execution_count": 129,
     "metadata": {},
     "output_type": "execute_result"
    }
   ],
   "source": [
    "exposure.tile"
   ]
  },
  {
   "cell_type": "markdown",
   "metadata": {},
   "source": [
    "What fiberassignments were made on this tile?"
   ]
  },
  {
   "cell_type": "code",
   "execution_count": 130,
   "metadata": {},
   "outputs": [
    {
     "data": {
      "text/plain": [
       "[Fiberassign(tileid=401, targetid=2305843019003212516, location=1483),\n",
       " Fiberassign(tileid=401, targetid=2305843019003213608, location=1464),\n",
       " Fiberassign(tileid=401, targetid=2305843019003212073, location=521),\n",
       " Fiberassign(tileid=401, targetid=2305843019003213545, location=520),\n",
       " Fiberassign(tileid=401, targetid=2305843019003224230, location=519),\n",
       " Fiberassign(tileid=401, targetid=2305843019003217368, location=505),\n",
       " Fiberassign(tileid=401, targetid=2305843019003207059, location=1416),\n",
       " Fiberassign(tileid=401, targetid=2305843019003208522, location=1418),\n",
       " Fiberassign(tileid=401, targetid=2305843019003205573, location=1442),\n",
       " Fiberassign(tileid=401, targetid=2305843019003214342, location=1443),\n",
       " Fiberassign(tileid=401, targetid=2305843019003213965, location=1420),\n",
       " Fiberassign(tileid=401, targetid=2305843019003214124, location=1396),\n",
       " Fiberassign(tileid=401, targetid=2305843019003213725, location=1419),\n",
       " Fiberassign(tileid=401, targetid=2305843019003215192, location=1395),\n",
       " Fiberassign(tileid=401, targetid=2305843019003208095, location=1374),\n",
       " Fiberassign(tileid=401, targetid=2305843019003211928, location=1375),\n",
       " Fiberassign(tileid=401, targetid=2305843019003211718, location=1353),\n",
       " Fiberassign(tileid=401, targetid=2305843019003207769, location=1394),\n",
       " Fiberassign(tileid=401, targetid=2305843019003215028, location=458),\n",
       " Fiberassign(tileid=401, targetid=2305843019003213324, location=1352)]"
      ]
     },
     "execution_count": 130,
     "metadata": {},
     "output_type": "execute_result"
    }
   ],
   "source": [
    "exposure.tile.fiberassign[:20]"
   ]
  },
  {
   "cell_type": "markdown",
   "metadata": {},
   "source": [
    "What redshifts were measured on this tile?"
   ]
  },
  {
   "cell_type": "code",
   "execution_count": 131,
   "metadata": {},
   "outputs": [
    {
     "data": {
      "text/plain": [
       "[Ztile(targetid=2305843019007400014, tileid=401, spgrp='cumulative', spgrpval=20210428),\n",
       " Ztile(targetid=2305843019007397295, tileid=401, spgrp='cumulative', spgrpval=20210428),\n",
       " Ztile(targetid=2305843019007394719, tileid=401, spgrp='cumulative', spgrpval=20210428),\n",
       " Ztile(targetid=2305843019007399070, tileid=401, spgrp='cumulative', spgrpval=20210428),\n",
       " Ztile(targetid=2305843019007396417, tileid=401, spgrp='cumulative', spgrpval=20210428),\n",
       " Ztile(targetid=2305843019007394531, tileid=401, spgrp='cumulative', spgrpval=20210428),\n",
       " Ztile(targetid=2305843019007398261, tileid=401, spgrp='cumulative', spgrpval=20210428),\n",
       " Ztile(targetid=2305843019007400147, tileid=401, spgrp='cumulative', spgrpval=20210428),\n",
       " Ztile(targetid=2305843019007399056, tileid=401, spgrp='cumulative', spgrpval=20210428),\n",
       " Ztile(targetid=2305843019007397105, tileid=401, spgrp='cumulative', spgrpval=20210428),\n",
       " Ztile(targetid=2305843019007398534, tileid=401, spgrp='cumulative', spgrpval=20210428),\n",
       " Ztile(targetid=2305843019187755013, tileid=401, spgrp='cumulative', spgrpval=20210428),\n",
       " Ztile(targetid=2305843019007398658, tileid=401, spgrp='cumulative', spgrpval=20210428),\n",
       " Ztile(targetid=2305843019187758275, tileid=401, spgrp='cumulative', spgrpval=20210428),\n",
       " Ztile(targetid=2305843019007396767, tileid=401, spgrp='cumulative', spgrpval=20210428),\n",
       " Ztile(targetid=2305843019187761495, tileid=401, spgrp='cumulative', spgrpval=20210428),\n",
       " Ztile(targetid=2305843019007394990, tileid=401, spgrp='cumulative', spgrpval=20210428),\n",
       " Ztile(targetid=2305843019007396345, tileid=401, spgrp='cumulative', spgrpval=20210428),\n",
       " Ztile(targetid=2305843019187750339, tileid=401, spgrp='cumulative', spgrpval=20210428),\n",
       " Ztile(targetid=2305843019007394609, tileid=401, spgrp='cumulative', spgrpval=20210428)]"
      ]
     },
     "execution_count": 131,
     "metadata": {},
     "output_type": "execute_result"
    }
   ],
   "source": [
    "exposure.tile.ztile_redshifts[:20]"
   ]
  },
  {
   "cell_type": "code",
   "execution_count": 153,
   "metadata": {},
   "outputs": [
    {
     "data": {
      "text/plain": [
       "2480"
      ]
     },
     "execution_count": 153,
     "metadata": {},
     "output_type": "execute_result"
    }
   ],
   "source": [
    "q = db.dbSession.query(db.Exposure)\n",
    "q.count()"
   ]
  },
  {
   "cell_type": "code",
   "execution_count": 154,
   "metadata": {},
   "outputs": [],
   "source": [
    "qr = [exp for exp in q if len(exp.frames) != 30]"
   ]
  },
  {
   "cell_type": "code",
   "execution_count": 160,
   "metadata": {},
   "outputs": [
    {
     "data": {
      "text/plain": [
       "59307.45171179"
      ]
     },
     "execution_count": 160,
     "metadata": {},
     "output_type": "execute_result"
    }
   ],
   "source": [
    "qr[10].frames[0].mjd"
   ]
  },
  {
   "cell_type": "markdown",
   "metadata": {
    "jp-MarkdownHeadingCollapsed": true,
    "tags": []
   },
   "source": [
    "### Exercise\n",
    "\n",
    "* Rewrite example queries above using relationships wherever possible."
   ]
  },
  {
   "cell_type": "markdown",
   "metadata": {},
   "source": [
    "## Using q3c in SQLAlchemy\n",
    "\n",
    "[q3c](https://github.com/segasai/q3c) ([Koposov & Bartunov 2006](https://ui.adsabs.harvard.edu/abs/2006ASPC..351..735K/abstract)) is a popular library that provides spatial indexing and searching in astronomical databases. Here we'll demonstrate how to access this functionality in SQLAlchemy.  Any database function is accessible with `sqlalchemy.sql.func`.  This is a radial (\"cone\") search on an arbitrary point in the DESI footprint:\n",
    "\n",
    "```SQL\n",
    "SELECT p.*, z.*, q3c_dist(p.ra, p.dec, 180.0, 0.0) AS radial_distance\n",
    "    FROM fuji.photometry AS p JOIN fuji.zpix AS z ON p.targetid = z.targetid\n",
    "    WHERE q3c_radial_query(p.ra, p.dec, 180.0, 0.0, 1.0/60.0); -- 1 arcmin\n",
    "```"
   ]
  },
  {
   "cell_type": "code",
   "execution_count": 161,
   "metadata": {},
   "outputs": [
    {
     "data": {
      "text/plain": [
       "[(Photometry(targetid=39627787744581338), Zpix(targetid=39627787744581338, survey='sv1', program='dark'), 0.0155553060060447),\n",
       " (Photometry(targetid=39627787744581338), Zpix(targetid=39627787744581338, survey='sv3', program='dark'), 0.0155553060060447),\n",
       " (Photometry(targetid=39627787744581419), Zpix(targetid=39627787744581419, survey='sv3', program='bright'), 0.0162460808451895),\n",
       " (Photometry(targetid=2305843037487501690), Zpix(targetid=2305843037487501690, survey='sv3', program='backup'), 0.0155599700637323),\n",
       " (Photometry(targetid=39627787744581040), Zpix(targetid=39627787744581040, survey='sv3', program='bright'), 0.0166239589966163),\n",
       " (Photometry(targetid=39627787744581068), Zpix(targetid=39627787744581068, survey='sv3', program='bright'), 0.0154899710431295),\n",
       " (Photometry(targetid=39627787744581408), Zpix(targetid=39627787744581408, survey='sv3', program='bright'), 0.00272573517354215),\n",
       " (Photometry(targetid=39627787748769959), Zpix(targetid=39627787748769959, survey='sv3', program='dark'), 0.00594359048938907)]"
      ]
     },
     "execution_count": 161,
     "metadata": {},
     "output_type": "execute_result"
    }
   ],
   "source": [
    "q = db.dbSession.query(db.Photometry, db.Zpix, func.q3c_dist(db.Photometry.ra, db.Photometry.dec, 180.0, 0.0).label(\"radial_distance\")).join(db.Zpix).filter(func.q3c_radial_query(db.Photometry.ra, db.Photometry.dec, 180.0, 0.0, 1.0/60.0)).all()  # 1 arcmin\n",
    "q"
   ]
  },
  {
   "cell_type": "markdown",
   "metadata": {},
   "source": [
    "### Exercise\n",
    "\n",
    "* What spectra are near your favourite object?"
   ]
  },
  {
   "cell_type": "code",
   "execution_count": null,
   "metadata": {},
   "outputs": [],
   "source": []
  }
 ],
 "metadata": {
  "kernelspec": {
   "display_name": "DESI main",
   "language": "python",
   "name": "desi-main"
  },
  "language_info": {
   "codemirror_mode": {
    "name": "ipython",
    "version": 3
   },
   "file_extension": ".py",
   "mimetype": "text/x-python",
   "name": "python",
   "nbconvert_exporter": "python",
   "pygments_lexer": "ipython3",
   "version": "3.10.8"
  }
 },
 "nbformat": 4,
 "nbformat_minor": 4
}
