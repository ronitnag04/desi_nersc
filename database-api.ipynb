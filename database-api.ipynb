{
 "cells": [
  {
   "cell_type": "markdown",
   "id": "af0eecab-f0ab-4ebd-8967-4989a390d765",
   "metadata": {
    "tags": []
   },
   "source": [
    "# Setup"
   ]
  },
  {
   "cell_type": "code",
   "execution_count": 13,
   "id": "466f229f-398f-44a3-b616-061f0dc30b52",
   "metadata": {},
   "outputs": [
    {
     "name": "stdout",
     "output_type": "stream",
     "text": [
      "Defaulting to user installation because normal site-packages is not writeable\n",
      "Requirement already satisfied: flask in /global/u2/r/ronitnag/.local/lib/python3.10/site-packages (2.2.3)\n",
      "Requirement already satisfied: Werkzeug>=2.2.2 in /global/u2/r/ronitnag/.local/lib/python3.10/site-packages (from flask) (2.2.3)\n",
      "Requirement already satisfied: click>=8.0 in /global/common/software/desi/perlmutter/desiconda/20230111-2.1.0/conda/lib/python3.10/site-packages (from flask) (8.1.3)\n",
      "Requirement already satisfied: Jinja2>=3.0 in /global/common/software/desi/perlmutter/desiconda/20230111-2.1.0/conda/lib/python3.10/site-packages (from flask) (3.1.2)\n",
      "Requirement already satisfied: itsdangerous>=2.0 in /global/u2/r/ronitnag/.local/lib/python3.10/site-packages (from flask) (2.1.2)\n",
      "Requirement already satisfied: MarkupSafe>=2.0 in /global/common/software/desi/perlmutter/desiconda/20230111-2.1.0/conda/lib/python3.10/site-packages (from Jinja2>=3.0->flask) (2.1.1)\n"
     ]
    }
   ],
   "source": [
    "! pip install flask"
   ]
  },
  {
   "cell_type": "code",
   "execution_count": 14,
   "id": "9ed315fb-99e1-48d6-96ee-a35d4f7b3396",
   "metadata": {},
   "outputs": [],
   "source": [
    "import sys\n",
    "sys.path\n",
    "sys.path.append('/global/homes/r/ronitnag/.local/lib/python3.9/site-packages')\n",
    "from flask import Flask, request, jsonify"
   ]
  },
  {
   "cell_type": "code",
   "execution_count": 15,
   "id": "96b45718-38c8-48cf-9c79-60a68cc0901a",
   "metadata": {},
   "outputs": [],
   "source": [
    "from sqlalchemy.sql import func\n",
    "#\n",
    "# DESI software\n",
    "import desispec.database.redshift as db\n",
    "specprod = 'fuji'\n",
    "\n",
    "# Database Setup\n",
    "postgresql = db.setup_db(schema=specprod, hostname='nerscdb03.nersc.gov', username='desi')\n",
    "\n",
    "#Flask Setup\n",
    "app = Flask(__name__)"
   ]
  },
  {
   "cell_type": "code",
   "execution_count": 16,
   "id": "9ab4ff0b-7e3b-4c50-b5df-71009f7de04d",
   "metadata": {},
   "outputs": [],
   "source": [
    "valid_spectypes = {'GALAXY', 'STAR', 'QSO'}\n",
    "valid_subtypes = {'CV', 'M', 'G', 'K'}\n",
    "default_limit = 100"
   ]
  },
  {
   "cell_type": "markdown",
   "id": "76f70b37-7e76-4e59-bd5c-811d22e85c00",
   "metadata": {
    "tags": []
   },
   "source": [
    "# Helper Methods"
   ]
  },
  {
   "cell_type": "code",
   "execution_count": 17,
   "id": "9b061d38-3713-442f-a202-c0fe121d3c35",
   "metadata": {},
   "outputs": [],
   "source": [
    "def filter_query(q, db_ref, body, z_min=-1.0, z_max=6.0, spectype=None, subtype=None, limit=None, start=None, end=None):\n",
    "    \"\"\"\n",
    "    Filters query based on options and provided reference table\n",
    "    @Params:\n",
    "        q (SQLAlchemy Query): Query object to apply filters\n",
    "        db_ref (SQLAlchemy DeclarativeMeta): Table to use to apply filters (either Zpix or Ztile)\n",
    "    \n",
    "    @Returns:\n",
    "        q (SQLAlchemy Query): Query object after filters have been applied\n",
    "    \"\"\"\n",
    "    z_min = body.get('z_min', -1.0)\n",
    "    z_max = body.get('z_max', 6.0)\n",
    "    spectype = body.get('spectype', None)\n",
    "    subtype = body.get('subtype', None)\n",
    "    limit = body.get('limit', None)\n",
    "    start = body.get('start', None)\n",
    "    end = body.get('end', None)\n",
    "    if (z_min > z_max):\n",
    "        raise ValueError(f'z_min({z_min}) must be less than z_max({z_max})')\n",
    "    if (spectype and spectype not in valid_spectypes):\n",
    "        raise ValueError(f'Spectype {spectype} is not valid. Choose from available spectypes: {valid_spectypes}')\n",
    "    \n",
    "    if (subtype and subtype not in valid_subtypes):\n",
    "        raise ValueError(f'Subtype {subtype} is not valid. Choose from available subtypes: {valid_subtypes}')\n",
    "        \n",
    "    if (spectype and subtype and spectype != 'STAR'):\n",
    "        raise ValueError('Only STAR spectype currently have subtypes')\n",
    "    \n",
    "    q = q.filter(db_ref.z >= z_min).filter(db_ref.z <= z_max)\n",
    "    if spectype:\n",
    "        q = q.filter(db_ref.spectype == spectype)\n",
    "    if subtype:\n",
    "        q = q.filter(db_ref.subtype == subtype)\n",
    "    \n",
    "    count = q.count()\n",
    "    \n",
    "    if limit is not None:\n",
    "        if start is not None and end is not None:\n",
    "            raise ValueError('Cannot handle limit and start/end arguments to filter query')\n",
    "        elif (start is not None and end is None):\n",
    "            q = q.offset(start).limit(limit)\n",
    "        elif (end is not None and start is None):\n",
    "            if end-limit < 0:\n",
    "                raise IndexError(f'Invalid end argument {end} for provided limit {limit}')\n",
    "            else:\n",
    "                q = q.offset(end-limit).limit(limit)\n",
    "        else:\n",
    "            q = q.limit(limit)\n",
    "    else:\n",
    "        if start is None and end is None:\n",
    "            q.limit(default_limit)\n",
    "        elif start is None or end is None:\n",
    "            raise ValueError(f'Must provide both start and end parameters if limit is not provided')\n",
    "        elif end <= start:\n",
    "            raise ValueError(f'Start parameter {start} must be less than end parameter {end}')\n",
    "        else:\n",
    "            q = q.offset(start).limit(end-start)\n",
    "    \n",
    "    return q"
   ]
  },
  {
   "cell_type": "code",
   "execution_count": 18,
   "id": "1641e208-9061-4ab1-ac75-824997b29d93",
   "metadata": {},
   "outputs": [],
   "source": [
    "def formatJSON(q):\n",
    "    results = []\n",
    "    for target in q.all():\n",
    "        print(type(target))\n",
    "        print(dict(target._mapping))\n",
    "        results.append(dict(target._mapping))\n",
    "    with app.app_context():\n",
    "        return jsonify(results)"
   ]
  },
  {
   "cell_type": "markdown",
   "id": "c29a7b9b-1e80-49ef-a137-0c67fb7cb1a8",
   "metadata": {},
   "source": [
    "# API Endpoints"
   ]
  },
  {
   "cell_type": "code",
   "execution_count": 19,
   "id": "6f97d261-d864-4e3a-b351-2c45a76fba59",
   "metadata": {},
   "outputs": [],
   "source": [
    "def getRedshiftByTargetID(targetID):\n",
    "    \"\"\" \n",
    "    @Params: \n",
    "        targetID (BIGINT): Big Integer representing which object to query for redshift\n",
    "    \n",
    "    @Returns:\n",
    "        z (DOUBLE): Redshift of the first object \n",
    "    \"\"\"\n",
    "    targetID = int(targetID)\n",
    "    if (targetID < 0):\n",
    "        raise ValueError(f'Target ID {targetID} is invalid')\n",
    "    \n",
    "    q = db.dbSession.query(db.Zpix.z).filter(db.Zpix.targetid == targetID)\n",
    "    \n",
    "    if (q.first() is None):\n",
    "        raise ValueError(f'Target ID {targetID} was not found')\n",
    "    if (q.count() > 1):\n",
    "        print(f'More than one redshift value found for target: {targetID}. Returning first found')\n",
    "        \n",
    "    z = q[0][0]\n",
    "    return z"
   ]
  },
  {
   "cell_type": "code",
   "execution_count": 20,
   "id": "abc6eb6d-3aef-4d89-b971-8f9eb8f734f2",
   "metadata": {},
   "outputs": [
    {
     "data": {
      "text/plain": [
       "-4.66664293252988e-05"
      ]
     },
     "execution_count": 20,
     "metadata": {},
     "output_type": "execute_result"
    }
   ],
   "source": [
    "getRedshiftByTargetID(39628438604088190)"
   ]
  },
  {
   "cell_type": "code",
   "execution_count": 21,
   "id": "f72cf3a7-3c5a-4163-83b9-100cf693efff",
   "metadata": {},
   "outputs": [],
   "source": [
    "def getRedshiftsByTileID(body):\n",
    "    \"\"\" \n",
    "    @Params: \n",
    "        body (DICT): Contains query parameters.\n",
    "            MUST CONTAIN: tileID, (limit/start/end)\n",
    "            OPTIONAL: spectype, subtype, z_min, z_max\n",
    "    \n",
    "    @Returns:\n",
    "        results (JSON): JSON Object (targetID, redshift) containing the targetIDs and associated \n",
    "                  redshifts for targets found in provided tileID.     \n",
    "    \"\"\"\n",
    "    # body = request.get_json()\n",
    "    tileID = body['tileID']\n",
    "    \n",
    "    if (tileID < 1):\n",
    "        raise ValueError(f'Tile ID {tileID} is invalid')                         \n",
    "  \n",
    "    q = db.dbSession.query(db.Ztile.targetid, db.Ztile.z).filter(db.Ztile.tileid == tileID)\n",
    "    \n",
    "    if (q.first() is None):\n",
    "        raise ValueError(f'Tile ID {tileID} was not found')\n",
    "    \n",
    "    q = filter_query(q, db.Ztile, body)\n",
    "    return formatJSON(q)"
   ]
  },
  {
   "cell_type": "code",
   "execution_count": 22,
   "id": "cdf90ece-7cdc-41ec-bb51-02ba822e8ee5",
   "metadata": {},
   "outputs": [
    {
     "name": "stdout",
     "output_type": "stream",
     "text": [
      "<class 'sqlalchemy.engine.row.Row'>\n",
      "{'targetid': 39633149646341246, 'z': 0.840532532904315}\n",
      "<class 'sqlalchemy.engine.row.Row'>\n",
      "{'targetid': 39633123209643991, 'z': -0.00199569129234795}\n",
      "<class 'sqlalchemy.engine.row.Row'>\n",
      "{'targetid': 39633145267490337, 'z': 0.000441978242000794}\n",
      "<class 'sqlalchemy.engine.row.Row'>\n",
      "{'targetid': 39633145271681767, 'z': -0.00199569129234795}\n",
      "<class 'sqlalchemy.engine.row.Row'>\n",
      "{'targetid': 39633149637951967, 'z': 1.2497758987796}\n",
      "<class 'sqlalchemy.engine.row.Row'>\n",
      "{'targetid': 39633149637952037, 'z': 0.755642641997885}\n",
      "<class 'sqlalchemy.engine.row.Row'>\n",
      "{'targetid': 39633145267489278, 'z': 0.986790786461522}\n",
      "<class 'sqlalchemy.engine.row.Row'>\n",
      "{'targetid': 39633149637953471, 'z': 1.37466122192437}\n",
      "<class 'sqlalchemy.engine.row.Row'>\n",
      "{'targetid': 39633145267489903, 'z': 1.4928476773864}\n",
      "<class 'sqlalchemy.engine.row.Row'>\n",
      "{'targetid': 39633149637951997, 'z': 1.35234920490745}\n"
     ]
    }
   ],
   "source": [
    "r = getRedshiftsByTileID({\"tileID\":330, \"limit\":10})"
   ]
  },
  {
   "cell_type": "code",
   "execution_count": 25,
   "id": "52824d13-78f5-4c49-a462-f45632148736",
   "metadata": {},
   "outputs": [
    {
     "data": {
      "text/plain": [
       "b'[{\"targetid\":39633149646341246,\"z\":0.840532532904315},{\"targetid\":39633123209643991,\"z\":-0.00199569129234795},{\"targetid\":39633145267490337,\"z\":0.000441978242000794},{\"targetid\":39633145271681767,\"z\":-0.00199569129234795},{\"targetid\":39633149637951967,\"z\":1.2497758987796},{\"targetid\":39633149637952037,\"z\":0.755642641997885},{\"targetid\":39633145267489278,\"z\":0.986790786461522},{\"targetid\":39633149637953471,\"z\":1.37466122192437},{\"targetid\":39633145267489903,\"z\":1.4928476773864},{\"targetid\":39633149637951997,\"z\":1.35234920490745}]\\n'"
      ]
     },
     "execution_count": 25,
     "metadata": {},
     "output_type": "execute_result"
    }
   ],
   "source": [
    "r.get_data()"
   ]
  },
  {
   "cell_type": "code",
   "execution_count": null,
   "id": "9b3b33d9-32d6-4e00-8897-508e450d2010",
   "metadata": {},
   "outputs": [],
   "source": []
  },
  {
   "cell_type": "code",
   "execution_count": null,
   "id": "d5a41624-c1ed-4d49-944d-f9aef9747b14",
   "metadata": {},
   "outputs": [],
   "source": []
  }
 ],
 "metadata": {
  "kernelspec": {
   "display_name": "DESI main",
   "language": "python",
   "name": "desi-main"
  },
  "language_info": {
   "codemirror_mode": {
    "name": "ipython",
    "version": 3
   },
   "file_extension": ".py",
   "mimetype": "text/x-python",
   "name": "python",
   "nbconvert_exporter": "python",
   "pygments_lexer": "ipython3",
   "version": "3.10.8"
  }
 },
 "nbformat": 4,
 "nbformat_minor": 5
}
